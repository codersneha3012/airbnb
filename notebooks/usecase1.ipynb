{
 "cells": [
  {
   "cell_type": "markdown",
   "id": "8faa1c1e",
   "metadata": {},
   "source": [
    "## Finding Fake/Duplicate Records\n",
    "Commonly known as Data Dedupication & Record Linkage\n",
    "Ref: https://www.kaggle.com/code/caesarlupum/deduping-record-linkage"
   ]
  },
  {
   "cell_type": "code",
   "execution_count": null,
   "id": "0f02a279",
   "metadata": {},
   "outputs": [],
   "source": [
    "!pip install nltk"
   ]
  },
  {
   "cell_type": "code",
   "execution_count": null,
   "id": "db7c5ead",
   "metadata": {},
   "outputs": [],
   "source": [
    "import nltk\n",
    "nltk.download('stopwords')\n",
    "nltktk.download('punkt')"
   ]
  },
  {
   "cell_type": "code",
   "execution_count": 2,
   "id": "7186b985",
   "metadata": {},
   "outputs": [],
   "source": [
    "from datetime import datetime, date\n",
    "import pandas as pd\n",
    "import numpy as np\n",
    "import matplotlib.pyplot as plt\n",
    "import seaborn as sns\n",
    "import string\n",
    "import re\n",
    "from sklearn.feature_extraction.text import TfidfVectorizer\n",
    "from sklearn.preprocessing import FunctionTransformer\n",
    "from sklearn.pipeline import FeatureUnion, Pipeline\n",
    "import re\n",
    "import string\n",
    "from nltk.tokenize import word_tokenize, sent_tokenize\n",
    "from nltk.corpus import stopwords\n",
    "from nltk.stem import PorterStemmer # or LancasterStemmer, RegexpStemmer, SnowballStemmer\n",
    "\n",
    "default_stemmer = PorterStemmer()\n",
    "default_stopwords = stopwords.words('english') # or any other list of your choice\n",
    "\n",
    "%matplotlib inline"
   ]
  },
  {
   "cell_type": "code",
   "execution_count": 64,
   "id": "548e7071",
   "metadata": {},
   "outputs": [],
   "source": [
    "df = pd.read_csv('../data/listings.csv')"
   ]
  },
  {
   "cell_type": "code",
   "execution_count": 65,
   "id": "8cf67538",
   "metadata": {},
   "outputs": [
    {
     "data": {
      "text/html": [
       "<div>\n",
       "<style scoped>\n",
       "    .dataframe tbody tr th:only-of-type {\n",
       "        vertical-align: middle;\n",
       "    }\n",
       "\n",
       "    .dataframe tbody tr th {\n",
       "        vertical-align: top;\n",
       "    }\n",
       "\n",
       "    .dataframe thead th {\n",
       "        text-align: right;\n",
       "    }\n",
       "</style>\n",
       "<table border=\"1\" class=\"dataframe\">\n",
       "  <thead>\n",
       "    <tr style=\"text-align: right;\">\n",
       "      <th></th>\n",
       "      <th>id</th>\n",
       "      <th>listing_url</th>\n",
       "      <th>scrape_id</th>\n",
       "      <th>last_scraped</th>\n",
       "      <th>source</th>\n",
       "      <th>name</th>\n",
       "      <th>description</th>\n",
       "      <th>neighborhood_overview</th>\n",
       "      <th>picture_url</th>\n",
       "      <th>host_id</th>\n",
       "      <th>...</th>\n",
       "      <th>review_scores_communication</th>\n",
       "      <th>review_scores_location</th>\n",
       "      <th>review_scores_value</th>\n",
       "      <th>license</th>\n",
       "      <th>instant_bookable</th>\n",
       "      <th>calculated_host_listings_count</th>\n",
       "      <th>calculated_host_listings_count_entire_homes</th>\n",
       "      <th>calculated_host_listings_count_private_rooms</th>\n",
       "      <th>calculated_host_listings_count_shared_rooms</th>\n",
       "      <th>reviews_per_month</th>\n",
       "    </tr>\n",
       "  </thead>\n",
       "  <tbody>\n",
       "    <tr>\n",
       "      <th>0</th>\n",
       "      <td>528022</td>\n",
       "      <td>https://www.airbnb.com/rooms/528022</td>\n",
       "      <td>20221205143541</td>\n",
       "      <td>2022-12-05</td>\n",
       "      <td>city scrape</td>\n",
       "      <td>Somewhere Else</td>\n",
       "      <td>Highlights&lt;br /&gt;*Located only 5 minutes from C...</td>\n",
       "      <td>NaN</td>\n",
       "      <td>https://a0.muscache.com/pictures/bf6fa79c-5863...</td>\n",
       "      <td>2594559</td>\n",
       "      <td>...</td>\n",
       "      <td>4.90</td>\n",
       "      <td>4.78</td>\n",
       "      <td>4.72</td>\n",
       "      <td>0363 9289 A94D 5C21 A579</td>\n",
       "      <td>f</td>\n",
       "      <td>1</td>\n",
       "      <td>0</td>\n",
       "      <td>1</td>\n",
       "      <td>0</td>\n",
       "      <td>3.30</td>\n",
       "    </tr>\n",
       "    <tr>\n",
       "      <th>1</th>\n",
       "      <td>2818</td>\n",
       "      <td>https://www.airbnb.com/rooms/2818</td>\n",
       "      <td>20221205143541</td>\n",
       "      <td>2022-12-05</td>\n",
       "      <td>city scrape</td>\n",
       "      <td>Quiet Garden View Room &amp; Super Fast Wi-Fi</td>\n",
       "      <td>Quiet Garden View Room &amp; Super Fast Wi-Fi&lt;br /...</td>\n",
       "      <td>Indische Buurt (\"Indies Neighborhood\") is a ne...</td>\n",
       "      <td>https://a0.muscache.com/pictures/10272854/8dcc...</td>\n",
       "      <td>3159</td>\n",
       "      <td>...</td>\n",
       "      <td>4.98</td>\n",
       "      <td>4.69</td>\n",
       "      <td>4.81</td>\n",
       "      <td>0363 5F3A 5684 6750 D14D</td>\n",
       "      <td>f</td>\n",
       "      <td>1</td>\n",
       "      <td>0</td>\n",
       "      <td>1</td>\n",
       "      <td>0</td>\n",
       "      <td>1.88</td>\n",
       "    </tr>\n",
       "    <tr>\n",
       "      <th>2</th>\n",
       "      <td>20168</td>\n",
       "      <td>https://www.airbnb.com/rooms/20168</td>\n",
       "      <td>20221205143541</td>\n",
       "      <td>2022-12-05</td>\n",
       "      <td>previous scrape</td>\n",
       "      <td>Studio with private bathroom in the centre 1</td>\n",
       "      <td>17th century Dutch townhouse in the heart of t...</td>\n",
       "      <td>Located just in between famous central canals....</td>\n",
       "      <td>https://a0.muscache.com/pictures/69979628/fd6a...</td>\n",
       "      <td>59484</td>\n",
       "      <td>...</td>\n",
       "      <td>4.62</td>\n",
       "      <td>4.87</td>\n",
       "      <td>4.49</td>\n",
       "      <td>0363 CBB3 2C10 0C2A 1E29</td>\n",
       "      <td>t</td>\n",
       "      <td>2</td>\n",
       "      <td>0</td>\n",
       "      <td>2</td>\n",
       "      <td>0</td>\n",
       "      <td>2.18</td>\n",
       "    </tr>\n",
       "    <tr>\n",
       "      <th>3</th>\n",
       "      <td>27886</td>\n",
       "      <td>https://www.airbnb.com/rooms/27886</td>\n",
       "      <td>20221205143541</td>\n",
       "      <td>2022-12-05</td>\n",
       "      <td>city scrape</td>\n",
       "      <td>Romantic, stylish B&amp;B houseboat in canal district</td>\n",
       "      <td>Stylish and romantic houseboat on fantastic hi...</td>\n",
       "      <td>Central, quiet, safe, clean and beautiful.</td>\n",
       "      <td>https://a0.muscache.com/pictures/02c2da9d-660e...</td>\n",
       "      <td>97647</td>\n",
       "      <td>...</td>\n",
       "      <td>4.92</td>\n",
       "      <td>4.89</td>\n",
       "      <td>4.79</td>\n",
       "      <td>0363 974D 4986 7411 88D8</td>\n",
       "      <td>t</td>\n",
       "      <td>1</td>\n",
       "      <td>0</td>\n",
       "      <td>1</td>\n",
       "      <td>0</td>\n",
       "      <td>1.83</td>\n",
       "    </tr>\n",
       "    <tr>\n",
       "      <th>4</th>\n",
       "      <td>28871</td>\n",
       "      <td>https://www.airbnb.com/rooms/28871</td>\n",
       "      <td>20221205143541</td>\n",
       "      <td>2022-12-05</td>\n",
       "      <td>city scrape</td>\n",
       "      <td>Comfortable double room</td>\n",
       "      <td>&lt;b&gt;The space&lt;/b&gt;&lt;br /&gt;In a monumental house ri...</td>\n",
       "      <td>Flower market , Leidseplein , Rembrantsplein</td>\n",
       "      <td>https://a0.muscache.com/pictures/160889/362340...</td>\n",
       "      <td>124245</td>\n",
       "      <td>...</td>\n",
       "      <td>4.94</td>\n",
       "      <td>4.97</td>\n",
       "      <td>4.83</td>\n",
       "      <td>0363 607B EA74 0BD8 2F6F</td>\n",
       "      <td>f</td>\n",
       "      <td>2</td>\n",
       "      <td>0</td>\n",
       "      <td>2</td>\n",
       "      <td>0</td>\n",
       "      <td>3.03</td>\n",
       "    </tr>\n",
       "  </tbody>\n",
       "</table>\n",
       "<p>5 rows × 75 columns</p>\n",
       "</div>"
      ],
      "text/plain": [
       "       id                          listing_url       scrape_id last_scraped  \\\n",
       "0  528022  https://www.airbnb.com/rooms/528022  20221205143541   2022-12-05   \n",
       "1    2818    https://www.airbnb.com/rooms/2818  20221205143541   2022-12-05   \n",
       "2   20168   https://www.airbnb.com/rooms/20168  20221205143541   2022-12-05   \n",
       "3   27886   https://www.airbnb.com/rooms/27886  20221205143541   2022-12-05   \n",
       "4   28871   https://www.airbnb.com/rooms/28871  20221205143541   2022-12-05   \n",
       "\n",
       "            source                                               name  \\\n",
       "0      city scrape                                     Somewhere Else   \n",
       "1      city scrape          Quiet Garden View Room & Super Fast Wi-Fi   \n",
       "2  previous scrape       Studio with private bathroom in the centre 1   \n",
       "3      city scrape  Romantic, stylish B&B houseboat in canal district   \n",
       "4      city scrape                            Comfortable double room   \n",
       "\n",
       "                                         description  \\\n",
       "0  Highlights<br />*Located only 5 minutes from C...   \n",
       "1  Quiet Garden View Room & Super Fast Wi-Fi<br /...   \n",
       "2  17th century Dutch townhouse in the heart of t...   \n",
       "3  Stylish and romantic houseboat on fantastic hi...   \n",
       "4  <b>The space</b><br />In a monumental house ri...   \n",
       "\n",
       "                               neighborhood_overview  \\\n",
       "0                                                NaN   \n",
       "1  Indische Buurt (\"Indies Neighborhood\") is a ne...   \n",
       "2  Located just in between famous central canals....   \n",
       "3         Central, quiet, safe, clean and beautiful.   \n",
       "4       Flower market , Leidseplein , Rembrantsplein   \n",
       "\n",
       "                                         picture_url  host_id  ...  \\\n",
       "0  https://a0.muscache.com/pictures/bf6fa79c-5863...  2594559  ...   \n",
       "1  https://a0.muscache.com/pictures/10272854/8dcc...     3159  ...   \n",
       "2  https://a0.muscache.com/pictures/69979628/fd6a...    59484  ...   \n",
       "3  https://a0.muscache.com/pictures/02c2da9d-660e...    97647  ...   \n",
       "4  https://a0.muscache.com/pictures/160889/362340...   124245  ...   \n",
       "\n",
       "  review_scores_communication review_scores_location review_scores_value  \\\n",
       "0                        4.90                   4.78                4.72   \n",
       "1                        4.98                   4.69                4.81   \n",
       "2                        4.62                   4.87                4.49   \n",
       "3                        4.92                   4.89                4.79   \n",
       "4                        4.94                   4.97                4.83   \n",
       "\n",
       "                    license instant_bookable calculated_host_listings_count  \\\n",
       "0  0363 9289 A94D 5C21 A579                f                              1   \n",
       "1  0363 5F3A 5684 6750 D14D                f                              1   \n",
       "2  0363 CBB3 2C10 0C2A 1E29                t                              2   \n",
       "3  0363 974D 4986 7411 88D8                t                              1   \n",
       "4  0363 607B EA74 0BD8 2F6F                f                              2   \n",
       "\n",
       "  calculated_host_listings_count_entire_homes  \\\n",
       "0                                           0   \n",
       "1                                           0   \n",
       "2                                           0   \n",
       "3                                           0   \n",
       "4                                           0   \n",
       "\n",
       "  calculated_host_listings_count_private_rooms  \\\n",
       "0                                            1   \n",
       "1                                            1   \n",
       "2                                            2   \n",
       "3                                            1   \n",
       "4                                            2   \n",
       "\n",
       "  calculated_host_listings_count_shared_rooms reviews_per_month  \n",
       "0                                           0              3.30  \n",
       "1                                           0              1.88  \n",
       "2                                           0              2.18  \n",
       "3                                           0              1.83  \n",
       "4                                           0              3.03  \n",
       "\n",
       "[5 rows x 75 columns]"
      ]
     },
     "execution_count": 65,
     "metadata": {},
     "output_type": "execute_result"
    }
   ],
   "source": [
    "df.head()"
   ]
  },
  {
   "cell_type": "code",
   "execution_count": 67,
   "id": "a4590047",
   "metadata": {},
   "outputs": [
    {
     "data": {
      "text/plain": [
       "Index(['id', 'listing_url', 'scrape_id', 'last_scraped', 'source', 'name',\n",
       "       'description', 'neighborhood_overview', 'picture_url', 'host_id',\n",
       "       'host_url', 'host_name', 'host_since', 'host_location', 'host_about',\n",
       "       'host_response_time', 'host_response_rate', 'host_acceptance_rate',\n",
       "       'host_is_superhost', 'host_thumbnail_url', 'host_picture_url',\n",
       "       'host_neighbourhood', 'host_listings_count',\n",
       "       'host_total_listings_count', 'host_verifications',\n",
       "       'host_has_profile_pic', 'host_identity_verified', 'neighbourhood',\n",
       "       'neighbourhood_cleansed', 'neighbourhood_group_cleansed', 'latitude',\n",
       "       'longitude', 'property_type', 'room_type', 'accommodates', 'bathrooms',\n",
       "       'bathrooms_text', 'bedrooms', 'beds', 'amenities', 'price',\n",
       "       'minimum_nights', 'maximum_nights', 'minimum_minimum_nights',\n",
       "       'maximum_minimum_nights', 'minimum_maximum_nights',\n",
       "       'maximum_maximum_nights', 'minimum_nights_avg_ntm',\n",
       "       'maximum_nights_avg_ntm', 'calendar_updated', 'has_availability',\n",
       "       'availability_30', 'availability_60', 'availability_90',\n",
       "       'availability_365', 'calendar_last_scraped', 'number_of_reviews',\n",
       "       'number_of_reviews_ltm', 'number_of_reviews_l30d', 'first_review',\n",
       "       'last_review', 'review_scores_rating', 'review_scores_accuracy',\n",
       "       'review_scores_cleanliness', 'review_scores_checkin',\n",
       "       'review_scores_communication', 'review_scores_location',\n",
       "       'review_scores_value', 'license', 'instant_bookable',\n",
       "       'calculated_host_listings_count',\n",
       "       'calculated_host_listings_count_entire_homes',\n",
       "       'calculated_host_listings_count_private_rooms',\n",
       "       'calculated_host_listings_count_shared_rooms', 'reviews_per_month'],\n",
       "      dtype='object')"
      ]
     },
     "execution_count": 67,
     "metadata": {},
     "output_type": "execute_result"
    }
   ],
   "source": [
    "# Since this is a data deduplication problem, we're interested in data uploaded by the host, let's print list of columns to find out those columns\n",
    "df.columns"
   ]
  },
  {
   "cell_type": "code",
   "execution_count": 72,
   "id": "11c98259",
   "metadata": {},
   "outputs": [
    {
     "data": {
      "text/plain": [
       "array(['Amsterdam, Netherlands', 'Netherlands',\n",
       "       'Nieuw Sloten, Netherlands', 'New York, NY',\n",
       "       'London, United Kingdom', 'De Pijp, Netherlands',\n",
       "       'La Cala de Mijas, Spain', 'Heerhugowaard, Netherlands',\n",
       "       'Haarlem, Netherlands', nan, 'Warmond, Netherlands',\n",
       "       'The Hague, Netherlands', 'Zandvoort, Netherlands',\n",
       "       'Harlingen, Netherlands', 'Berlin, Germany',\n",
       "       'Enkhuizen, Netherlands', 'Bentveld, Netherlands',\n",
       "       'Washington, DC', 'Hilversum, Netherlands',\n",
       "       'Nijmegen, Netherlands', 'Nieuwendam, Netherlands',\n",
       "       'Heemskerk, Netherlands', 'Chicago, IL', 'Brasov, Romania',\n",
       "       'Katwoude, Netherlands', 'Nederland, CO', 'Leusden, Netherlands',\n",
       "       'Nieuwegein, Netherlands', 'Amstelveen, Netherlands',\n",
       "       'Sydney, Australia', 'Paris, France', 'Vinkeveen, Netherlands',\n",
       "       'Bergen, Netherlands', 'Eemnes, Netherlands',\n",
       "       'Schoorl, Netherlands', 'Malaysia', 'İstanbul, Turkey',\n",
       "       'Bogotá, Colombia', 'Germany', 'Hamburg, Germany',\n",
       "       'Kraków, Poland', 'Ouderkerk aan de Amstel, Netherlands',\n",
       "       'Muiden, Netherlands', 'Wageningen, Netherlands', 'Milan, Italy',\n",
       "       'Vught, Netherlands', \"'s-Hertogenbosch, Netherlands\",\n",
       "       'Duivendrecht, Netherlands', 'Miami Beach, FL',\n",
       "       'Naarden, Netherlands', 'Diemen, Netherlands',\n",
       "       'Muiderberg, Netherlands', 'Zürich, Switzerland', 'Spain',\n",
       "       'Apeldoorn, Netherlands', 'Den Dolder, Netherlands',\n",
       "       'Utrecht, Netherlands', 'Rotterdam, Netherlands',\n",
       "       'Huizen, Netherlands', 'Marbella, Spain',\n",
       "       'Bournemouth, United Kingdom', 'Noordwijk, Netherlands',\n",
       "       'United States', 'Auckland, New Zealand',\n",
       "       'Lasswade, United Kingdom', 'Los Angeles, CA',\n",
       "       'Copenhagen, Denmark', 'Rio, Brazil', 'Bussum, Netherlands',\n",
       "       'Helsinki, Finland', 'Maastricht, Netherlands',\n",
       "       'Groningen, Netherlands', 'Echt, Netherlands',\n",
       "       'Leiden, Netherlands', 'Espoo, Finland', 'Amsterdam, NY',\n",
       "       'Budapest, Hungary', 'Balearic Islands, Spain',\n",
       "       'Bertrange, Luxembourg', 'Istanbul, Turkey',\n",
       "       'Hoofddorp, Netherlands', 'Alkmaar, Netherlands', 'San Diego, CA',\n",
       "       'Sint-Martens-Latem, Belgium', 'Workum, Netherlands',\n",
       "       'Castricum, Netherlands', 'Massagno, Switzerland', 'Leon, Mexico',\n",
       "       'Laren, Netherlands', 'Lijnden, Netherlands',\n",
       "       'Landsmeer, Netherlands', 'Providence, RI', 'Wergea, Netherlands',\n",
       "       'Australia', 'Joure, Netherlands', 'Madrid, Spain',\n",
       "       'Zoutelande, Netherlands', 'North Province, New Caledonia',\n",
       "       'Dublin, Ireland', 'Toulouse, France', 'Cologne, Germany',\n",
       "       'France', 'Brasília, Brazil', 'Saint-André-lez-Lille, France',\n",
       "       'Lisserbroek, Netherlands', 'Cannes, France', 'Singapore',\n",
       "       'Plaisance, Italy', 'San Francisco, CA', 'Tbilisi, Georgia',\n",
       "       'Nieuwerkerk aan den IJssel, Netherlands',\n",
       "       'Point Piper, Australia', 'De Kwakel, Netherlands',\n",
       "       'Breda, Netherlands', 'Aalborg, Denmark',\n",
       "       'England, United Kingdom', 'Delft, Netherlands',\n",
       "       'Buenos Aires, Argentina', 'Lisbon, Portugal',\n",
       "       'Eindhoven, Netherlands', 'Melbourne, Australia',\n",
       "       'Cascais, Portugal', 'Amersfoort, Netherlands', 'Belgium',\n",
       "       'Uithoorn, Netherlands', 'Düsseldorf, Germany',\n",
       "       'Sneek, Netherlands', 'Tilburg, Netherlands', 'São Paulo, Brazil',\n",
       "       'Kortenberg, Belgium', 'Zwanenburg, Netherlands',\n",
       "       'Tel Aviv, Israel', 'Oisterwijk, Netherlands',\n",
       "       'Rathmines, Ireland', 'Dublin, OH', 'Porto, Portugal',\n",
       "       'Heemstede, Netherlands', 'Tielt-Winge, Belgium',\n",
       "       'Zaandam, Netherlands', 'Belgrade, Serbia',\n",
       "       'Leidschendam, Netherlands', 'Millersville, PA',\n",
       "       'Ginsheim-Gustavsburg, Germany', 'Cape Town, South Africa',\n",
       "       'Rio de Janeiro, Brazil', 'Dulwich, United Kingdom',\n",
       "       'Gallarate, Italy', 'Nuremberg, Germany', 'Frankfurt, Germany'],\n",
       "      dtype=object)"
      ]
     },
     "execution_count": 72,
     "metadata": {},
     "output_type": "execute_result"
    }
   ],
   "source": [
    "df['host_location'].unique()"
   ]
  },
  {
   "cell_type": "code",
   "execution_count": null,
   "id": "801ea10b",
   "metadata": {},
   "outputs": [],
   "source": [
    "selectedcols = ['name', 'description', 'neighborhood_overview', 'host_id',\n",
    "       'host_name', 'host_since', 'host_location', 'host_about',\n",
    "       'host_response_time', 'host_response_rate', 'host_acceptance_rate',\n",
    "       'host_is_superhost', 'host_thumbnail_url', 'host_picture_url',\n",
    "       'host_neighbourhood', 'host_verifications',\n",
    "       'host_has_profile_pic', 'host_identity_verified', 'neighbourhood',\n",
    "       'neighbourhood_cleansed', 'neighbourhood_group_cleansed', 'latitude',\n",
    "       'longitude', 'property_type', 'room_type', 'accommodates', 'bathrooms',\n",
    "       'bathrooms_text', 'bedrooms', 'beds', 'amenities', 'price',\n",
    "       'minimum_nights', 'maximum_nights', 'has_availability',\n",
    "       'availability_30', 'availability_60', 'availability_90',\n",
    "       'availability_365']"
   ]
  },
  {
   "cell_type": "code",
   "execution_count": null,
   "id": "06bcea7e",
   "metadata": {},
   "outputs": [],
   "source": [
    "df = df[selectedcols]\n",
    "df.head()"
   ]
  },
  {
   "cell_type": "code",
   "execution_count": null,
   "id": "0549a1ed",
   "metadata": {},
   "outputs": [],
   "source": [
    "# Now lets first understand and work on numerical columns\n",
    "df.describe()"
   ]
  },
  {
   "cell_type": "code",
   "execution_count": null,
   "id": "7825bd61",
   "metadata": {},
   "outputs": [],
   "source": [
    "# drop nan columns\n",
    "nan_cols = ['bathrooms',\n",
    "           'neighbourhood_group_cleansed']\n",
    "df.drop(nan_cols, axis=1, inplace=True)\n",
    "df.describe()"
   ]
  },
  {
   "cell_type": "code",
   "execution_count": null,
   "id": "5b256790",
   "metadata": {},
   "outputs": [],
   "source": [
    "# Get list of text columns\n",
    "objcols = df.select_dtypes('object').columns\n",
    "objcols"
   ]
  },
  {
   "cell_type": "code",
   "execution_count": null,
   "id": "eaf26330",
   "metadata": {},
   "outputs": [],
   "source": [
    "# Lets drop picture urls\n",
    "drop_cols = ['host_thumbnail_url', 'host_picture_url']\n",
    "df.drop(drop_cols, axis=1, inplace=True)"
   ]
  },
  {
   "cell_type": "code",
   "execution_count": null,
   "id": "de8fc652",
   "metadata": {},
   "outputs": [],
   "source": [
    "# host_name\n",
    "df['host_name'].str.lower().value_counts()"
   ]
  },
  {
   "cell_type": "code",
   "execution_count": null,
   "id": "9019d5dd",
   "metadata": {},
   "outputs": [],
   "source": [
    "no = df['neighborhood_overview'].astype('str')\n",
    "len(no[0])"
   ]
  },
  {
   "cell_type": "code",
   "execution_count": null,
   "id": "6b397439",
   "metadata": {},
   "outputs": [],
   "source": [
    "# host_since\n",
    "def age(born):\n",
    "    born = datetime.strptime(born, \"%Y-%m-%d\").date()\n",
    "    today = date.today()\n",
    "    return today.year - born.year - ((today.month, \n",
    "                                      today.day) < (born.month, \n",
    "                                                    born.day))\n",
    "df['age'] = df['host_since'].apply(age)\n",
    "df['age']\n",
    "df.drop('host_since', axis=1, inplace=True)\n",
    "df.head()"
   ]
  },
  {
   "cell_type": "code",
   "execution_count": null,
   "id": "b7165f68",
   "metadata": {},
   "outputs": [],
   "source": [
    "# host_location, Most of the values are similar so can be dropped\n",
    "df['host_location'].value_counts()\n",
    "df.drop('host_location', axis=1, inplace=True)"
   ]
  },
  {
   "cell_type": "code",
   "execution_count": null,
   "id": "3ab746a5",
   "metadata": {},
   "outputs": [],
   "source": [
    "# host_about"
   ]
  },
  {
   "cell_type": "code",
   "execution_count": null,
   "id": "be8b2128",
   "metadata": {},
   "outputs": [],
   "source": [
    "# host_response_time\n",
    "df['host_response_time'].value_counts()\n",
    "df['host_response_time'].replace(['within an hour', 'within a few hours', 'within a day', 'a few days or more'],\n",
    "                                [1, 2, 3, 4], inplace=True)\n",
    "df['host_response_time'] = df['host_response_time'].astype('int64')"
   ]
  },
  {
   "cell_type": "code",
   "execution_count": null,
   "id": "0f6ea6ce",
   "metadata": {},
   "outputs": [],
   "source": [
    "# Lot of null values are there, but this can be important depictor of host behaviour and property, so let's impute\n",
    "df['host_response_time'].isnull().value_counts()"
   ]
  },
  {
   "cell_type": "code",
   "execution_count": null,
   "id": "a4d1c78f",
   "metadata": {},
   "outputs": [],
   "source": [
    "sns.boxplot(df.host_response_time)\n",
    "#\n",
    "# Distribution plot\n",
    "#\n",
    "sns.distplot(df.host_response_time)"
   ]
  },
  {
   "cell_type": "code",
   "execution_count": null,
   "id": "aefc47be",
   "metadata": {},
   "outputs": [],
   "source": [
    "# Lets fill with median value\n",
    "df['host_response_time'] = df['host_response_time'].fillna(df['host_response_time'].median())\n",
    "df['host_response_time'].isnull().value_counts()"
   ]
  },
  {
   "cell_type": "code",
   "execution_count": null,
   "id": "9883c7c0",
   "metadata": {},
   "outputs": [],
   "source": [
    "# host_response_rate\n",
    "df['host_response_rate'].isnull().value_counts()"
   ]
  },
  {
   "cell_type": "code",
   "execution_count": null,
   "id": "2040ae7c",
   "metadata": {},
   "outputs": [],
   "source": []
  },
  {
   "cell_type": "code",
   "execution_count": null,
   "id": "04515c96",
   "metadata": {},
   "outputs": [],
   "source": [
    "# host_acceptance_rate"
   ]
  },
  {
   "cell_type": "code",
   "execution_count": null,
   "id": "6f58cebf",
   "metadata": {},
   "outputs": [],
   "source": [
    "# host_is_superhost"
   ]
  },
  {
   "cell_type": "code",
   "execution_count": null,
   "id": "19da7555",
   "metadata": {},
   "outputs": [],
   "source": []
  },
  {
   "cell_type": "code",
   "execution_count": null,
   "id": "05d7611f",
   "metadata": {},
   "outputs": [],
   "source": []
  },
  {
   "cell_type": "markdown",
   "id": "2e3e13d5",
   "metadata": {},
   "source": [
    "## Let's create a simple dataset from property columns"
   ]
  },
  {
   "cell_type": "code",
   "execution_count": 5,
   "id": "8f20bfdb",
   "metadata": {},
   "outputs": [],
   "source": [
    "selectedcols = ['name', 'description', 'neighborhood_overview', 'neighbourhood',\n",
    "       'neighbourhood_cleansed', 'neighbourhood_group_cleansed', 'latitude',\n",
    "       'longitude', 'property_type', 'room_type', 'accommodates', 'bathrooms',\n",
    "       'bathrooms_text', 'bedrooms', 'beds', 'amenities', 'price',\n",
    "       'minimum_nights', 'maximum_nights', 'has_availability',\n",
    "       'availability_30', 'availability_60', 'availability_90',\n",
    "       'availability_365']"
   ]
  },
  {
   "cell_type": "code",
   "execution_count": 6,
   "id": "3da6c31d",
   "metadata": {},
   "outputs": [
    {
     "data": {
      "text/html": [
       "<div>\n",
       "<style scoped>\n",
       "    .dataframe tbody tr th:only-of-type {\n",
       "        vertical-align: middle;\n",
       "    }\n",
       "\n",
       "    .dataframe tbody tr th {\n",
       "        vertical-align: top;\n",
       "    }\n",
       "\n",
       "    .dataframe thead th {\n",
       "        text-align: right;\n",
       "    }\n",
       "</style>\n",
       "<table border=\"1\" class=\"dataframe\">\n",
       "  <thead>\n",
       "    <tr style=\"text-align: right;\">\n",
       "      <th></th>\n",
       "      <th>name</th>\n",
       "      <th>description</th>\n",
       "      <th>neighborhood_overview</th>\n",
       "      <th>neighbourhood</th>\n",
       "      <th>neighbourhood_cleansed</th>\n",
       "      <th>neighbourhood_group_cleansed</th>\n",
       "      <th>latitude</th>\n",
       "      <th>longitude</th>\n",
       "      <th>property_type</th>\n",
       "      <th>room_type</th>\n",
       "      <th>...</th>\n",
       "      <th>beds</th>\n",
       "      <th>amenities</th>\n",
       "      <th>price</th>\n",
       "      <th>minimum_nights</th>\n",
       "      <th>maximum_nights</th>\n",
       "      <th>has_availability</th>\n",
       "      <th>availability_30</th>\n",
       "      <th>availability_60</th>\n",
       "      <th>availability_90</th>\n",
       "      <th>availability_365</th>\n",
       "    </tr>\n",
       "  </thead>\n",
       "  <tbody>\n",
       "    <tr>\n",
       "      <th>0</th>\n",
       "      <td>Somewhere Else</td>\n",
       "      <td>Highlights&lt;br /&gt;*Located only 5 minutes from C...</td>\n",
       "      <td>NaN</td>\n",
       "      <td>NaN</td>\n",
       "      <td>Westerpark</td>\n",
       "      <td>NaN</td>\n",
       "      <td>52.39114</td>\n",
       "      <td>4.88846</td>\n",
       "      <td>Private room in boat</td>\n",
       "      <td>Private room</td>\n",
       "      <td>...</td>\n",
       "      <td>1.0</td>\n",
       "      <td>[\"Bed linens\", \"Dishes and silverware\", \"Hange...</td>\n",
       "      <td>$100.00</td>\n",
       "      <td>2</td>\n",
       "      <td>30</td>\n",
       "      <td>t</td>\n",
       "      <td>4</td>\n",
       "      <td>16</td>\n",
       "      <td>29</td>\n",
       "      <td>212</td>\n",
       "    </tr>\n",
       "    <tr>\n",
       "      <th>1</th>\n",
       "      <td>Quiet Garden View Room &amp; Super Fast Wi-Fi</td>\n",
       "      <td>Quiet Garden View Room &amp; Super Fast Wi-Fi&lt;br /...</td>\n",
       "      <td>Indische Buurt (\"Indies Neighborhood\") is a ne...</td>\n",
       "      <td>Amsterdam, North Holland, Netherlands</td>\n",
       "      <td>Oostelijk Havengebied - Indische Buurt</td>\n",
       "      <td>NaN</td>\n",
       "      <td>52.36435</td>\n",
       "      <td>4.94358</td>\n",
       "      <td>Private room in rental unit</td>\n",
       "      <td>Private room</td>\n",
       "      <td>...</td>\n",
       "      <td>2.0</td>\n",
       "      <td>[\"Books and reading material\", \"Smoke alarm\", ...</td>\n",
       "      <td>$59.00</td>\n",
       "      <td>3</td>\n",
       "      <td>28</td>\n",
       "      <td>t</td>\n",
       "      <td>6</td>\n",
       "      <td>27</td>\n",
       "      <td>27</td>\n",
       "      <td>27</td>\n",
       "    </tr>\n",
       "    <tr>\n",
       "      <th>2</th>\n",
       "      <td>Studio with private bathroom in the centre 1</td>\n",
       "      <td>17th century Dutch townhouse in the heart of t...</td>\n",
       "      <td>Located just in between famous central canals....</td>\n",
       "      <td>Amsterdam, North Holland, Netherlands</td>\n",
       "      <td>Centrum-Oost</td>\n",
       "      <td>NaN</td>\n",
       "      <td>52.36407</td>\n",
       "      <td>4.89393</td>\n",
       "      <td>Private room in townhouse</td>\n",
       "      <td>Private room</td>\n",
       "      <td>...</td>\n",
       "      <td>1.0</td>\n",
       "      <td>[\"Smoke alarm\", \"Bed linens\", \"Hangers\", \"Wifi...</td>\n",
       "      <td>$106.00</td>\n",
       "      <td>1</td>\n",
       "      <td>365</td>\n",
       "      <td>t</td>\n",
       "      <td>0</td>\n",
       "      <td>0</td>\n",
       "      <td>0</td>\n",
       "      <td>0</td>\n",
       "    </tr>\n",
       "    <tr>\n",
       "      <th>3</th>\n",
       "      <td>Romantic, stylish B&amp;B houseboat in canal district</td>\n",
       "      <td>Stylish and romantic houseboat on fantastic hi...</td>\n",
       "      <td>Central, quiet, safe, clean and beautiful.</td>\n",
       "      <td>Amsterdam, North Holland, Netherlands</td>\n",
       "      <td>Centrum-West</td>\n",
       "      <td>NaN</td>\n",
       "      <td>52.38761</td>\n",
       "      <td>4.89188</td>\n",
       "      <td>Private room in houseboat</td>\n",
       "      <td>Private room</td>\n",
       "      <td>...</td>\n",
       "      <td>1.0</td>\n",
       "      <td>[\"Books and reading material\", \"Smoke alarm\", ...</td>\n",
       "      <td>$140.00</td>\n",
       "      <td>2</td>\n",
       "      <td>356</td>\n",
       "      <td>t</td>\n",
       "      <td>0</td>\n",
       "      <td>17</td>\n",
       "      <td>32</td>\n",
       "      <td>40</td>\n",
       "    </tr>\n",
       "    <tr>\n",
       "      <th>4</th>\n",
       "      <td>Comfortable double room</td>\n",
       "      <td>&lt;b&gt;The space&lt;/b&gt;&lt;br /&gt;In a monumental house ri...</td>\n",
       "      <td>Flower market , Leidseplein , Rembrantsplein</td>\n",
       "      <td>Amsterdam, North Holland, Netherlands</td>\n",
       "      <td>Centrum-West</td>\n",
       "      <td>NaN</td>\n",
       "      <td>52.36775</td>\n",
       "      <td>4.89092</td>\n",
       "      <td>Private room in rental unit</td>\n",
       "      <td>Private room</td>\n",
       "      <td>...</td>\n",
       "      <td>1.0</td>\n",
       "      <td>[\"Smoke alarm\", \"Bed linens\", \"Lock on bedroom...</td>\n",
       "      <td>$75.00</td>\n",
       "      <td>2</td>\n",
       "      <td>1825</td>\n",
       "      <td>t</td>\n",
       "      <td>0</td>\n",
       "      <td>3</td>\n",
       "      <td>8</td>\n",
       "      <td>91</td>\n",
       "    </tr>\n",
       "  </tbody>\n",
       "</table>\n",
       "<p>5 rows × 24 columns</p>\n",
       "</div>"
      ],
      "text/plain": [
       "                                                name  \\\n",
       "0                                     Somewhere Else   \n",
       "1          Quiet Garden View Room & Super Fast Wi-Fi   \n",
       "2       Studio with private bathroom in the centre 1   \n",
       "3  Romantic, stylish B&B houseboat in canal district   \n",
       "4                            Comfortable double room   \n",
       "\n",
       "                                         description  \\\n",
       "0  Highlights<br />*Located only 5 minutes from C...   \n",
       "1  Quiet Garden View Room & Super Fast Wi-Fi<br /...   \n",
       "2  17th century Dutch townhouse in the heart of t...   \n",
       "3  Stylish and romantic houseboat on fantastic hi...   \n",
       "4  <b>The space</b><br />In a monumental house ri...   \n",
       "\n",
       "                               neighborhood_overview  \\\n",
       "0                                                NaN   \n",
       "1  Indische Buurt (\"Indies Neighborhood\") is a ne...   \n",
       "2  Located just in between famous central canals....   \n",
       "3         Central, quiet, safe, clean and beautiful.   \n",
       "4       Flower market , Leidseplein , Rembrantsplein   \n",
       "\n",
       "                           neighbourhood  \\\n",
       "0                                    NaN   \n",
       "1  Amsterdam, North Holland, Netherlands   \n",
       "2  Amsterdam, North Holland, Netherlands   \n",
       "3  Amsterdam, North Holland, Netherlands   \n",
       "4  Amsterdam, North Holland, Netherlands   \n",
       "\n",
       "                   neighbourhood_cleansed  neighbourhood_group_cleansed  \\\n",
       "0                              Westerpark                           NaN   \n",
       "1  Oostelijk Havengebied - Indische Buurt                           NaN   \n",
       "2                            Centrum-Oost                           NaN   \n",
       "3                            Centrum-West                           NaN   \n",
       "4                            Centrum-West                           NaN   \n",
       "\n",
       "   latitude  longitude                property_type     room_type  ...  beds  \\\n",
       "0  52.39114    4.88846         Private room in boat  Private room  ...   1.0   \n",
       "1  52.36435    4.94358  Private room in rental unit  Private room  ...   2.0   \n",
       "2  52.36407    4.89393    Private room in townhouse  Private room  ...   1.0   \n",
       "3  52.38761    4.89188    Private room in houseboat  Private room  ...   1.0   \n",
       "4  52.36775    4.89092  Private room in rental unit  Private room  ...   1.0   \n",
       "\n",
       "                                           amenities    price  minimum_nights  \\\n",
       "0  [\"Bed linens\", \"Dishes and silverware\", \"Hange...  $100.00               2   \n",
       "1  [\"Books and reading material\", \"Smoke alarm\", ...   $59.00               3   \n",
       "2  [\"Smoke alarm\", \"Bed linens\", \"Hangers\", \"Wifi...  $106.00               1   \n",
       "3  [\"Books and reading material\", \"Smoke alarm\", ...  $140.00               2   \n",
       "4  [\"Smoke alarm\", \"Bed linens\", \"Lock on bedroom...   $75.00               2   \n",
       "\n",
       "   maximum_nights has_availability availability_30  availability_60  \\\n",
       "0              30                t               4               16   \n",
       "1              28                t               6               27   \n",
       "2             365                t               0                0   \n",
       "3             356                t               0               17   \n",
       "4            1825                t               0                3   \n",
       "\n",
       "   availability_90 availability_365  \n",
       "0               29              212  \n",
       "1               27               27  \n",
       "2                0                0  \n",
       "3               32               40  \n",
       "4                8               91  \n",
       "\n",
       "[5 rows x 24 columns]"
      ]
     },
     "execution_count": 6,
     "metadata": {},
     "output_type": "execute_result"
    }
   ],
   "source": [
    "df = df[selectedcols]\n",
    "df.head()"
   ]
  },
  {
   "cell_type": "code",
   "execution_count": 7,
   "id": "96554421",
   "metadata": {},
   "outputs": [
    {
     "data": {
      "text/plain": [
       "name                               0\n",
       "description                        8\n",
       "neighborhood_overview           2381\n",
       "neighbourhood                   2381\n",
       "neighbourhood_cleansed             0\n",
       "neighbourhood_group_cleansed    6809\n",
       "latitude                           0\n",
       "longitude                          0\n",
       "property_type                      0\n",
       "room_type                          0\n",
       "accommodates                       0\n",
       "bathrooms                       6809\n",
       "bathrooms_text                    13\n",
       "bedrooms                         286\n",
       "beds                              91\n",
       "amenities                          0\n",
       "price                              0\n",
       "minimum_nights                     0\n",
       "maximum_nights                     0\n",
       "has_availability                   0\n",
       "availability_30                    0\n",
       "availability_60                    0\n",
       "availability_90                    0\n",
       "availability_365                   0\n",
       "dtype: int64"
      ]
     },
     "execution_count": 7,
     "metadata": {},
     "output_type": "execute_result"
    }
   ],
   "source": [
    "df.isna().sum()"
   ]
  },
  {
   "cell_type": "code",
   "execution_count": 8,
   "id": "b7bdbc79",
   "metadata": {},
   "outputs": [],
   "source": [
    "# drop nan columns\n",
    "nan_cols = ['bathrooms',\n",
    "           'neighbourhood_group_cleansed']\n",
    "df.drop(nan_cols, axis=1, inplace=True)"
   ]
  },
  {
   "cell_type": "code",
   "execution_count": 9,
   "id": "19e6301a",
   "metadata": {},
   "outputs": [],
   "source": [
    "# Almost 40-50% rows in neighborhood_overview, neighborhood so lets drop them\n",
    "nan_cols = ['neighborhood_overview',\n",
    "           'neighbourhood']\n",
    "df.drop(nan_cols, axis=1, inplace=True)"
   ]
  },
  {
   "cell_type": "code",
   "execution_count": 10,
   "id": "10f0f48f",
   "metadata": {},
   "outputs": [
    {
     "data": {
      "text/plain": [
       "name                        0\n",
       "description                 8\n",
       "neighbourhood_cleansed      0\n",
       "latitude                    0\n",
       "longitude                   0\n",
       "property_type               0\n",
       "room_type                   0\n",
       "accommodates                0\n",
       "bathrooms_text             13\n",
       "bedrooms                  286\n",
       "beds                       91\n",
       "amenities                   0\n",
       "price                       0\n",
       "minimum_nights              0\n",
       "maximum_nights              0\n",
       "has_availability            0\n",
       "availability_30             0\n",
       "availability_60             0\n",
       "availability_90             0\n",
       "availability_365            0\n",
       "dtype: int64"
      ]
     },
     "execution_count": 10,
     "metadata": {},
     "output_type": "execute_result"
    }
   ],
   "source": [
    "df.isna().sum()"
   ]
  },
  {
   "cell_type": "code",
   "execution_count": 11,
   "id": "8ae34b1c",
   "metadata": {},
   "outputs": [],
   "source": [
    "# Fillna\n",
    "df['description'].fillna('', inplace=True)\n",
    "df['bathrooms_text'].fillna('', inplace=True)\n",
    "df['bedrooms'].fillna(df['bedrooms'].mean(), inplace=True)\n",
    "df['beds'].fillna(df['beds'].mean(), inplace=True)"
   ]
  },
  {
   "cell_type": "code",
   "execution_count": null,
   "id": "74a1b5a8",
   "metadata": {},
   "outputs": [],
   "source": []
  },
  {
   "cell_type": "code",
   "execution_count": null,
   "id": "533294a4",
   "metadata": {},
   "outputs": [],
   "source": []
  },
  {
   "cell_type": "code",
   "execution_count": null,
   "id": "ae4a07ee",
   "metadata": {},
   "outputs": [],
   "source": []
  },
  {
   "cell_type": "code",
   "execution_count": null,
   "id": "bb64c5d7",
   "metadata": {},
   "outputs": [],
   "source": [
    "def ngrams(text, n=3):\n",
    "    text = text.encode(\"ascii\", errors=\"ignore\").decode() #remove non ascii chars\n",
    "    text = text.lower()\n",
    "    text = text.replace('&', ' and ')\n",
    "    text = text.replace(',', ' ')\n",
    "    text = text.replace('-', ' ')\n",
    "#     chars_to_remove = [\")\",\"(\",\".\",\"|\",\"[\",\"]\",\"{\",\"}\",\"'\"]\n",
    "#     rx = '[' + re.escape(''.join(chars_to_remove)) + ']'\n",
    "#     text = re.sub(rx, '', text)\n",
    "    text = [words for words in text if words not in string.punctuation]\n",
    "    text = ' '.join(text)\n",
    "    text = re.sub(' +',' ',text).strip() # get rid of multiple spaces and replace with a single\n",
    "    text = ' '+ text +' ' # pad names for ngrams...\n",
    "    text = re.sub(r'[,-./]|\\sBD',r'', text)\n",
    "    ngrams = zip(*[text[i:] for i in range(n)])\n",
    "    return [''.join(ngram) for ngram in ngrams]\n"
   ]
  },
  {
   "cell_type": "code",
   "execution_count": null,
   "id": "0bd1c149",
   "metadata": {},
   "outputs": [],
   "source": [
    "ngrams(\"Hello\")"
   ]
  },
  {
   "cell_type": "code",
   "execution_count": null,
   "id": "9e260209",
   "metadata": {},
   "outputs": [],
   "source": [
    "property_names = df['name'].unique()\n",
    "vectorizer = TfidfVectorizer(min_df=1, analyzer=ngrams)\n",
    "tf_idf_matrix = vectorizer.fit_transform(property_names)"
   ]
  },
  {
   "cell_type": "code",
   "execution_count": null,
   "id": "394acb0d",
   "metadata": {},
   "outputs": [],
   "source": [
    "tf_idf_matrix.shape"
   ]
  },
  {
   "cell_type": "code",
   "execution_count": 47,
   "id": "ad9ba47b",
   "metadata": {},
   "outputs": [
    {
     "data": {
      "text/plain": [
       "'highlight locat onli 5 minut citi center short distanc central station fast free wifi doubl bed uniqu houseboat space somewher els bed breakfast beauti old ship ‘ cornelia ’ locat oud houthaven 10 minut walk distanc form central station find thi charm b b privat guest accommod old skipper ’ quarter entranc wheelhous side ’ wide view water even toilet thi bed breakfast reflect ultim amsterdam experi friendli atmospher area almost feel like villag thi properti situat old wood harbour onli short walk amsterdam canal jordaan surround first time hop aboard “ cornelia ” houseboat steep histori built 1905 immedi feel relax home co'"
      ]
     },
     "execution_count": 47,
     "metadata": {},
     "output_type": "execute_result"
    }
   ],
   "source": [
    "clean_text(df.iloc[0]['description'])"
   ]
  },
  {
   "cell_type": "code",
   "execution_count": 46,
   "id": "0a0a6386",
   "metadata": {},
   "outputs": [],
   "source": [
    "CLEANR = re.compile('<.*?>') \n",
    "\n",
    "def clean_series(inp_series):\n",
    "    result = inp_series.apply(lambda x: clean_text(x))\n",
    "    return result\n",
    "    \n",
    "def clean_text(text, ):\n",
    "\n",
    "    def tokenize_text(text):\n",
    "        return [w for s in sent_tokenize(text) for w in word_tokenize(s)]\n",
    "    \n",
    "    def remove_html_tags(text):\n",
    "        return re.sub(CLEANR, '', text)\n",
    "\n",
    "    def remove_special_characters(text, characters=string.punctuation.replace('-', '')):\n",
    "        tokens = tokenize_text(text)\n",
    "        pattern = re.compile('[{}]'.format(re.escape(characters)))\n",
    "        return ' '.join(filter(None, [pattern.sub('', t) for t in tokens]))\n",
    "\n",
    "    def stem_text(text, stemmer=default_stemmer):\n",
    "        tokens = tokenize_text(text)\n",
    "        return ' '.join([stemmer.stem(t) for t in tokens])\n",
    "\n",
    "    def remove_stopwords(text, stop_words=default_stopwords):\n",
    "        tokens = [w for w in tokenize_text(text) if w not in stop_words]\n",
    "        return ' '.join(tokens)\n",
    "\n",
    "    text = text.strip(' ') # strip whitespaces\n",
    "    text = text.lower() # lowercase\n",
    "    text = stem_text(text) # stemming\n",
    "    text = remove_html_tags(text)\n",
    "    text = remove_special_characters(text) # remove punctuation and symbols\n",
    "    text = remove_stopwords(text) # remove stopwords\n",
    "    #text.strip(' ') # strip whitespaces again?\n",
    "\n",
    "    return text"
   ]
  },
  {
   "cell_type": "code",
   "execution_count": 13,
   "id": "f52ee3a0",
   "metadata": {},
   "outputs": [
    {
     "data": {
      "text/plain": [
       "FeatureUnion(transformer_list=[('name_tfidf',\n",
       "                                Pipeline(steps=[('extract_field',\n",
       "                                                 FunctionTransformer(func=<function <lambda> at 0x7fa480ff0430>)),\n",
       "                                                ('cleaning',\n",
       "                                                 FunctionTransformer(func=<function clean_series at 0x7fa480ff01f0>)),\n",
       "                                                ('tfidf', TfidfVectorizer())])),\n",
       "                               ('description_tfidf',\n",
       "                                Pipeline(steps=[('extract_field',\n",
       "                                                 FunctionTransformer(func=<function <lambda> at 0x7fa480ff04c0>)),\n",
       "                                                ('cleaning',\n",
       "                                                 FunctionTransformer(func=<function clean_series at 0x7fa480ff01f0>)),\n",
       "                                                ('tfidf',\n",
       "                                                 TfidfVectorizer())]))])"
      ]
     },
     "execution_count": 13,
     "metadata": {},
     "output_type": "execute_result"
    }
   ],
   "source": [
    "transformer = FeatureUnion([\n",
    "                ('name_tfidf', \n",
    "                  Pipeline([('extract_field',\n",
    "                              FunctionTransformer(lambda x: x['name'], \n",
    "                                                  validate=False)),\n",
    "                            ('cleaning', \n",
    "                              FunctionTransformer(clean_series)),\n",
    "                            ('tfidf', \n",
    "                              TfidfVectorizer())])),\n",
    "                ('description_tfidf', \n",
    "                  Pipeline([('extract_field', \n",
    "                              FunctionTransformer(lambda x: x['description'], \n",
    "                                                  validate=False)),\n",
    "                            ('cleaning', \n",
    "                              FunctionTransformer(clean_series)),\n",
    "                            ('tfidf', \n",
    "                              TfidfVectorizer())]))]) \n",
    "\n",
    "transformer.fit(df)\n",
    "\n"
   ]
  },
  {
   "cell_type": "code",
   "execution_count": null,
   "id": "cc0704d2",
   "metadata": {},
   "outputs": [],
   "source": [
    "search_vocab = transformer.transformer_list[0][1].steps[2][1].get_feature_names() \n",
    "product_vocab = transformer.transformer_list[1][1].steps[2][1].get_feature_names()\n",
    "vocab = search_vocab + product_vocab\n",
    "\n",
    "print(vocab)"
   ]
  },
  {
   "cell_type": "code",
   "execution_count": 14,
   "id": "c3029171",
   "metadata": {},
   "outputs": [],
   "source": [
    "tfidf_matrix = transformer.transform(df).toarray()"
   ]
  },
  {
   "cell_type": "code",
   "execution_count": 15,
   "id": "9f8c4d35",
   "metadata": {},
   "outputs": [
    {
     "name": "stdout",
     "output_type": "stream",
     "text": [
      "(6809, 28706) [0. 0. 0. ... 0. 0. 0.]\n"
     ]
    }
   ],
   "source": [
    "print( tfidf_matrix.shape, tfidf_matrix[5] )"
   ]
  },
  {
   "cell_type": "code",
   "execution_count": null,
   "id": "40fa7a10",
   "metadata": {},
   "outputs": [],
   "source": []
  },
  {
   "cell_type": "code",
   "execution_count": null,
   "id": "e2c89365",
   "metadata": {},
   "outputs": [],
   "source": []
  },
  {
   "cell_type": "code",
   "execution_count": null,
   "id": "67121b36",
   "metadata": {},
   "outputs": [],
   "source": []
  },
  {
   "cell_type": "code",
   "execution_count": null,
   "id": "100994a9",
   "metadata": {},
   "outputs": [],
   "source": []
  },
  {
   "cell_type": "markdown",
   "id": "5e74639a",
   "metadata": {},
   "source": [
    "## Record Linkage using KNN"
   ]
  },
  {
   "cell_type": "code",
   "execution_count": 16,
   "id": "75cff16e",
   "metadata": {},
   "outputs": [],
   "source": [
    "from sklearn.model_selection import train_test_split\n",
    "\n",
    "train, test = train_test_split(tfidf_matrix, test_size=0.2)"
   ]
  },
  {
   "cell_type": "code",
   "execution_count": 18,
   "id": "0278190a",
   "metadata": {},
   "outputs": [
    {
     "data": {
      "text/plain": [
       "(1362, 28706)"
      ]
     },
     "execution_count": 18,
     "metadata": {},
     "output_type": "execute_result"
    }
   ],
   "source": [
    "test.shape"
   ]
  },
  {
   "cell_type": "code",
   "execution_count": 48,
   "id": "e03217f8",
   "metadata": {},
   "outputs": [],
   "source": [
    "from sklearn.neighbors import NearestNeighbors\n",
    "nbrs = NearestNeighbors(n_neighbors=2, n_jobs=-1, metric='cosine').fit(train)"
   ]
  },
  {
   "cell_type": "code",
   "execution_count": 49,
   "id": "414e158f",
   "metadata": {},
   "outputs": [],
   "source": [
    "distances, indices = nbrs.kneighbors(tfidf_matrix)"
   ]
  },
  {
   "cell_type": "code",
   "execution_count": 50,
   "id": "0eef28d4",
   "metadata": {},
   "outputs": [
    {
     "data": {
      "text/plain": [
       "array([[8.65256382e-01, 8.78827592e-01],\n",
       "       [6.38080336e-01, 6.91841409e-01],\n",
       "       [0.00000000e+00, 1.99622954e-03],\n",
       "       ...,\n",
       "       [4.44089210e-16, 8.58419724e-01],\n",
       "       [1.11022302e-16, 6.98115164e-01],\n",
       "       [0.00000000e+00, 6.30951830e-01]])"
      ]
     },
     "execution_count": 50,
     "metadata": {},
     "output_type": "execute_result"
    }
   ],
   "source": [
    "distances"
   ]
  },
  {
   "cell_type": "code",
   "execution_count": 51,
   "id": "aa4eb827",
   "metadata": {},
   "outputs": [
    {
     "data": {
      "text/plain": [
       "array([[1159, 1511],\n",
       "       [ 439, 1715],\n",
       "       [3408,  633],\n",
       "       ...,\n",
       "       [3485, 3805],\n",
       "       [5356, 3600],\n",
       "       [4318, 2498]])"
      ]
     },
     "execution_count": 51,
     "metadata": {},
     "output_type": "execute_result"
    }
   ],
   "source": [
    "indices"
   ]
  },
  {
   "cell_type": "code",
   "execution_count": 36,
   "id": "11a7ca14",
   "metadata": {},
   "outputs": [],
   "source": [
    "# For n_neighbors=1\n",
    "matches = []\n",
    "for i, j in enumerate(indices):\n",
    "    temp = [round(distances[i][0], 2), df.iloc[i]['name'], df.iloc[j]['name'], j]\n",
    "    matches.append(temp)\n",
    "\n",
    "matches = pd.DataFrame(matches, columns=[\n",
    "    'Match confidence (lower is better)',\n",
    "    'Original Name',\n",
    "    'Matched Name',\n",
    "    'Matched Index'\n",
    "])"
   ]
  },
  {
   "cell_type": "code",
   "execution_count": 37,
   "id": "cc7524aa",
   "metadata": {},
   "outputs": [
    {
     "data": {
      "text/html": [
       "<div>\n",
       "<style scoped>\n",
       "    .dataframe tbody tr th:only-of-type {\n",
       "        vertical-align: middle;\n",
       "    }\n",
       "\n",
       "    .dataframe tbody tr th {\n",
       "        vertical-align: top;\n",
       "    }\n",
       "\n",
       "    .dataframe thead th {\n",
       "        text-align: right;\n",
       "    }\n",
       "</style>\n",
       "<table border=\"1\" class=\"dataframe\">\n",
       "  <thead>\n",
       "    <tr style=\"text-align: right;\">\n",
       "      <th></th>\n",
       "      <th>Match confidence (lower is better)</th>\n",
       "      <th>Original Name</th>\n",
       "      <th>Matched Name</th>\n",
       "      <th>Matched Index</th>\n",
       "    </tr>\n",
       "  </thead>\n",
       "  <tbody>\n",
       "    <tr>\n",
       "      <th>0</th>\n",
       "      <td>0.87</td>\n",
       "      <td>Somewhere Else</td>\n",
       "      <td>1159    Spacious Family House in the Museum Di...</td>\n",
       "      <td>[1159]</td>\n",
       "    </tr>\n",
       "    <tr>\n",
       "      <th>1</th>\n",
       "      <td>0.64</td>\n",
       "      <td>Quiet Garden View Room &amp; Super Fast Wi-Fi</td>\n",
       "      <td>439    Luxury apartment. Prime location\n",
       "Name: ...</td>\n",
       "      <td>[439]</td>\n",
       "    </tr>\n",
       "    <tr>\n",
       "      <th>2</th>\n",
       "      <td>0.00</td>\n",
       "      <td>Studio with private bathroom in the centre 1</td>\n",
       "      <td>3408    Beautiful house in the city centre of ...</td>\n",
       "      <td>[3408]</td>\n",
       "    </tr>\n",
       "    <tr>\n",
       "      <th>3</th>\n",
       "      <td>0.66</td>\n",
       "      <td>Romantic, stylish B&amp;B houseboat in canal district</td>\n",
       "      <td>4601    Big apartment surrounded by nature in ...</td>\n",
       "      <td>[4601]</td>\n",
       "    </tr>\n",
       "    <tr>\n",
       "      <th>4</th>\n",
       "      <td>0.28</td>\n",
       "      <td>Comfortable double room</td>\n",
       "      <td>3721    Cosy apartment in heart of Amsterdam O...</td>\n",
       "      <td>[3721]</td>\n",
       "    </tr>\n",
       "    <tr>\n",
       "      <th>...</th>\n",
       "      <td>...</td>\n",
       "      <td>...</td>\n",
       "      <td>...</td>\n",
       "      <td>...</td>\n",
       "    </tr>\n",
       "    <tr>\n",
       "      <th>6804</th>\n",
       "      <td>0.54</td>\n",
       "      <td>Romantic Houseboat in the center</td>\n",
       "      <td>1976    Authentic apartment with a view on the...</td>\n",
       "      <td>[1976]</td>\n",
       "    </tr>\n",
       "    <tr>\n",
       "      <th>6805</th>\n",
       "      <td>0.00</td>\n",
       "      <td>mediterranean ambiance appartment</td>\n",
       "      <td>1657    Modern &amp; bright three-floors house clo...</td>\n",
       "      <td>[1657]</td>\n",
       "    </tr>\n",
       "    <tr>\n",
       "      <th>6806</th>\n",
       "      <td>0.00</td>\n",
       "      <td>Charlie + Coco's Apartment</td>\n",
       "      <td>3485    Sunny family-friendly house; garden + ...</td>\n",
       "      <td>[3485]</td>\n",
       "    </tr>\n",
       "    <tr>\n",
       "      <th>6807</th>\n",
       "      <td>0.00</td>\n",
       "      <td>Sleeping in a unique ship in the center of A'dam!</td>\n",
       "      <td>5356    Small Double Room, Euphemia Hotel , ci...</td>\n",
       "      <td>[5356]</td>\n",
       "    </tr>\n",
       "    <tr>\n",
       "      <th>6808</th>\n",
       "      <td>0.00</td>\n",
       "      <td>Sunny &amp; Bright 3 bed apt with Roof terrace</td>\n",
       "      <td>4318    Bright 3rd-4th floor apartment near th...</td>\n",
       "      <td>[4318]</td>\n",
       "    </tr>\n",
       "  </tbody>\n",
       "</table>\n",
       "<p>6809 rows × 4 columns</p>\n",
       "</div>"
      ],
      "text/plain": [
       "      Match confidence (lower is better)  \\\n",
       "0                                   0.87   \n",
       "1                                   0.64   \n",
       "2                                   0.00   \n",
       "3                                   0.66   \n",
       "4                                   0.28   \n",
       "...                                  ...   \n",
       "6804                                0.54   \n",
       "6805                                0.00   \n",
       "6806                                0.00   \n",
       "6807                                0.00   \n",
       "6808                                0.00   \n",
       "\n",
       "                                          Original Name  \\\n",
       "0                                        Somewhere Else   \n",
       "1             Quiet Garden View Room & Super Fast Wi-Fi   \n",
       "2          Studio with private bathroom in the centre 1   \n",
       "3     Romantic, stylish B&B houseboat in canal district   \n",
       "4                               Comfortable double room   \n",
       "...                                                 ...   \n",
       "6804                   Romantic Houseboat in the center   \n",
       "6805                  mediterranean ambiance appartment   \n",
       "6806                         Charlie + Coco's Apartment   \n",
       "6807  Sleeping in a unique ship in the center of A'dam!   \n",
       "6808         Sunny & Bright 3 bed apt with Roof terrace   \n",
       "\n",
       "                                           Matched Name Matched Index  \n",
       "0     1159    Spacious Family House in the Museum Di...        [1159]  \n",
       "1     439    Luxury apartment. Prime location\n",
       "Name: ...         [439]  \n",
       "2     3408    Beautiful house in the city centre of ...        [3408]  \n",
       "3     4601    Big apartment surrounded by nature in ...        [4601]  \n",
       "4     3721    Cosy apartment in heart of Amsterdam O...        [3721]  \n",
       "...                                                 ...           ...  \n",
       "6804  1976    Authentic apartment with a view on the...        [1976]  \n",
       "6805  1657    Modern & bright three-floors house clo...        [1657]  \n",
       "6806  3485    Sunny family-friendly house; garden + ...        [3485]  \n",
       "6807  5356    Small Double Room, Euphemia Hotel , ci...        [5356]  \n",
       "6808  4318    Bright 3rd-4th floor apartment near th...        [4318]  \n",
       "\n",
       "[6809 rows x 4 columns]"
      ]
     },
     "execution_count": 37,
     "metadata": {},
     "output_type": "execute_result"
    }
   ],
   "source": [
    "matches"
   ]
  },
  {
   "cell_type": "code",
   "execution_count": 53,
   "id": "56337bfe",
   "metadata": {},
   "outputs": [
    {
     "name": "stdout",
     "output_type": "stream",
     "text": [
      "Distance 0.64\n",
      "Original Record\n",
      "Entire house with garden in De Pijp\n",
      "This lovely, three story monumental house is located in De Pijp, also known as the 'Quartier Latin' of Amsterdam. It is owned by Federica and Ton, an Italian/Dutch couple with three kids.<br /><br /><b>The space</b><br />This lovely, three story monumental house is located in De Pijp, also known as the 'Quartier Latin' of Amsterdam. It is owned by Federica and Ton, an Italian/Dutch couple with three kids.<br /><br />The ground floor has a large living room with a kitchen. Two spacious doors lead into the well taken care of garden, where breakfast or dinner can be enjoyed in the sun. There is also a barbecue available. <br />On the first floor there is a bedroom with a bathroom 'en suite'. On the second floor you will find two additional bedrooms, with an additional bathroom including a bath tub. <br /><br />Features: <br />First floor: Living room, kitchen, toilet and garden<br />Second floor: Bedroom (Queen bed 140 x 200) with bathroom en suite, open studio, baby bedroom<br />Third fl\n",
      "Matched Record\n",
      "4562            Citiez Hotel Amsterdam: Small Double Room\n",
      "160     Great appartment in Old West close to city center\n",
      "Name: name, dtype: object\n",
      "4562    Ons stijlvolle hotel biedt kamers die elk een ...\n",
      "160     Nice, sunlit appartment in a lively and centra...\n",
      "Name: description, dtype: object\n",
      "Matched Index [4562  160]\n",
      "Distance 0.67\n",
      "Original Record\n",
      "Apartment 2 minutes from Centrum!\n",
      "Stay in one of the most vibrant neighborhoods of the city, with bars, restaurants, clubs, parks and just 2 minutes walk from the historic city centre, with its rings of canals. Enjoy being a 15 minutes bike or tram ride from central station, while having a very comfortable apartment for you and your friends, to which you can even walk back at night without all the fuss!<br /><br /><b>The space</b><br />Centrally placed beautiful apartment 15 minutes walk from the Artis Zoo and the Ortus Botanicus, Dappermarkt and Oosterpark. Strategically placed, close to main public transports, several tramways (14, 9, 10, 3, 7, 22) and Muiderpoort train station. You can walk from here in just 20 minutes to the magic Waterlooplein (doorstep of Rembrandtplein and the Nieuwmarkt) and do all your shoppings in the most multicultural and convenient market in town, the Dappermarkt, your backyard. Or you can stay at home, in a great neighborhood, enjoying the local jazz bars and traditional mill powered brew\n",
      "Matched Record\n",
      "1849    Luxurious designapartment with magnificent view\n",
      "693                 Room with private bathroom & access\n",
      "Name: name, dtype: object\n",
      "1849    This apartment is built under architecture (MK...\n",
      "693     In a complete renovated house, right in front ...\n",
      "Name: description, dtype: object\n",
      "Matched Index [1849  693]\n",
      "Distance 0.0\n",
      "Original Record\n",
      "Modern app. with brand new design bathroom\n",
      "Stylish (recently painted and redecorated) ground floor apartment. Living room with a huge and comfy couch and big screen tv (with Netflix) Sonos sound system) One bedroom with a double bed. IThe bathroom is completely renovated and looks amazing.!<br /><br /><b>The space</b><br />I have a modern and clean ground floor apartment (no steep stairs are rare in amsterdam) in 'Amsterdam West'.<br />(just a few minutes from the Vondelpark and City Center) <br /><br />You can use my bike (the best way to get around in Amsterdam) but the tramstop (7&17 tram) is only a few steps from my house, <br />which takes you into the center of Amsterdam within 10 min. Parking isn't free in front of my house but there are free parking possibilities nearby.<br /><br />Just around the corner there is a very long <br />\"shopping\" street the \"Kinkerstraat\" for all your daily needs and more. My apartment is only 20 min. from the airport or central station,<br /><br />Main attractions like the Leidseplein, Vond\n",
      "Matched Record\n",
      "4410                     Light apartment near city center\n",
      "1477    Complete studio apartment for two, Museum Quarter\n",
      "Name: name, dtype: object\n",
      "4410    <b>License number</b><br />0363 1B05 0D4C 1322...\n",
      "1477    The studio is beautifully furnished throughout...\n",
      "Name: description, dtype: object\n",
      "Matched Index [4410 1477]\n",
      "Distance 0.0\n",
      "Original Record\n",
      "SUPERLOCATED Room in  CANALHOUSE, Private bath\n",
      "5 min's Walk from Central Station, on famous Brouwersgracht, comfy room with private ensuite faciliteit in  canalhouse. All main attractions within walkingdistance. Located in Jordaan, trendy Haarlemmerstraat around the corner. Kitchen open in the morning.<br /><br /><b>The space</b><br />Superb located, just 5 minutes walk from central station. Situated at the Brouwersgracht (appointed as the most beautifull canal) in a traditional canalhouse, decorated in a sturdy classic style.<br /><br />Large Room which has it's private in-room shower and toilet, this specific room is very suitable for longer Stays for individual travellers. <br /><br />Very trendy Haarlemmerstraat and -dijk, right behind, offers many breakfastoportinities to kick start your day. <br /><br />All musea, such as Anne Frank House, van Gogh, Rijksmuseum, stedelijk museum, Scheepvaartmuseum and the Hermitage are within walking distance. <br /><br />Lots of possibilities around to rent a bike and explore the city in thi\n",
      "Matched Record\n",
      "3393    Modern, just renovated family house in great area\n",
      "852                                         in the street\n",
      "Name: name, dtype: object\n",
      "3393    Beautiful block in the Amsterdam Pijp. Around ...\n",
      "852     Do you like privacy, intimacy and at the same ...\n",
      "Name: description, dtype: object\n",
      "Matched Index [3393  852]\n",
      "Distance 0.0\n",
      "Original Record\n",
      "Central,Rooftop 360',Zen,Canal-View, Bright,Quiet\n",
      "DESIGN, CENTRAL, ZEN, QUIET, BRIGHT flat with the most amazing PRIVATE ROOFTERRACE 360' view of central Amsterdam skyline, in the best central canals area: Jordaan. Superb views. Very rare find (and better than anything else in this price range)<br /><br /><b>The space</b><br />This is a one bedroom 'design' flat situated on the top floor of a fully renovated 1899 building,  with old wooden beams and wooden floors <br /><br />Private roofterrace with amazing 360' views on central Amsterdam skyline. This is a unique roofterrace without any higher buildings around.<br /><br />Very quiet yet very centrally located in the best central (canals) Amsterdam area: De Jordaan <br /><br />It is situated in front of a small park and in between two canals with views on canals, houseboats and on two (!) drawbridges (one modern, one old). <br /><br />It is a very bright flat, being on the 4th FLOOR  and having many small roofwindows. Note there is NO ELEVATOR and stairs are typical Amsterdam, quite s\n",
      "Matched Record\n",
      "1264     Apartment near city centre\n",
      "2963    Garden Apartment Westerpark\n",
      "Name: name, dtype: object\n",
      "1264    Lovely neighbourhood near city centre. 15 minu...\n",
      "2963    Cozy Ground Floor apartment in Amsterdam's Wes...\n",
      "Name: description, dtype: object\n",
      "Matched Index [1264 2963]\n",
      "Distance 0.0\n",
      "Original Record\n",
      "Spacious apartment next to center\n",
      "Popular neighbourhood close to the city's center. Sleeps 3, 4 people. The place is clean, the furniture is basic. No cleaning cost.<br /><br /><br />Check-in Monday through Thursday from 18:00, flexible on Friday, Saturday and Sunday.<br /><br /><b>The space</b><br />Well kept 3-room apartment near the city's center, next to lively market and shops. Bath, separate shower, balcony, dishwasher, washing machine, cable, wifi. No cleaning cost!<br /><br />Trams stop close to the house to take you anywhere. A five minute tram ride takes you to the popular Jordaan district, a ten minute tram ride to either Central Station or Sloterdijk (train to airport).<br /><br />Ideal for three adults or a small family. One double bed, one low bed  (to sleep 3 adults or 2 adults plus a kid).<br />There's an airbed in case three adults rather sleep alone.<br /><br />The apartment is in a popular neighbourhood with divers shops and a lively market just a minute away. Recently the neighbourhood became very p\n",
      "Matched Record\n",
      "2854                 quiet garden studio near city centre\n",
      "4336    Entire apartment in the ♥️ of Ams with a balcony.\n",
      "Name: name, dtype: object\n",
      "2854    Garden studio (over 16 m2) with private entran...\n",
      "4336    This is a bright modern apartment with access ...\n",
      "Name: description, dtype: object\n",
      "Matched Index [2854 4336]\n"
     ]
    }
   ],
   "source": [
    "for i, j in enumerate(indices):\n",
    "    if i < 15:\n",
    "        continue\n",
    "    temp = [round(distances[i][0], 2), df.iloc[i]['name'], df.iloc[j]['name'], j]\n",
    "    print('Distance', round(distances[i][0], 2))\n",
    "    print('Original Record')\n",
    "    print(df.iloc[i]['name'])\n",
    "    print(df.iloc[i]['description'])\n",
    "    print('Matched Record')\n",
    "    print(df.iloc[j]['name'])\n",
    "    print(df.iloc[j]['description'])\n",
    "    print('Matched Index', j)\n",
    "    if i == 20:\n",
    "        break"
   ]
  },
  {
   "cell_type": "code",
   "execution_count": 73,
   "id": "c2990d8b",
   "metadata": {},
   "outputs": [
    {
     "data": {
      "text/plain": [
       "array(['Sunny & Bright 3 bed apt with Roof terrace',\n",
       "       'This sunny, spacious,  trendy and clean 123m2  apartment is in the heart of the \\'River Neighborhood (the old Jewish quarters)\\'. It is the perfect place for 2 couples or a family to enjoy the beautiful city of Amsterdam!<br /><br /><b>The space</b><br />This sunny, spacious,  trendy and clean 123m2  apartment is in the heart of the \\'River Neighborhood (the old Jewish quarters)\\', just 5 minutes from Amsterdam Rai Convention, meaning you\\'re close enough to the center and in a very nice and quiet area. For tips on where to rent bikes and the best restaurants, check our Guidebook.<br /><br />The building’s architecture is in the authentic \"Amsterdamse School\" Art Deco style Amsterdam is famous for. And our building block is officially a Monument! <br /><br />There are 3 bedrooms in total. There are two double bedrooms on different floors. On the main floor, there is also a kids bedroom with a 135cm crib (of which one of the side bars can be removed for bigger kids) and a 150cm bed. The apar',\n",
       "       52.34725, 4.89341], dtype=object)"
      ]
     },
     "execution_count": 73,
     "metadata": {},
     "output_type": "execute_result"
    }
   ],
   "source": [
    "df.iloc[6808][['name', 'description', 'latitude', 'longitude']].values"
   ]
  },
  {
   "cell_type": "code",
   "execution_count": 74,
   "id": "b71ca0f0",
   "metadata": {},
   "outputs": [
    {
     "data": {
      "text/plain": [
       "array(['Bright 3rd-4th floor apartment near the Foodhallen',\n",
       "       'Located half a block away from the hip Foodhallen, this 3rd-4th floor apartment is very central yet extremely quiet (The street is a dead-end for traffic). The market is 2 min walk from the house and on from Mon-Sat. Public transport and all sorts of handy shops are 3 min away in the parallel Kinkerstraat.<br />The area has dozens of bars/cafes, restaurants, shops, etc. You can walk 5 min to the central canal ring.<br /><br /><b>License number</b><br />0363 6210 55B5 4B4E 8B5E',\n",
       "       52.36528, 4.86515], dtype=object)"
      ]
     },
     "execution_count": 74,
     "metadata": {},
     "output_type": "execute_result"
    }
   ],
   "source": [
    "df.iloc[4318][['name', 'description', 'latitude', 'longitude']].values"
   ]
  },
  {
   "cell_type": "code",
   "execution_count": 75,
   "id": "edc1dddb",
   "metadata": {},
   "outputs": [
    {
     "ename": "ValueError",
     "evalue": "math domain error",
     "output_type": "error",
     "traceback": [
      "\u001b[0;31m---------------------------------------------------------------------------\u001b[0m",
      "\u001b[0;31mValueError\u001b[0m                                Traceback (most recent call last)",
      "Input \u001b[0;32mIn [75]\u001b[0m, in \u001b[0;36m<cell line: 4>\u001b[0;34m()\u001b[0m\n\u001b[1;32m      2\u001b[0m a \u001b[38;5;241m=\u001b[39m df\u001b[38;5;241m.\u001b[39miloc[\u001b[38;5;241m6808\u001b[39m][\u001b[38;5;124m'\u001b[39m\u001b[38;5;124mlatitude\u001b[39m\u001b[38;5;124m'\u001b[39m] \u001b[38;5;241m-\u001b[39m df\u001b[38;5;241m.\u001b[39miloc[\u001b[38;5;241m4318\u001b[39m][\u001b[38;5;124m'\u001b[39m\u001b[38;5;124mlatitude\u001b[39m\u001b[38;5;124m'\u001b[39m]\n\u001b[1;32m      3\u001b[0m b \u001b[38;5;241m=\u001b[39m df\u001b[38;5;241m.\u001b[39miloc[\u001b[38;5;241m6808\u001b[39m][\u001b[38;5;124m'\u001b[39m\u001b[38;5;124mlongitude\u001b[39m\u001b[38;5;124m'\u001b[39m] \u001b[38;5;241m-\u001b[39m df\u001b[38;5;241m.\u001b[39miloc[\u001b[38;5;241m4318\u001b[39m][\u001b[38;5;124m'\u001b[39m\u001b[38;5;124mlongitude\u001b[39m\u001b[38;5;124m'\u001b[39m]\n\u001b[0;32m----> 4\u001b[0m \u001b[43mmath\u001b[49m\u001b[38;5;241;43m.\u001b[39;49m\u001b[43msqrt\u001b[49m\u001b[43m(\u001b[49m\u001b[43m(\u001b[49m\u001b[43ma\u001b[49m\u001b[38;5;241;43m*\u001b[39;49m\u001b[43ma\u001b[49m\u001b[43m)\u001b[49m\u001b[43m \u001b[49m\u001b[38;5;241;43m-\u001b[39;49m\u001b[43m \u001b[49m\u001b[43m(\u001b[49m\u001b[43mb\u001b[49m\u001b[38;5;241;43m*\u001b[39;49m\u001b[43mb\u001b[49m\u001b[43m)\u001b[49m\u001b[43m)\u001b[49m\n",
      "\u001b[0;31mValueError\u001b[0m: math domain error"
     ]
    }
   ],
   "source": [
    "import math\n",
    "a = df.iloc[6808]['latitude'] - df.iloc[4318]['latitude']\n",
    "b = df.iloc[6808]['longitude'] - df.iloc[4318]['longitude']\n",
    "math.sqrt((a*a) - (b*b))"
   ]
  },
  {
   "cell_type": "code",
   "execution_count": 78,
   "id": "e970d4e5",
   "metadata": {},
   "outputs": [
    {
     "data": {
      "text/plain": [
       "dtype('float64')"
      ]
     },
     "execution_count": 78,
     "metadata": {},
     "output_type": "execute_result"
    }
   ],
   "source": [
    "df['latitude'].dtype"
   ]
  },
  {
   "cell_type": "code",
   "execution_count": null,
   "id": "9468d61d",
   "metadata": {},
   "outputs": [],
   "source": [
    "upper = corr_matrix.where(np.triu(np.ones(corr_matrix.shape), k=1).astype(np.bool))\n",
    "to_drop = [column for column in upper.columns if any(upper[column] > 0.90)]\n",
    "to_drop"
   ]
  },
  {
   "cell_type": "code",
   "execution_count": null,
   "id": "5fcc2f32",
   "metadata": {},
   "outputs": [],
   "source": [
    "# Drop columns id, scrape_id, maximum_minimum_nights, maximum_maximum_nights, minimum_nights_avg_ntm, maximum_nights_avg_ntm, last_scraped\n",
    "columns = ['id', \n",
    "           'scrape_id', \n",
    "           'maximum_minimum_nights', \n",
    "           'maximum_maximum_nights', \n",
    "           'minimum_nights_avg_ntm', \n",
    "           'maximum_nights_avg_ntm',\n",
    "          'last_scraped']\n",
    "df = df.drop(columns, axis=1)\n",
    "df"
   ]
  },
  {
   "cell_type": "code",
   "execution_count": null,
   "id": "6e8765ce",
   "metadata": {},
   "outputs": [],
   "source": []
  },
  {
   "cell_type": "code",
   "execution_count": null,
   "id": "a3d0a15c",
   "metadata": {},
   "outputs": [],
   "source": [
    "df.dtypes"
   ]
  },
  {
   "cell_type": "code",
   "execution_count": null,
   "id": "ccc0807b",
   "metadata": {},
   "outputs": [],
   "source": [
    "numerics = ['int64', 'float64']\n",
    "numeric_columns = df.select_dtypes(include=numerics).columns"
   ]
  },
  {
   "cell_type": "code",
   "execution_count": null,
   "id": "803866fd",
   "metadata": {},
   "outputs": [],
   "source": [
    "numeric_columns"
   ]
  },
  {
   "cell_type": "code",
   "execution_count": null,
   "id": "6e7d0d4d",
   "metadata": {},
   "outputs": [],
   "source": [
    "# Analyze host_listings_count\n",
    "df['host_listings_count'].value_counts()"
   ]
  },
  {
   "cell_type": "code",
   "execution_count": null,
   "id": "8a259bbe",
   "metadata": {},
   "outputs": [],
   "source": []
  }
 ],
 "metadata": {
  "hide_input": false,
  "kernelspec": {
   "display_name": "Python 3 (ipykernel)",
   "language": "python",
   "name": "python3"
  },
  "language_info": {
   "codemirror_mode": {
    "name": "ipython",
    "version": 3
   },
   "file_extension": ".py",
   "mimetype": "text/x-python",
   "name": "python",
   "nbconvert_exporter": "python",
   "pygments_lexer": "ipython3",
   "version": "3.8.13"
  },
  "toc": {
   "base_numbering": 1,
   "nav_menu": {},
   "number_sections": true,
   "sideBar": true,
   "skip_h1_title": false,
   "title_cell": "Table of Contents",
   "title_sidebar": "Contents",
   "toc_cell": false,
   "toc_position": {},
   "toc_section_display": true,
   "toc_window_display": false
  }
 },
 "nbformat": 4,
 "nbformat_minor": 5
}
