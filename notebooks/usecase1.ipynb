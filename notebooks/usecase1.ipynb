{
 "cells": [
  {
   "cell_type": "markdown",
   "id": "5b26d0e2",
   "metadata": {},
   "source": [
    "## Finding Fake/Duplicate Records\n",
    "Commonly known as Data Dedupication & Record Linkage\n",
    "Ref: https://www.kaggle.com/code/caesarlupum/deduping-record-linkage"
   ]
  },
  {
   "cell_type": "code",
   "execution_count": null,
   "id": "1b677878",
   "metadata": {},
   "outputs": [],
   "source": [
    "# Download and unzip data\n",
    "!wget http://data.insideairbnb.com/united-kingdom/england/london/2023-03-14/data/listings.csv.gz -P ../data/\n",
    "!gunzip -kf ../data/listings.csv.gz"
   ]
  },
  {
   "cell_type": "code",
   "execution_count": null,
   "id": "74a170ef",
   "metadata": {},
   "outputs": [],
   "source": [
    "!pip install nltk"
   ]
  },
  {
   "cell_type": "code",
   "execution_count": null,
   "id": "6721c6b2",
   "metadata": {},
   "outputs": [],
   "source": [
    "import nltk\n",
    "nltk.download('stopwords')\n",
    "nltktk.download('punkt')"
   ]
  },
  {
   "cell_type": "code",
   "execution_count": 1,
   "id": "05da7534",
   "metadata": {},
   "outputs": [],
   "source": [
    "from datetime import datetime, date\n",
    "import pandas as pd\n",
    "import numpy as np\n",
    "import matplotlib.pyplot as plt\n",
    "import seaborn as sns\n",
    "import string\n",
    "import re\n",
    "from sklearn.feature_extraction.text import TfidfVectorizer\n",
    "from sklearn.preprocessing import FunctionTransformer\n",
    "from sklearn.pipeline import FeatureUnion, Pipeline\n",
    "import re\n",
    "import string\n",
    "from nltk.tokenize import word_tokenize, sent_tokenize\n",
    "from nltk.corpus import stopwords\n",
    "from nltk.stem import PorterStemmer # or LancasterStemmer, RegexpStemmer, SnowballStemmer\n",
    "\n",
    "default_stemmer = PorterStemmer()\n",
    "default_stopwords = stopwords.words('english') # or any other list of your choice\n",
    "\n",
    "%matplotlib inline"
   ]
  },
  {
   "cell_type": "code",
   "execution_count": 2,
   "id": "f2db8ed9",
   "metadata": {},
   "outputs": [],
   "source": [
    "df = pd.read_csv('../data/listings.csv')"
   ]
  },
  {
   "cell_type": "code",
   "execution_count": 3,
   "id": "d73c5335",
   "metadata": {},
   "outputs": [
    {
     "data": {
      "text/html": [
       "<div>\n",
       "<style scoped>\n",
       "    .dataframe tbody tr th:only-of-type {\n",
       "        vertical-align: middle;\n",
       "    }\n",
       "\n",
       "    .dataframe tbody tr th {\n",
       "        vertical-align: top;\n",
       "    }\n",
       "\n",
       "    .dataframe thead th {\n",
       "        text-align: right;\n",
       "    }\n",
       "</style>\n",
       "<table border=\"1\" class=\"dataframe\">\n",
       "  <thead>\n",
       "    <tr style=\"text-align: right;\">\n",
       "      <th></th>\n",
       "      <th>id</th>\n",
       "      <th>listing_url</th>\n",
       "      <th>scrape_id</th>\n",
       "      <th>last_scraped</th>\n",
       "      <th>source</th>\n",
       "      <th>name</th>\n",
       "      <th>description</th>\n",
       "      <th>neighborhood_overview</th>\n",
       "      <th>picture_url</th>\n",
       "      <th>host_id</th>\n",
       "      <th>...</th>\n",
       "      <th>review_scores_communication</th>\n",
       "      <th>review_scores_location</th>\n",
       "      <th>review_scores_value</th>\n",
       "      <th>license</th>\n",
       "      <th>instant_bookable</th>\n",
       "      <th>calculated_host_listings_count</th>\n",
       "      <th>calculated_host_listings_count_entire_homes</th>\n",
       "      <th>calculated_host_listings_count_private_rooms</th>\n",
       "      <th>calculated_host_listings_count_shared_rooms</th>\n",
       "      <th>reviews_per_month</th>\n",
       "    </tr>\n",
       "  </thead>\n",
       "  <tbody>\n",
       "    <tr>\n",
       "      <th>0</th>\n",
       "      <td>714569379355913481</td>\n",
       "      <td>https://www.airbnb.com/rooms/714569379355913481</td>\n",
       "      <td>20230314070633</td>\n",
       "      <td>2023-03-14</td>\n",
       "      <td>city scrape</td>\n",
       "      <td>Lovely private bedroom in Muswell Hill.</td>\n",
       "      <td>Take a break and unwind at this peaceful oasis.</td>\n",
       "      <td>NaN</td>\n",
       "      <td>https://a0.muscache.com/pictures/miso/Hosting-...</td>\n",
       "      <td>39009854</td>\n",
       "      <td>...</td>\n",
       "      <td>NaN</td>\n",
       "      <td>NaN</td>\n",
       "      <td>NaN</td>\n",
       "      <td>NaN</td>\n",
       "      <td>f</td>\n",
       "      <td>1</td>\n",
       "      <td>0</td>\n",
       "      <td>1</td>\n",
       "      <td>0</td>\n",
       "      <td>NaN</td>\n",
       "    </tr>\n",
       "    <tr>\n",
       "      <th>1</th>\n",
       "      <td>808038970516277767</td>\n",
       "      <td>https://www.airbnb.com/rooms/808038970516277767</td>\n",
       "      <td>20230314070633</td>\n",
       "      <td>2023-03-14</td>\n",
       "      <td>city scrape</td>\n",
       "      <td>Studio Flat  Franklin London</td>\n",
       "      <td>Brand New Modern Kitchen&lt;br /&gt;Close to Excelle...</td>\n",
       "      <td>NaN</td>\n",
       "      <td>https://a0.muscache.com/pictures/miso/Hosting-...</td>\n",
       "      <td>495977998</td>\n",
       "      <td>...</td>\n",
       "      <td>NaN</td>\n",
       "      <td>NaN</td>\n",
       "      <td>NaN</td>\n",
       "      <td>NaN</td>\n",
       "      <td>t</td>\n",
       "      <td>7</td>\n",
       "      <td>7</td>\n",
       "      <td>0</td>\n",
       "      <td>0</td>\n",
       "      <td>NaN</td>\n",
       "    </tr>\n",
       "    <tr>\n",
       "      <th>2</th>\n",
       "      <td>822557738577472503</td>\n",
       "      <td>https://www.airbnb.com/rooms/822557738577472503</td>\n",
       "      <td>20230314070633</td>\n",
       "      <td>2023-03-14</td>\n",
       "      <td>city scrape</td>\n",
       "      <td>PropertyPlug - 2Bed Flat in Edgware SmartTV WiFi</td>\n",
       "      <td>Enjoy easy access to everything from this perf...</td>\n",
       "      <td>NaN</td>\n",
       "      <td>https://a0.muscache.com/pictures/d77957d5-695a...</td>\n",
       "      <td>325629338</td>\n",
       "      <td>...</td>\n",
       "      <td>NaN</td>\n",
       "      <td>NaN</td>\n",
       "      <td>NaN</td>\n",
       "      <td>NaN</td>\n",
       "      <td>t</td>\n",
       "      <td>4</td>\n",
       "      <td>4</td>\n",
       "      <td>0</td>\n",
       "      <td>0</td>\n",
       "      <td>NaN</td>\n",
       "    </tr>\n",
       "    <tr>\n",
       "      <th>3</th>\n",
       "      <td>3518856</td>\n",
       "      <td>https://www.airbnb.com/rooms/3518856</td>\n",
       "      <td>20230314070633</td>\n",
       "      <td>2023-03-14</td>\n",
       "      <td>city scrape</td>\n",
       "      <td>Wimbledon Double Bedroom Ensuite</td>\n",
       "      <td>A welcoming and stylish 2 bedroom 2 bathroom f...</td>\n",
       "      <td>NaN</td>\n",
       "      <td>https://a0.muscache.com/pictures/23a18442-fc1d...</td>\n",
       "      <td>187811</td>\n",
       "      <td>...</td>\n",
       "      <td>5.0</td>\n",
       "      <td>3.67</td>\n",
       "      <td>3.67</td>\n",
       "      <td>NaN</td>\n",
       "      <td>f</td>\n",
       "      <td>2</td>\n",
       "      <td>0</td>\n",
       "      <td>2</td>\n",
       "      <td>0</td>\n",
       "      <td>0.05</td>\n",
       "    </tr>\n",
       "    <tr>\n",
       "      <th>4</th>\n",
       "      <td>4876550</td>\n",
       "      <td>https://www.airbnb.com/rooms/4876550</td>\n",
       "      <td>20230314070633</td>\n",
       "      <td>2023-03-14</td>\n",
       "      <td>city scrape</td>\n",
       "      <td>Stunning Apartment 2 minutes walk to Tube Station</td>\n",
       "      <td>Luxury Modern Apartment in modern development ...</td>\n",
       "      <td>NaN</td>\n",
       "      <td>https://a0.muscache.com/pictures/miso/Hosting-...</td>\n",
       "      <td>25087384</td>\n",
       "      <td>...</td>\n",
       "      <td>NaN</td>\n",
       "      <td>NaN</td>\n",
       "      <td>NaN</td>\n",
       "      <td>NaN</td>\n",
       "      <td>f</td>\n",
       "      <td>1</td>\n",
       "      <td>1</td>\n",
       "      <td>0</td>\n",
       "      <td>0</td>\n",
       "      <td>NaN</td>\n",
       "    </tr>\n",
       "  </tbody>\n",
       "</table>\n",
       "<p>5 rows × 75 columns</p>\n",
       "</div>"
      ],
      "text/plain": [
       "                   id                                      listing_url  \\\n",
       "0  714569379355913481  https://www.airbnb.com/rooms/714569379355913481   \n",
       "1  808038970516277767  https://www.airbnb.com/rooms/808038970516277767   \n",
       "2  822557738577472503  https://www.airbnb.com/rooms/822557738577472503   \n",
       "3             3518856             https://www.airbnb.com/rooms/3518856   \n",
       "4             4876550             https://www.airbnb.com/rooms/4876550   \n",
       "\n",
       "        scrape_id last_scraped       source  \\\n",
       "0  20230314070633   2023-03-14  city scrape   \n",
       "1  20230314070633   2023-03-14  city scrape   \n",
       "2  20230314070633   2023-03-14  city scrape   \n",
       "3  20230314070633   2023-03-14  city scrape   \n",
       "4  20230314070633   2023-03-14  city scrape   \n",
       "\n",
       "                                                name  \\\n",
       "0            Lovely private bedroom in Muswell Hill.   \n",
       "1                       Studio Flat  Franklin London   \n",
       "2   PropertyPlug - 2Bed Flat in Edgware SmartTV WiFi   \n",
       "3                   Wimbledon Double Bedroom Ensuite   \n",
       "4  Stunning Apartment 2 minutes walk to Tube Station   \n",
       "\n",
       "                                         description neighborhood_overview  \\\n",
       "0    Take a break and unwind at this peaceful oasis.                   NaN   \n",
       "1  Brand New Modern Kitchen<br />Close to Excelle...                   NaN   \n",
       "2  Enjoy easy access to everything from this perf...                   NaN   \n",
       "3  A welcoming and stylish 2 bedroom 2 bathroom f...                   NaN   \n",
       "4  Luxury Modern Apartment in modern development ...                   NaN   \n",
       "\n",
       "                                         picture_url    host_id  ...  \\\n",
       "0  https://a0.muscache.com/pictures/miso/Hosting-...   39009854  ...   \n",
       "1  https://a0.muscache.com/pictures/miso/Hosting-...  495977998  ...   \n",
       "2  https://a0.muscache.com/pictures/d77957d5-695a...  325629338  ...   \n",
       "3  https://a0.muscache.com/pictures/23a18442-fc1d...     187811  ...   \n",
       "4  https://a0.muscache.com/pictures/miso/Hosting-...   25087384  ...   \n",
       "\n",
       "  review_scores_communication review_scores_location review_scores_value  \\\n",
       "0                         NaN                    NaN                 NaN   \n",
       "1                         NaN                    NaN                 NaN   \n",
       "2                         NaN                    NaN                 NaN   \n",
       "3                         5.0                   3.67                3.67   \n",
       "4                         NaN                    NaN                 NaN   \n",
       "\n",
       "  license instant_bookable calculated_host_listings_count  \\\n",
       "0     NaN                f                              1   \n",
       "1     NaN                t                              7   \n",
       "2     NaN                t                              4   \n",
       "3     NaN                f                              2   \n",
       "4     NaN                f                              1   \n",
       "\n",
       "  calculated_host_listings_count_entire_homes  \\\n",
       "0                                           0   \n",
       "1                                           7   \n",
       "2                                           4   \n",
       "3                                           0   \n",
       "4                                           1   \n",
       "\n",
       "  calculated_host_listings_count_private_rooms  \\\n",
       "0                                            1   \n",
       "1                                            0   \n",
       "2                                            0   \n",
       "3                                            2   \n",
       "4                                            0   \n",
       "\n",
       "  calculated_host_listings_count_shared_rooms reviews_per_month  \n",
       "0                                           0               NaN  \n",
       "1                                           0               NaN  \n",
       "2                                           0               NaN  \n",
       "3                                           0              0.05  \n",
       "4                                           0               NaN  \n",
       "\n",
       "[5 rows x 75 columns]"
      ]
     },
     "execution_count": 3,
     "metadata": {},
     "output_type": "execute_result"
    }
   ],
   "source": [
    "df.head()"
   ]
  },
  {
   "cell_type": "code",
   "execution_count": 4,
   "id": "a82669a2",
   "metadata": {},
   "outputs": [
    {
     "data": {
      "text/plain": [
       "(75241, 75)"
      ]
     },
     "execution_count": 4,
     "metadata": {},
     "output_type": "execute_result"
    }
   ],
   "source": [
    "# Since this is a data deduplication problem, we're interested in data uploaded by the host, let's print list of columns to find out those columns\n",
    "df.shape"
   ]
  },
  {
   "cell_type": "code",
   "execution_count": 5,
   "id": "2bfa513c",
   "metadata": {},
   "outputs": [],
   "source": [
    "# Huge dataset - Take first 2000 rows for analysis\n",
    "df = df.iloc[:2000]"
   ]
  },
  {
   "cell_type": "code",
   "execution_count": 6,
   "id": "3cbf9fcc",
   "metadata": {},
   "outputs": [
    {
     "data": {
      "text/plain": [
       "array(['London, United Kingdom', nan, 'England, United Kingdom',\n",
       "       'South Croydon, United Kingdom', 'New Malden, United Kingdom',\n",
       "       'Croydon, United Kingdom', 'Hatfield Heath, United Kingdom',\n",
       "       'Bedford, United Kingdom', 'Edgware, United Kingdom',\n",
       "       'United Kingdom', 'Purley, United Kingdom',\n",
       "       'Carshalton, United Kingdom', 'Everett, MA',\n",
       "       'Uxbridge, United Kingdom', 'Ayr, United Kingdom',\n",
       "       'Ilford, United Kingdom', 'Panchgani, India',\n",
       "       'Ruislip, United Kingdom', 'Cardiff, United Kingdom',\n",
       "       'Perpignan, France', 'Courbevoie, France',\n",
       "       'Feltham, United Kingdom', 'London, Canada',\n",
       "       'Enfield, United Kingdom', 'Tokyo, Japan', 'San Ramon, CA',\n",
       "       'Marlow, United Kingdom', 'Edinburgh, United Kingdom',\n",
       "       'Leeds, United Kingdom', 'Baku, Azerbaijan', 'Brasilia, Brazil',\n",
       "       'Hayes, United Kingdom', 'Dartford, United Kingdom',\n",
       "       'Valencia, Spain', 'Weston, FL', 'Barcelona, Spain',\n",
       "       'Rio de Janeiro, Brazil', 'Paris, France', 'Leuven, Belgium',\n",
       "       'Munich, Germany', 'Manchester, United Kingdom', 'New York, NY',\n",
       "       'Cambridge, United Kingdom',\n",
       "       'Kingston upon Thames, United Kingdom',\n",
       "       'Santa Cruz de Tenerife, Spain', 'Exeter, United Kingdom',\n",
       "       'Saint Gallen, Switzerland', 'Singapore',\n",
       "       'Long Hanborough, United Kingdom', 'Romford, United Kingdom',\n",
       "       'Wembley, United Kingdom', 'Calgary, Canada',\n",
       "       'Stanmore, United Kingdom', 'Sydney, Australia', 'Doha, Qatar',\n",
       "       'Rovigo, Italy', 'Twickenham, United Kingdom', 'Dresden, Germany',\n",
       "       'Glasgow, United Kingdom', 'Vannes, France',\n",
       "       'Brighton, United Kingdom', 'Reading, United Kingdom',\n",
       "       'Taipei, Taiwan', 'Berlin, Germany', 'Meldreth, United Kingdom',\n",
       "       'Yarraville, Australia', 'San Clemente, CA', 'Prague, Czechia',\n",
       "       'Spain', 'Morden, United Kingdom', 'Dagon, Myanmar',\n",
       "       'Bromley, United Kingdom', 'Richmond, United Kingdom',\n",
       "       'Madrid, Spain', 'Vilnius, Lithuania', 'Los Angeles, CA',\n",
       "       'Athens, Greece', 'Sarzeau, France', 'Mumbai, India',\n",
       "       'Amsterdam, Netherlands', 'Catania, Italy', 'Toronto, Canada',\n",
       "       'Melbourne, Australia', 'Teddington, United Kingdom',\n",
       "       'Barking, United Kingdom', 'Randers, Denmark', 'Nivelles, Belgium',\n",
       "       'Woodford, United Kingdom', 'Beckenham, United Kingdom',\n",
       "       'Vancouver, Canada', 'Tirana, Albania', 'Montpellier, France',\n",
       "       'India', 'Luton, United Kingdom', 'Stockholm, Sweden',\n",
       "       'Sheffield, United Kingdom', 'St Leonards, Australia',\n",
       "       'Rambouillet, France', 'Taiwan', 'Helsinki, Finland',\n",
       "       'Birmingham, United Kingdom', 'Nice, France',\n",
       "       'Huddersfield, United Kingdom', 'Turkey', 'Donnybrook, Ireland',\n",
       "       'Washington, DC', 'Kingston Blount, United Kingdom', 'Chicago, IL',\n",
       "       'Ħaż-Żabbar, Malta', 'Dagenham, United Kingdom', 'Melesse, France',\n",
       "       'Dublin, Ireland', \"Quartu Sant'Elena, Italy\",\n",
       "       'Southampton, United Kingdom', 'Martlesham, United Kingdom',\n",
       "       'Chiddingfold, United Kingdom', 'Euxton, United Kingdom',\n",
       "       'Marennes, France', 'Hatfield, United Kingdom', 'Bogotá, Colombia',\n",
       "       'Johannesburg, South Africa', 'Mulbarton, United Kingdom',\n",
       "       'Harrow, United Kingdom', 'Bath, United Kingdom',\n",
       "       'Chieveley, United Kingdom', 'Bristol, United Kingdom',\n",
       "       'Llandudno, United Kingdom', 'Milan, Italy', 'Seville, Spain',\n",
       "       'Mount Royal, Canada', 'Košice, Slovakia', 'Fethiye, Turkey',\n",
       "       'State of Santa Catarina, Brazil', 'Lisbon, Portugal',\n",
       "       'Jersey City, NJ', 'Balearic Islands, Spain',\n",
       "       'Coventry, United Kingdom', 'Camden Town, United Kingdom',\n",
       "       'Pebworth, United Kingdom', 'Nanaimo, Canada',\n",
       "       'Brisbane, Australia', 'Monrovia, Liberia',\n",
       "       'Auckland, New Zealand', 'Dronfield, United Kingdom',\n",
       "       'Salzburg, Austria', 'Victoria, Australia',\n",
       "       'New South Wales, Australia', 'Pertuis, France',\n",
       "       'Donostia-San Sebastian, Spain', 'Rome, Italy',\n",
       "       'Frederiksberg, Denmark'], dtype=object)"
      ]
     },
     "execution_count": 6,
     "metadata": {},
     "output_type": "execute_result"
    }
   ],
   "source": [
    "df['host_location'].unique()"
   ]
  },
  {
   "cell_type": "code",
   "execution_count": 7,
   "id": "052ac9e2",
   "metadata": {},
   "outputs": [],
   "source": [
    "selectedcols = ['name', 'description', 'neighborhood_overview', 'host_id',\n",
    "       'host_name', 'host_since', 'host_location', 'host_about',\n",
    "       'host_response_time', 'host_response_rate', 'host_acceptance_rate',\n",
    "       'host_is_superhost', 'host_thumbnail_url', 'host_picture_url',\n",
    "       'host_neighbourhood', 'host_verifications',\n",
    "       'host_has_profile_pic', 'host_identity_verified', 'neighbourhood',\n",
    "       'neighbourhood_cleansed', 'neighbourhood_group_cleansed', 'latitude',\n",
    "       'longitude', 'property_type', 'room_type', 'accommodates', 'bathrooms',\n",
    "       'bathrooms_text', 'bedrooms', 'beds', 'amenities', 'price',\n",
    "       'minimum_nights', 'maximum_nights', 'has_availability',\n",
    "       'availability_30', 'availability_60', 'availability_90',\n",
    "       'availability_365']"
   ]
  },
  {
   "cell_type": "code",
   "execution_count": null,
   "id": "dadfe8cd",
   "metadata": {},
   "outputs": [],
   "source": [
    "df = df[selectedcols]\n",
    "df.head()"
   ]
  },
  {
   "cell_type": "code",
   "execution_count": null,
   "id": "633bf73b",
   "metadata": {},
   "outputs": [],
   "source": [
    "# Now lets first understand and work on numerical columns\n",
    "df.describe()"
   ]
  },
  {
   "cell_type": "code",
   "execution_count": null,
   "id": "ca171fba",
   "metadata": {},
   "outputs": [],
   "source": [
    "# drop nan columns\n",
    "nan_cols = ['bathrooms',\n",
    "           'neighbourhood_group_cleansed']\n",
    "df.drop(nan_cols, axis=1, inplace=True)\n",
    "df.describe()"
   ]
  },
  {
   "cell_type": "code",
   "execution_count": null,
   "id": "4df99465",
   "metadata": {},
   "outputs": [],
   "source": [
    "# Get list of text columns\n",
    "objcols = df.select_dtypes('object').columns\n",
    "objcols"
   ]
  },
  {
   "cell_type": "code",
   "execution_count": null,
   "id": "25fea05e",
   "metadata": {},
   "outputs": [],
   "source": [
    "# Lets drop picture urls\n",
    "drop_cols = ['host_thumbnail_url', 'host_picture_url']\n",
    "df.drop(drop_cols, axis=1, inplace=True)"
   ]
  },
  {
   "cell_type": "code",
   "execution_count": null,
   "id": "33e6208e",
   "metadata": {},
   "outputs": [],
   "source": [
    "# host_name\n",
    "df['host_name'].str.lower().value_counts()"
   ]
  },
  {
   "cell_type": "code",
   "execution_count": null,
   "id": "f8a37dc9",
   "metadata": {},
   "outputs": [],
   "source": [
    "no = df['neighborhood_overview'].astype('str')\n",
    "len(no[0])"
   ]
  },
  {
   "cell_type": "code",
   "execution_count": null,
   "id": "7f20fef1",
   "metadata": {},
   "outputs": [],
   "source": [
    "# host_since\n",
    "def age(born):\n",
    "    born = datetime.strptime(born, \"%Y-%m-%d\").date()\n",
    "    today = date.today()\n",
    "    return today.year - born.year - ((today.month, \n",
    "                                      today.day) < (born.month, \n",
    "                                                    born.day))\n",
    "df['age'] = df['host_since'].apply(age)\n",
    "df['age']\n",
    "df.drop('host_since', axis=1, inplace=True)\n",
    "df.head()"
   ]
  },
  {
   "cell_type": "code",
   "execution_count": null,
   "id": "a78bcbae",
   "metadata": {},
   "outputs": [],
   "source": [
    "# host_location, Most of the values are similar so can be dropped\n",
    "df['host_location'].value_counts()\n",
    "df.drop('host_location', axis=1, inplace=True)"
   ]
  },
  {
   "cell_type": "code",
   "execution_count": null,
   "id": "96c39564",
   "metadata": {},
   "outputs": [],
   "source": [
    "# host_about"
   ]
  },
  {
   "cell_type": "code",
   "execution_count": null,
   "id": "f5b6d759",
   "metadata": {},
   "outputs": [],
   "source": [
    "# host_response_time\n",
    "df['host_response_time'].value_counts()\n",
    "df['host_response_time'].replace(['within an hour', 'within a few hours', 'within a day', 'a few days or more'],\n",
    "                                [1, 2, 3, 4], inplace=True)\n",
    "df['host_response_time'] = df['host_response_time'].astype('int64')"
   ]
  },
  {
   "cell_type": "code",
   "execution_count": null,
   "id": "7334d9d7",
   "metadata": {},
   "outputs": [],
   "source": [
    "# Lot of null values are there, but this can be important depictor of host behaviour and property, so let's impute\n",
    "df['host_response_time'].isnull().value_counts()"
   ]
  },
  {
   "cell_type": "code",
   "execution_count": null,
   "id": "b0f9f166",
   "metadata": {},
   "outputs": [],
   "source": [
    "sns.boxplot(df.host_response_time)\n",
    "#\n",
    "# Distribution plot\n",
    "#\n",
    "sns.distplot(df.host_response_time)"
   ]
  },
  {
   "cell_type": "code",
   "execution_count": null,
   "id": "a09eb1dc",
   "metadata": {},
   "outputs": [],
   "source": [
    "# Lets fill with median value\n",
    "df['host_response_time'] = df['host_response_time'].fillna(df['host_response_time'].median())\n",
    "df['host_response_time'].isnull().value_counts()"
   ]
  },
  {
   "cell_type": "code",
   "execution_count": null,
   "id": "af2162ef",
   "metadata": {},
   "outputs": [],
   "source": [
    "# host_response_rate\n",
    "df['host_response_rate'].isnull().value_counts()"
   ]
  },
  {
   "cell_type": "code",
   "execution_count": null,
   "id": "ab507547",
   "metadata": {},
   "outputs": [],
   "source": []
  },
  {
   "cell_type": "code",
   "execution_count": null,
   "id": "a274006a",
   "metadata": {},
   "outputs": [],
   "source": [
    "# host_acceptance_rate"
   ]
  },
  {
   "cell_type": "code",
   "execution_count": null,
   "id": "7cfb3bee",
   "metadata": {},
   "outputs": [],
   "source": [
    "# host_is_superhost"
   ]
  },
  {
   "cell_type": "code",
   "execution_count": null,
   "id": "03160879",
   "metadata": {},
   "outputs": [],
   "source": []
  },
  {
   "cell_type": "code",
   "execution_count": null,
   "id": "7c6bd0e0",
   "metadata": {},
   "outputs": [],
   "source": []
  },
  {
   "cell_type": "markdown",
   "id": "2bce72fe",
   "metadata": {},
   "source": [
    "## Let's create a simple dataset from property columns"
   ]
  },
  {
   "cell_type": "code",
   "execution_count": 8,
   "id": "9d2ab4f0",
   "metadata": {},
   "outputs": [],
   "source": [
    "selectedcols = ['name', 'description', 'neighborhood_overview', 'neighbourhood',\n",
    "       'neighbourhood_cleansed', 'neighbourhood_group_cleansed', 'latitude',\n",
    "       'longitude', 'property_type', 'room_type', 'accommodates', 'bathrooms',\n",
    "       'bathrooms_text', 'bedrooms', 'beds', 'amenities', 'price',\n",
    "       'minimum_nights', 'maximum_nights', 'has_availability',\n",
    "       'availability_30', 'availability_60', 'availability_90',\n",
    "       'availability_365']"
   ]
  },
  {
   "cell_type": "code",
   "execution_count": 9,
   "id": "97fe3782",
   "metadata": {},
   "outputs": [
    {
     "data": {
      "text/html": [
       "<div>\n",
       "<style scoped>\n",
       "    .dataframe tbody tr th:only-of-type {\n",
       "        vertical-align: middle;\n",
       "    }\n",
       "\n",
       "    .dataframe tbody tr th {\n",
       "        vertical-align: top;\n",
       "    }\n",
       "\n",
       "    .dataframe thead th {\n",
       "        text-align: right;\n",
       "    }\n",
       "</style>\n",
       "<table border=\"1\" class=\"dataframe\">\n",
       "  <thead>\n",
       "    <tr style=\"text-align: right;\">\n",
       "      <th></th>\n",
       "      <th>name</th>\n",
       "      <th>description</th>\n",
       "      <th>neighborhood_overview</th>\n",
       "      <th>neighbourhood</th>\n",
       "      <th>neighbourhood_cleansed</th>\n",
       "      <th>neighbourhood_group_cleansed</th>\n",
       "      <th>latitude</th>\n",
       "      <th>longitude</th>\n",
       "      <th>property_type</th>\n",
       "      <th>room_type</th>\n",
       "      <th>...</th>\n",
       "      <th>beds</th>\n",
       "      <th>amenities</th>\n",
       "      <th>price</th>\n",
       "      <th>minimum_nights</th>\n",
       "      <th>maximum_nights</th>\n",
       "      <th>has_availability</th>\n",
       "      <th>availability_30</th>\n",
       "      <th>availability_60</th>\n",
       "      <th>availability_90</th>\n",
       "      <th>availability_365</th>\n",
       "    </tr>\n",
       "  </thead>\n",
       "  <tbody>\n",
       "    <tr>\n",
       "      <th>0</th>\n",
       "      <td>Lovely private bedroom in Muswell Hill.</td>\n",
       "      <td>Take a break and unwind at this peaceful oasis.</td>\n",
       "      <td>NaN</td>\n",
       "      <td>NaN</td>\n",
       "      <td>Haringey</td>\n",
       "      <td>NaN</td>\n",
       "      <td>51.597280</td>\n",
       "      <td>-0.139330</td>\n",
       "      <td>Private room in condo</td>\n",
       "      <td>Private room</td>\n",
       "      <td>...</td>\n",
       "      <td>1.0</td>\n",
       "      <td>[\"Iron\", \"Hangers\", \"Hair dryer\", \"Outdoor din...</td>\n",
       "      <td>$100.00</td>\n",
       "      <td>1</td>\n",
       "      <td>365</td>\n",
       "      <td>t</td>\n",
       "      <td>30</td>\n",
       "      <td>60</td>\n",
       "      <td>90</td>\n",
       "      <td>365</td>\n",
       "    </tr>\n",
       "    <tr>\n",
       "      <th>1</th>\n",
       "      <td>Studio Flat  Franklin London</td>\n",
       "      <td>Brand New Modern Kitchen&lt;br /&gt;Close to Excelle...</td>\n",
       "      <td>NaN</td>\n",
       "      <td>NaN</td>\n",
       "      <td>Barnet</td>\n",
       "      <td>NaN</td>\n",
       "      <td>51.636518</td>\n",
       "      <td>-0.177475</td>\n",
       "      <td>Entire rental unit</td>\n",
       "      <td>Entire home/apt</td>\n",
       "      <td>...</td>\n",
       "      <td>1.0</td>\n",
       "      <td>[]</td>\n",
       "      <td>$65.00</td>\n",
       "      <td>180</td>\n",
       "      <td>365</td>\n",
       "      <td>t</td>\n",
       "      <td>30</td>\n",
       "      <td>60</td>\n",
       "      <td>90</td>\n",
       "      <td>365</td>\n",
       "    </tr>\n",
       "    <tr>\n",
       "      <th>2</th>\n",
       "      <td>PropertyPlug - 2Bed Flat in Edgware SmartTV WiFi</td>\n",
       "      <td>Enjoy easy access to everything from this perf...</td>\n",
       "      <td>NaN</td>\n",
       "      <td>NaN</td>\n",
       "      <td>Harrow</td>\n",
       "      <td>NaN</td>\n",
       "      <td>51.608180</td>\n",
       "      <td>-0.277400</td>\n",
       "      <td>Entire rental unit</td>\n",
       "      <td>Entire home/apt</td>\n",
       "      <td>...</td>\n",
       "      <td>2.0</td>\n",
       "      <td>[\"Dining table\", \"Washer\", \"Outdoor furniture\"...</td>\n",
       "      <td>$132.00</td>\n",
       "      <td>2</td>\n",
       "      <td>28</td>\n",
       "      <td>t</td>\n",
       "      <td>12</td>\n",
       "      <td>20</td>\n",
       "      <td>35</td>\n",
       "      <td>35</td>\n",
       "    </tr>\n",
       "    <tr>\n",
       "      <th>3</th>\n",
       "      <td>Wimbledon Double Bedroom Ensuite</td>\n",
       "      <td>A welcoming and stylish 2 bedroom 2 bathroom f...</td>\n",
       "      <td>NaN</td>\n",
       "      <td>NaN</td>\n",
       "      <td>Merton</td>\n",
       "      <td>NaN</td>\n",
       "      <td>51.422310</td>\n",
       "      <td>-0.188410</td>\n",
       "      <td>Private room in rental unit</td>\n",
       "      <td>Private room</td>\n",
       "      <td>...</td>\n",
       "      <td>1.0</td>\n",
       "      <td>[\"Washer\", \"Iron\", \"Hangers\", \"Kitchen\", \"Smok...</td>\n",
       "      <td>$100.00</td>\n",
       "      <td>5</td>\n",
       "      <td>1125</td>\n",
       "      <td>t</td>\n",
       "      <td>30</td>\n",
       "      <td>60</td>\n",
       "      <td>90</td>\n",
       "      <td>365</td>\n",
       "    </tr>\n",
       "    <tr>\n",
       "      <th>4</th>\n",
       "      <td>Stunning Apartment 2 minutes walk to Tube Station</td>\n",
       "      <td>Luxury Modern Apartment in modern development ...</td>\n",
       "      <td>NaN</td>\n",
       "      <td>NaN</td>\n",
       "      <td>Barnet</td>\n",
       "      <td>NaN</td>\n",
       "      <td>51.602282</td>\n",
       "      <td>-0.193606</td>\n",
       "      <td>Entire condo</td>\n",
       "      <td>Entire home/apt</td>\n",
       "      <td>...</td>\n",
       "      <td>1.0</td>\n",
       "      <td>[\"First aid kit\", \"Washer\", \"Fire extinguisher...</td>\n",
       "      <td>$120.00</td>\n",
       "      <td>5</td>\n",
       "      <td>90</td>\n",
       "      <td>t</td>\n",
       "      <td>23</td>\n",
       "      <td>53</td>\n",
       "      <td>83</td>\n",
       "      <td>337</td>\n",
       "    </tr>\n",
       "  </tbody>\n",
       "</table>\n",
       "<p>5 rows × 24 columns</p>\n",
       "</div>"
      ],
      "text/plain": [
       "                                                name  \\\n",
       "0            Lovely private bedroom in Muswell Hill.   \n",
       "1                       Studio Flat  Franklin London   \n",
       "2   PropertyPlug - 2Bed Flat in Edgware SmartTV WiFi   \n",
       "3                   Wimbledon Double Bedroom Ensuite   \n",
       "4  Stunning Apartment 2 minutes walk to Tube Station   \n",
       "\n",
       "                                         description neighborhood_overview  \\\n",
       "0    Take a break and unwind at this peaceful oasis.                   NaN   \n",
       "1  Brand New Modern Kitchen<br />Close to Excelle...                   NaN   \n",
       "2  Enjoy easy access to everything from this perf...                   NaN   \n",
       "3  A welcoming and stylish 2 bedroom 2 bathroom f...                   NaN   \n",
       "4  Luxury Modern Apartment in modern development ...                   NaN   \n",
       "\n",
       "  neighbourhood neighbourhood_cleansed  neighbourhood_group_cleansed  \\\n",
       "0           NaN               Haringey                           NaN   \n",
       "1           NaN                 Barnet                           NaN   \n",
       "2           NaN                 Harrow                           NaN   \n",
       "3           NaN                 Merton                           NaN   \n",
       "4           NaN                 Barnet                           NaN   \n",
       "\n",
       "    latitude  longitude                property_type        room_type  ...  \\\n",
       "0  51.597280  -0.139330        Private room in condo     Private room  ...   \n",
       "1  51.636518  -0.177475           Entire rental unit  Entire home/apt  ...   \n",
       "2  51.608180  -0.277400           Entire rental unit  Entire home/apt  ...   \n",
       "3  51.422310  -0.188410  Private room in rental unit     Private room  ...   \n",
       "4  51.602282  -0.193606                 Entire condo  Entire home/apt  ...   \n",
       "\n",
       "   beds                                          amenities    price  \\\n",
       "0   1.0  [\"Iron\", \"Hangers\", \"Hair dryer\", \"Outdoor din...  $100.00   \n",
       "1   1.0                                                 []   $65.00   \n",
       "2   2.0  [\"Dining table\", \"Washer\", \"Outdoor furniture\"...  $132.00   \n",
       "3   1.0  [\"Washer\", \"Iron\", \"Hangers\", \"Kitchen\", \"Smok...  $100.00   \n",
       "4   1.0  [\"First aid kit\", \"Washer\", \"Fire extinguisher...  $120.00   \n",
       "\n",
       "   minimum_nights  maximum_nights has_availability availability_30  \\\n",
       "0               1             365                t              30   \n",
       "1             180             365                t              30   \n",
       "2               2              28                t              12   \n",
       "3               5            1125                t              30   \n",
       "4               5              90                t              23   \n",
       "\n",
       "   availability_60  availability_90 availability_365  \n",
       "0               60               90              365  \n",
       "1               60               90              365  \n",
       "2               20               35               35  \n",
       "3               60               90              365  \n",
       "4               53               83              337  \n",
       "\n",
       "[5 rows x 24 columns]"
      ]
     },
     "execution_count": 9,
     "metadata": {},
     "output_type": "execute_result"
    }
   ],
   "source": [
    "df = df[selectedcols]\n",
    "df.head()"
   ]
  },
  {
   "cell_type": "code",
   "execution_count": 10,
   "id": "e3ba1fa7",
   "metadata": {},
   "outputs": [
    {
     "data": {
      "text/plain": [
       "name                               5\n",
       "description                      126\n",
       "neighborhood_overview           1392\n",
       "neighbourhood                   1392\n",
       "neighbourhood_cleansed             0\n",
       "neighbourhood_group_cleansed    2000\n",
       "latitude                           0\n",
       "longitude                          0\n",
       "property_type                      0\n",
       "room_type                          0\n",
       "accommodates                       0\n",
       "bathrooms                       2000\n",
       "bathrooms_text                    12\n",
       "bedrooms                         108\n",
       "beds                              36\n",
       "amenities                          0\n",
       "price                              0\n",
       "minimum_nights                     0\n",
       "maximum_nights                     0\n",
       "has_availability                   0\n",
       "availability_30                    0\n",
       "availability_60                    0\n",
       "availability_90                    0\n",
       "availability_365                   0\n",
       "dtype: int64"
      ]
     },
     "execution_count": 10,
     "metadata": {},
     "output_type": "execute_result"
    }
   ],
   "source": [
    "df.isna().sum()"
   ]
  },
  {
   "cell_type": "code",
   "execution_count": 11,
   "id": "2fd7e600",
   "metadata": {},
   "outputs": [],
   "source": [
    "# drop nan columns\n",
    "nan_cols = ['bathrooms',\n",
    "           'neighbourhood_group_cleansed']\n",
    "df.drop(nan_cols, axis=1, inplace=True)"
   ]
  },
  {
   "cell_type": "code",
   "execution_count": 12,
   "id": "b54de350",
   "metadata": {},
   "outputs": [],
   "source": [
    "# Almost 40-50% rows in neighborhood_overview, neighborhood so lets drop them\n",
    "nan_cols = ['neighborhood_overview',\n",
    "           'neighbourhood']\n",
    "df.drop(nan_cols, axis=1, inplace=True)"
   ]
  },
  {
   "cell_type": "code",
   "execution_count": 13,
   "id": "14bbf007",
   "metadata": {},
   "outputs": [
    {
     "data": {
      "text/plain": [
       "name                        5\n",
       "description               126\n",
       "neighbourhood_cleansed      0\n",
       "latitude                    0\n",
       "longitude                   0\n",
       "property_type               0\n",
       "room_type                   0\n",
       "accommodates                0\n",
       "bathrooms_text             12\n",
       "bedrooms                  108\n",
       "beds                       36\n",
       "amenities                   0\n",
       "price                       0\n",
       "minimum_nights              0\n",
       "maximum_nights              0\n",
       "has_availability            0\n",
       "availability_30             0\n",
       "availability_60             0\n",
       "availability_90             0\n",
       "availability_365            0\n",
       "dtype: int64"
      ]
     },
     "execution_count": 13,
     "metadata": {},
     "output_type": "execute_result"
    }
   ],
   "source": [
    "df.isna().sum()"
   ]
  },
  {
   "cell_type": "code",
   "execution_count": 14,
   "id": "b6f264ad",
   "metadata": {},
   "outputs": [
    {
     "data": {
      "text/plain": [
       "name                        0\n",
       "description               125\n",
       "neighbourhood_cleansed      0\n",
       "latitude                    0\n",
       "longitude                   0\n",
       "property_type               0\n",
       "room_type                   0\n",
       "accommodates                0\n",
       "bathrooms_text             12\n",
       "bedrooms                  108\n",
       "beds                       36\n",
       "amenities                   0\n",
       "price                       0\n",
       "minimum_nights              0\n",
       "maximum_nights              0\n",
       "has_availability            0\n",
       "availability_30             0\n",
       "availability_60             0\n",
       "availability_90             0\n",
       "availability_365            0\n",
       "dtype: int64"
      ]
     },
     "execution_count": 14,
     "metadata": {},
     "output_type": "execute_result"
    }
   ],
   "source": [
    "# Drop nan reocrds in name\n",
    "df = df.dropna(subset=['name'])\n",
    "df.isna().sum()"
   ]
  },
  {
   "cell_type": "code",
   "execution_count": 15,
   "id": "d4763508",
   "metadata": {},
   "outputs": [],
   "source": [
    "# Fillna\n",
    "df['description'].fillna('', inplace=True)\n",
    "df['bathrooms_text'].fillna('', inplace=True)\n",
    "df['bedrooms'].fillna(df['bedrooms'].mean(), inplace=True)\n",
    "df['beds'].fillna(df['beds'].mean(), inplace=True)"
   ]
  },
  {
   "cell_type": "code",
   "execution_count": null,
   "id": "cd65b376",
   "metadata": {},
   "outputs": [],
   "source": []
  },
  {
   "cell_type": "code",
   "execution_count": null,
   "id": "4e341500",
   "metadata": {},
   "outputs": [],
   "source": []
  },
  {
   "cell_type": "code",
   "execution_count": null,
   "id": "c2ec16b8",
   "metadata": {},
   "outputs": [],
   "source": []
  },
  {
   "cell_type": "code",
   "execution_count": null,
   "id": "296dd848",
   "metadata": {},
   "outputs": [],
   "source": [
    "def ngrams(text, n=3):\n",
    "    text = text.encode(\"ascii\", errors=\"ignore\").decode() #remove non ascii chars\n",
    "    text = text.lower()\n",
    "    text = text.replace('&', ' and ')\n",
    "    text = text.replace(',', ' ')\n",
    "    text = text.replace('-', ' ')\n",
    "#     chars_to_remove = [\")\",\"(\",\".\",\"|\",\"[\",\"]\",\"{\",\"}\",\"'\"]\n",
    "#     rx = '[' + re.escape(''.join(chars_to_remove)) + ']'\n",
    "#     text = re.sub(rx, '', text)\n",
    "    text = [words for words in text if words not in string.punctuation]\n",
    "    text = ' '.join(text)\n",
    "    text = re.sub(' +',' ',text).strip() # get rid of multiple spaces and replace with a single\n",
    "    text = ' '+ text +' ' # pad names for ngrams...\n",
    "    text = re.sub(r'[,-./]|\\sBD',r'', text)\n",
    "    ngrams = zip(*[text[i:] for i in range(n)])\n",
    "    return [''.join(ngram) for ngram in ngrams]\n"
   ]
  },
  {
   "cell_type": "code",
   "execution_count": null,
   "id": "60709696",
   "metadata": {},
   "outputs": [],
   "source": [
    "ngrams(\"Hello\")"
   ]
  },
  {
   "cell_type": "code",
   "execution_count": null,
   "id": "bb2182c2",
   "metadata": {},
   "outputs": [],
   "source": [
    "property_names = df['name'].unique()\n",
    "vectorizer = TfidfVectorizer(min_df=1, analyzer=ngrams)\n",
    "tf_idf_matrix = vectorizer.fit_transform(property_names)"
   ]
  },
  {
   "cell_type": "code",
   "execution_count": null,
   "id": "579e377a",
   "metadata": {},
   "outputs": [],
   "source": [
    "tf_idf_matrix.shape"
   ]
  },
  {
   "cell_type": "code",
   "execution_count": null,
   "id": "42c075e2",
   "metadata": {},
   "outputs": [],
   "source": [
    "clean_text(df.iloc[0]['description'])"
   ]
  },
  {
   "cell_type": "code",
   "execution_count": 16,
   "id": "72cbab72",
   "metadata": {},
   "outputs": [],
   "source": [
    "CLEANR = re.compile('<.*?>') \n",
    "\n",
    "def clean_series(inp_series):\n",
    "    result = inp_series.apply(lambda x: clean_text(x))\n",
    "    return result\n",
    "    \n",
    "def clean_text(text, ):\n",
    "\n",
    "    def tokenize_text(text):\n",
    "        return [w for s in sent_tokenize(text) for w in word_tokenize(s)]\n",
    "    \n",
    "    def remove_html_tags(text):\n",
    "        return re.sub(CLEANR, '', text)\n",
    "\n",
    "    def remove_special_characters(text, characters=string.punctuation.replace('-', '')):\n",
    "        tokens = tokenize_text(text)\n",
    "        pattern = re.compile('[{}]'.format(re.escape(characters)))\n",
    "        return ' '.join(filter(None, [pattern.sub('', t) for t in tokens]))\n",
    "\n",
    "    def stem_text(text, stemmer=default_stemmer):\n",
    "        tokens = tokenize_text(text)\n",
    "        return ' '.join([stemmer.stem(t) for t in tokens])\n",
    "\n",
    "    def remove_stopwords(text, stop_words=default_stopwords):\n",
    "        tokens = [w for w in tokenize_text(text) if w not in stop_words]\n",
    "        return ' '.join(tokens)\n",
    "\n",
    "    text = text.strip(' ') # strip whitespaces\n",
    "    text = text.lower() # lowercase\n",
    "    text = stem_text(text) # stemming\n",
    "    text = remove_html_tags(text)\n",
    "    text = remove_special_characters(text) # remove punctuation and symbols\n",
    "    text = remove_stopwords(text) # remove stopwords\n",
    "    #text.strip(' ') # strip whitespaces again?\n",
    "\n",
    "    return text"
   ]
  },
  {
   "cell_type": "code",
   "execution_count": 17,
   "id": "47252998",
   "metadata": {},
   "outputs": [
    {
     "data": {
      "text/plain": [
       "FeatureUnion(transformer_list=[('name_tfidf',\n",
       "                                Pipeline(steps=[('extract_field',\n",
       "                                                 FunctionTransformer(func=<function <lambda> at 0x7f56f6f79c10>)),\n",
       "                                                ('cleaning',\n",
       "                                                 FunctionTransformer(func=<function clean_series at 0x7f56f6f79e50>)),\n",
       "                                                ('tfidf', TfidfVectorizer())])),\n",
       "                               ('description_tfidf',\n",
       "                                Pipeline(steps=[('extract_field',\n",
       "                                                 FunctionTransformer(func=<function <lambda> at 0x7f56f6f79dc0>)),\n",
       "                                                ('cleaning',\n",
       "                                                 FunctionTransformer(func=<function clean_series at 0x7f56f6f79e50>)),\n",
       "                                                ('tfidf',\n",
       "                                                 TfidfVectorizer())]))])"
      ]
     },
     "execution_count": 17,
     "metadata": {},
     "output_type": "execute_result"
    }
   ],
   "source": [
    "transformer = FeatureUnion([\n",
    "                ('name_tfidf', \n",
    "                  Pipeline([('extract_field',\n",
    "                              FunctionTransformer(lambda x: x['name'], \n",
    "                                                  validate=False)),\n",
    "                            ('cleaning', \n",
    "                              FunctionTransformer(clean_series)),\n",
    "                            ('tfidf', \n",
    "                              TfidfVectorizer())])),\n",
    "                ('description_tfidf', \n",
    "                  Pipeline([('extract_field', \n",
    "                              FunctionTransformer(lambda x: x['description'], \n",
    "                                                  validate=False)),\n",
    "                            ('cleaning', \n",
    "                              FunctionTransformer(clean_series)),\n",
    "                            ('tfidf', \n",
    "                              TfidfVectorizer())]))]) \n",
    "\n",
    "transformer.fit(df)\n",
    "\n"
   ]
  },
  {
   "cell_type": "code",
   "execution_count": 18,
   "id": "dcd88cfa",
   "metadata": {},
   "outputs": [
    {
     "name": "stdout",
     "output_type": "stream",
     "text": [
      "['01', '010815', '03', '07776789835', '10', '105', '10min', '11', '114', '118', '119', '12', '1320', '14', '14a', '15', '150', '150mb', '15807', '15bath', '15min', '15minstooxfordstrt', '17', '1730', '173hpa', '179', '17th', '185', '18th', '19', '1920', '1bd', '1bdr', '1bed', '1bedflat', '1bedroom', '1br', '1min', '1person', '1ps', '1st', '20', '200', '2015', '20min', '21', '215', '21st', '22', '2206', '23', '247', '24hr', '24th', '25', '25min', '26ls', '27', '2bath', '2bd', '2bed', '2bedr3', '2bedroom', '2br', '2ep', '2f', '2nd', '2peopl', '2week', '30', '3006', '301', '30day', '31', '33', '35', '36', '37', '3a', '3bed', '3br', '3bth', '3c', '3e', '3eh', '3month', '3x3', '41', '42', '44', '45', '45bedroom', '46cm', '49', '4bdr', '4la', '4ppl', '4th', '50', '500m', '5bed', '5min', '5th', '60nt', '67', '6bd', '7di', '7min', '80', '910', '92', '9a', '9workspacesכשר', 'a13', 'abbey', 'abod', 'abov', 'abstract', 'ac', 'academi', 'access', 'accoglient', 'accommod', 'accomod', 'action', 'acton', 'adam', 'admir', 'ador', 'aesthet', 'afford', 'aft', 'air', 'airconluxuri', 'airi', 'airport', 'albani', 'albert', 'aldgat', 'alexandra', 'alreadi', 'amaz', 'angel', 'ann', 'anoth', 'anson', 'apart', 'aparthotel', 'apartm', 'apartmen', 'apartment', 'appart', 'appartamento', 'aprt', 'apt', 'arch', 'architect', 'archway', 'area', 'areafast', 'arm', 'arriv', 'arsen', 'arsenalhighburi', 'art', 'arthau', 'arti', 'artist', 'artsi', 'arundel', 'aspect', 'astound', 'atmospher', 'attach', 'attract', 'august', 'august31st', 'avail', 'avenu', 'award', 'away', 'awesom', 'b2', 'b3', 'babi', 'back', 'backyard', 'baconi', 'baker', 'balconi', 'balham', 'bank', 'banksid', 'banner', 'barbican', 'bargain', 'bark', 'barn', 'baron', 'base', 'basement', 'basic', 'basin', 'bath', 'bathroom', 'battersea', 'bayswat', 'bbq', 'bd', 'bdr', 'beach', 'beauti', 'beauvoir', 'bec', 'bed', 'bed2', 'bedr', 'bedrm', 'bedromm', 'bedroom', 'bedroom2', 'bedrooms', 'beds2bath', 'bedsit', 'bedssofa', 'bedteddington', 'belgrav', 'belgravia', 'belgrov', 'belmontview', 'belsiz', 'belveder', 'ben', 'ber', 'bermondsey', 'best', 'bethnal', 'big', 'bill', 'bjin', 'blackfriar', 'blackheath', 'bliss', 'block', 'bloombsburi', 'bloomsburi', 'blue', 'bnb', 'bohemian', 'bolthol', 'boo', 'book', 'border', 'borough', 'borrow', 'bound', 'boutiqu', 'bow', 'br', 'brand', 'brdway', 'break', 'breakfast', 'brentford', 'brick', 'bricklan', 'bridg', 'bridgeborough', 'bright', 'brilliant', 'britain', 'british', 'britton', 'brixton', 'broadway', 'brockley', 'brockwel', 'broken', 'bromley', 'brook', 'btw', 'bu', 'buckingham', 'budget', 'build', 'built', 'bull', 'bungalow', 'bunk', 'bunkroom', 'busco', 'bush', 'buzz', 'buzzi', 'byth', 'cabin', 'cabl', 'cabot', 'café', 'call', 'calm', 'camberwel', 'camden', 'camera', 'canada', 'canal', 'canalk', 'canari', 'canarywharf', 'canning', 'canonburi', 'capaci', 'carlton', 'carnabi', 'carniv', 'casa', 'caspian', 'castl', 'cat', 'catford', 'cathedr', 'cctv', 'ceil', 'cent', 'center', 'centr', 'central', 'centuri', 'chalk', 'chamberlin', 'chambr', 'chapel', 'charact', 'charm', 'charterhous', 'cheam', 'cheap', 'check', 'cheer', 'cheerful', 'cheerfull3', 'cheeri', 'chelsea', 'chepstow', 'chester', 'cheval', 'chic', 'chigwel', 'chill', 'chingford', 'chiswick', 'christma', 'christoph', 'church', 'cinema', 'circu', 'circusfitzrovia', 'citadin', 'citi', 'cityheathrow', 'clapham', 'claphambrixton', 'clapton', 'classi', 'clean', 'clerkenwel', 'clerkenwell', 'cleveland', 'close', 'coach', 'cobbl', 'cocoon', 'coinquilino', 'collier', 'collindal', 'colour', 'colourfulsunni', 'columbia', 'comfi', 'comfort', 'common', 'commun', 'como', 'compact', 'complet', 'con', 'concierg', 'condo', 'confortabil', 'connect', 'contain', 'contemporari', 'conv', 'conveni', 'convers', 'convert', 'cool', 'cooler', 'cornerislington', 'cosey', 'cosi', 'cosmopolitan', 'cot', 'cottag', 'countri', 'coupl', 'court', 'cove', 'covent', 'cowley', 'cozi', 'cozzi', 'craven', 'crawford', 'creativ', 'crescent', 'cricklewood', 'cross', 'crosscamden', 'crouch', 'crown', 'croydon', 'crystal', 'ctrl', 'cup', 'curtain', 'cute', 'da5', 'dagenham', 'daili', 'dalston', 'dalstonstok', 'dan', 'dani', 'dbl', 'dc', 'de', 'deck', 'deco', 'delux', 'deluxaprt', 'den', 'descent', 'design', 'desk', 'develop', 'dinner', 'direct', 'distanc', 'distinct', 'district', 'divan', 'dobl', 'dock', 'donn', 'door', 'dorm', 'doubl', 'double', 'doublebreakfast', 'dovecot', 'dover', 'dr', 'dream', 'dreami', 'dreamweav', 'du', 'dual', 'dulwich', 'duplex', 'e11', 'e14', 'e16', 'e2', 'e7', 'e9', 'eal', 'earl', 'earlsfield', 'easi', 'east', 'eastcot', 'ec1v', 'ec7', 'economi', 'ed', 'edg', 'edgwar', 'edmonton', 'edward', 'edwardian', 'eleg', 'elegant', 'eleph', 'elizabeth', 'elm', 'embank', 'emlyn', 'empti', 'en', 'end', 'endcentr', 'enfield', 'english', 'enjoy', 'ennismor', 'ensuit', 'entir', 'entireflat', 'entranc', 'equip', 'error', 'essex', 'european', 'euston', 'eve', 'evelin', 'event', 'everyth', 'excel', 'except', 'excit', 'execut', 'exhibit', 'expans', 'experi', 'explor', 'exquisit', 'extra', 'eye', 'f10', 'f3', 'f5', 'fab', 'fabul', 'fac', 'face', 'factori', 'fair', 'fairlop', 'famili', 'familiar', 'family', 'fan', 'fanci', 'fantast', 'far', 'farm', 'farringdon', 'fase', 'fast', 'father', 'feb', 'feel', 'femal', 'fern', 'fi', 'field', 'fil', 'fill', 'financi', 'finchley', 'finest', 'finish', 'finsburi', 'fire', 'first', 'fit', 'fitzrovia', 'flat', 'flat3', 'flatb', 'flatkitchenen', 'floor', 'foam', 'forest', 'four', 'frampton', 'franci', 'franklin', 'free', 'freepark', 'fresh', 'fridg', 'friendli', 'friendliest', 'front', 'ft', 'fulham', 'full', 'fulli', 'fun', 'funki', 'furnish', 'gaba', 'game', 'gant', 'garden', 'gate', 'gateforth', 'gdn', 'gem', 'gener', 'georg', 'georgian', 'getaway', 'gg', 'gina', 'gipsi', 'girl', 'glengal', 'glenmor', 'gloriou', 'gloucest', 'god', 'gold', 'golder', 'good', 'goodmay', 'gorgeou', 'got', 'grand', 'granni', 'great', 'greater', 'green', 'greenwich', 'gregori', 'grendon', 'grn', 'ground', 'group', 'grov', 'grove', 'gs', 'gsk', 'guest', 'guesthous', 'guestreadi', 'gym', 'habitación', 'hackney', 'hackneyclapton', 'hainault', 'hale', 'ham', 'hammersmith', 'hampdenrd', 'hampstead', 'hampton', 'hand', 'happi', 'haringey', 'harrod', 'harrow', 'hart', 'hay', 'hear', 'heart', 'heat', 'heath', 'heathrow', 'height', 'hendon', 'hern', 'hidden', 'hideaway', 'high', 'highburi', 'highgat', 'highli', 'highwood', 'hill', 'hip', 'hire', 'histor', 'hm3', 'holborn', 'holiday', 'holland', 'holloway', 'holybush', 'holyday', 'home', 'homerton', 'homestay', 'homi', 'host', 'host1', 'hostel', 'hot', 'hotel', 'hounslow', 'hous', 'houseboat', 'household', 'housepriv', 'houseshar', 'hoxton', 'hoxtonshoreditch', 'hue', 'huge', 'hut', 'hux', 'hyde', 'icon', 'ideal', 'ii', 'iii', 'imperi', 'incantevol', 'includ', 'incred', 'individu', 'inmacul', 'inn', 'insid', 'interior', 'intern', 'iri', 'island', 'isleworth', 'islington', 'islingtondalston', 'italian', 'iv', 'ivi', 'ix', 'jacuzzi', 'jctn', 'jeymer', 'jhum', 'john', 'joy', 'juli', 'julian', 'julyaugust', 'jun', 'junct', 'junction', 'ken', 'kennington', 'kensal', 'kensinghton', 'kensington', 'kentish', 'kew', 'key', 'kilburn', 'kind', 'king', 'kingsizeb', 'kingston', 'kitchen', 'kitchenbathroom', 'kitchenett', 'knightsbridg', 'koi', 'kt4', 'kx', 'küçük', 'ladbrok', 'ladi', 'lamont', 'lancast', 'lane', 'larg', 'last', 'late', 'laura', 'lbalconi', 'ldn', 'lea', 'leafi', 'led', 'less', 'let', 'level', 'lewisham', 'lexham', 'leyton', 'leytonston', 'lhr', 'life', 'light', 'like', 'lilli', 'line', 'linhop', 'link', 'list', 'littl', 'live', 'liverpool', 'living1', 'loarger', 'loc', 'locat', 'lock', 'lodg', 'loft', 'lon', 'london', 'londoney', 'londonk', 'londonpriv', 'long', 'lookbookholiday', 'loren', 'louer', 'loung', 'love', 'lover', 'lower', 'lusciou', 'lush', 'lux', 'luxhous', 'luxuri', 'luxury', 'm2', 'm555319', 'maddox', 'magic', 'maida', 'maison', 'maisonett', 'malden', 'mallard', 'man', 'manag', 'manhattan', 'manor', 'marbl', 'march', 'mare', 'market', 'markham', 'marsworth', 'marvel', 'maryexcelwestfield', 'marylebon', 'massiv', 'master', 'max', 'mayfai', 'mayfair', 'maysa', 'meal', 'memori', 'meter', 'metro', 'metropolitan', 'mew', 'mezzanin', 'mid', 'mile', 'min', 'minim', 'minimum', 'mint', 'minut', 'mix', 'mj', 'mo', 'modem', 'modern', 'modernis', 'modish', 'moment', 'money', 'moniz', 'month', 'moorgat', 'morden', 'multi', 'multipl', 'museum', 'music', 'muswel', 'mysquar', 'n1', 'n16', 'n17', 'n19', 'n1ec1', 'n4', 'n9', 'napier', 'near', 'neighbourhood', 'netflix', 'new', 'newfinsburi', 'newington', 'newli', 'newyork', 'next', 'ngh', 'nice', 'nicest', 'nine', 'no4', 'north', 'norwood', 'noth', 'nottinghil', 'nox', 'nr', 'nw', 'nw10', 'nw3', 'nw6', 'nw7', 'nw8', 'o2', 'oasi', 'occup', 'ocs1', 'oda', 'offic', 'old', 'olymp', 'olympia', 'one', 'onefinestay', 'onli', 'open', 'opposit', 'orient', 'origin', 'ossington', 'outdoor', 'outlet', 'outstand', 'oval', 'ovalcentr', 'overground', 'overlook', 'own', 'oxford', 'oxt', 'p2e', 'p5', 'pad', 'paddington', 'paddingtonhyd', 'palac', 'pam', 'pancra', 'pankrac', 'park', 'parkbak', 'parksid', 'parkღ', 'parliament', 'parson', 'part', 'pass', 'patio', 'paul', 'pbc', 'peac', 'peanut', 'peckham', 'pegasu', 'peggi', 'pembridg', 'pembrok', 'penthous', 'peopl', 'perfect', 'perfectli', 'period', 'person', 'perspect', 'pet', 'peter', 'petit', 'phamphi', 'philbeach', 'piccadilli', 'pie', 'pimlico', 'pimlicovitoria', 'pin', 'place', 'plan', 'pleas', 'plenti', 'plumstead', 'plumsteadabbey', 'plz', 'point', 'pond', 'pool', 'poolminimum', 'poplar', 'porter', 'portobello', 'posh', 'posit', 'post', 'power', 'premier', 'premis', 'premium', 'present', 'pretti', 'price', 'prime', 'primros', 'privat', 'privata', 'pro', 'profession', 'projector', 'properti', 'propertyplug', 'ps4', 'ps5', 'pub', 'public', 'publov', 'pullman', 'purley', 'putney', 'pw', 'quadrupl', 'quaint', 'quarter', 'queen', 'quiet', 'quirki', 'quit', 'r106', 'r302', 'r9', 'rahat', 'rais', 'rayner', 'rd', 'reach', 'real', 'reali', 'recent', 'red', 'redcliff', 'reduc', 'refurbish', 'regent', 'relax', 'remark', 'rememb', 'remodel', 'renew', 'renov', 'rent', 'rental', 'requir', 'resid', 'residenti', 'restaur', 'retreat', 'retriev', 'richmond', 'ride', 'right', 'rise', 'river', 'riversid', 'riverview', 'rm', 'rm2', 'road', 'romant', 'romford', 'roo', 'roof', 'rooftop', 'rookeri', 'room', 'roomdoubl', 'roomunparallel', 'ros', 'rose', 'rotherhith', 'rout', 'row', 'royal', 'rugbi', 'russel', 'rutland', 'rwc', 'ryan', 's3', 's7', 'sad', 'safe', 'sale', 'sanctuari', 'saver', 'scandi', 'school', 'scross', 'se', 'se1', 'se12', 'se16', 'se27', 'se4', 'seclud', 'second', 'secur', 'self', 'selfridg', 'semi', 'seren', 'servic', 'setup', 'seven', 'shad', 'shadwel', 'shaftsburi', 'shar', 'shard', 'share', 'sheperd', 'shepherd', 'sheri', 'shini', 'shop', 'shops', 'shoreditch', 'shoreditchhoxton', 'shoreditchold', 'shoreditchtow', 'short', 'shower', 'shshshk', 'sid', 'simpl', 'simpli', 'sinclair', 'singl', 'singleroom', 'singlesemi', 'sister', 'site', 'size', 'sky', 'skylight', 'skylin', 'sleek', 'sleep', 'sloan', 'small', 'smart', 'smartli', 'smarttv', 'snoopi', 'snow', 'sofa', 'sofab', 'soho', 'solo', 'sonder', 'sophia', 'sought', 'south', 'southfield', 'southfields', 'southkensington', 'southwark', 'southwest', 'spa', 'space', 'spaciou', 'spacious', 'spacious4beds', 'spaciu', 'spanish', 'spare', 'special', 'speciou', 'spectacular', 'speed', 'spirit', 'split', 'spot', 'spotless', 'sq', 'sqm', 'squar', 'st', 'stadium', 'standard', 'stanza', 'star', 'star5', 'station', 'stay', 'staycat', 'stdio', 'stellar', 'step', 'stepney', 'stjame', 'stn', 'stockley', 'stockwel', 'stoke', 'stone', 'stratford', 'streatham', 'street', 'stroud', 'student', 'studi', 'studio', 'stun', 'stunnd', 'styl', 'style', 'stylish', 'subway', 'sudburi', 'suit', 'suite', 'summer', 'sun', 'sunni', 'sunshin', 'super', 'superb', 'superclean', 'superior', 'superstar', 'sutton', 'sw', 'sw2', 'sweet', 'swept', 'swim', 'tabl', 'taken', 'tast', 'tate', 'teddington', 'teddingtonhampton', 'telegraph', 'tenni', 'terass', 'term', 'terrac', 'terrif', 'tesco', 'test', 'th', 'thame', 'thamesm', 'theme', 'thi', 'thornton', 'three', 'throw', 'thurrock', 'tidi', 'time', 'to', 'toilet', 'toot', 'top', 'tottenham', 'touch', 'toward', 'tower', 'towerbridg', 'towerbridgeboutiwueluxbalconypark', 'town', 'townhous', 'townhouse', 'tradit', 'train', 'tranquil', 'transport', 'travel', 'trendi', 'trip', 'tu', 'tub', 'tube', 'tufnel', 'tulli', 'turnpik', 'tv', 'twickenham', 'twin', 'twn', 'two', 'typic', 'un', 'underground', 'une', 'uniqu', 'unit', 'upon', 'upper', 'upscal', 'upton', 'ur', 'urban', 'use', 'usual', 'uxbridg', 'vale', 'valu', 'vauxhal', 'venic', 'venu', 'veri', 'vi', 'vibe', 'vibrant', 'victoria', 'victorian', 'view', 'viewbalconi', 'villa', 'villag', 'vintag', 'vip', 'voyag', 'w1', 'w12', 'w2', 'w6', 'w7', 'waddon', 'walk', 'walthamstow', 'wandsworth', 'want', 'war', 'wardrob', 'warehous', 'warm', 'warwick', 'washerdry', 'water', 'waterloo', 'way', 'wbalconi', 'wc', 'wealdston', 'week', 'welbeck', 'welcom', 'well', 'wembley', 'west', 'westbourn', 'westfield', 'westminist', 'westminst', 'westminster', 'wey', 'wgarden', 'wharf', 'white', 'whitechapel', 'whitton', 'whole', 'wi', 'wick', 'wifi', 'wifidesk', 'wimbledo', 'wimbledon', 'win', 'windmil', 'winter', 'without', 'wonder', 'wonderland', 'wood', 'wooden', 'woolwich', 'worcest', 'work', 'workspace', 'world', 'wpatio', 'wprivat', 'wt', 'wter', 'wterrac', 'xii', 'xl', 'xma', 'xxxxxxxxxxxxxxxlsb', 'year', 'york', 'young', 'z2', 'zen', 'zone', 'zone1', 'zzzzzlongstay', 'ღvibrant', '伦敦市中心短租', '00h', '01', '02', '05', '06', '06oct', '07', '08', '09', '10', '100', '1000', '100m', '100mb', '100sqm', '100th', '1024', '105', '105sqm', '10am', '10cm', '10m', '10min', '10minut', '10pm', '10th', '11', '110', '1100pm', '110sqm', '111', '11am', '11pm', '11th', '12', '120', '1200', '120m', '122m', '1230pm', '1250', '1250day', '12ft', '12min', '12minut', '12mn', '12th', '13', '130', '1300', '1320', '134', '135cmx200cm', '135x180cm', '136', '136cm', '13min', '13th', '14', '140', '1400', '140yr', '144', '149', '14m', '14min', '14minut', '14th', '15', '150', '1500', '150cm', '150mb', '1520', '1530', '159', '15m', '15min', '15sqm', '15th', '16', '160', '1600', '160cm', '16469', '1676', '168', '1690', '1698332', '16th', '17', '1700', '171', '1730', '175', '1792', '17min', '17th', '18', '180', '1800', '180ft', '18191', '1821', '185', '1850', '1860', '1884', '18a', '18min', '18th', '19', '190', '1900', '1905', '1909', '190cm', '1920', '1930', '1940', '194236', '1950', '196', '1963', '19th', '1bat', '1bd', '1br', '1f', '1fn', '1gb', '1loxford', '1m', '1min', '1pm', '1st', '1x', '1xbathroom', '20', '200', '2000', '20000', '2003', '2004', '2006', '2008', '200cm', '200mtr', '2011', '2012', '2012new', '2015', '2016', '2017', '2018', '2019', '2020', '2021', '2022', '2023', '202324', '2030', '20775', '20a', '20min', '20th', '20ºc', '21', '2100', '211', '2112', '213', '214', '21st', '22', '220', '22min', '23', '236', '23min', '23sep', '24', '243', '247', '24gbp', '24h', '24hour', '24hr', '24hrs', '24th', '25', '250', '25min', '25th', '26', '266', '266m', '26ft', '26gbp', '26min', '26th', '27', '27min', '27th', '28', '280sq', '2820', '29', '295', '29th', '2br', '2ft', '2guest', '2m', '2min', '2nd', '2pam', '2pm', '2weekmin', '2x', '2xtoilet', '30', '300', '300m', '300night', '30354', '30min', '30mn', '30sec', '30sqm', '30th', '30ti', '31', '31st', '32', '326', '349', '35', '350', '3500', '358', '358sq', '35min', '36', '360', '36th', '37', '38', '39', '3ar', '3bed', '3bedroom', '3d', '3eh', '3et', '3km', '3m', '3min', '3minut', '3mn', '3pm', '3rd', '40', '400', '4000', '400ft', '400sq', '406', '40m2', '41', '42', '42in', '43', '43min', '44', '45', '450', '45min', '476', '48', '48inch', '48min', '49', '497', '4br', '4ft', '4hour', '4k', '4l', '4min', '4pm', '4rb', '4t', '4th', '50', '500', '500sqft', '50m', '50mb', '50mbps', '51', '53', '55', '56', '57', '5921', '5ft', '5g', '5min', '5mintu', '5minut', '5mn', '5pq', '5rw', '5th', '60', '600', '6000', '606', '60inch', '62m2', '63', '64', '65', '67', '680', '6ft', '6jd', '6min', '6pm', '6th', '70', '700', '700pm', '710', '72inch', '73', '73mb', '74', '745pm', '75', '76', '7am', '7meter', '7min', '7pm', '7th', '800', '80in', '80m2', '830am', '830pm', '85', '85m2', '85sq', '88', '890', '8hour', '8min', '8pm', '8th', '90', '900', '900am', '930', '930am', '9580', '95sqm', '96', '99999', '9am', '9lw', '9min', '9th', 'a12', 'a1m', 'a3', 'a4', 'a406', 'a40m40', 'a41', 'abat', 'abba', 'abbevil', 'abbey', 'abbeyvil', 'abel', 'abil', 'abl', 'aboard', 'abod', 'abound', 'abov', 'absolut', 'abstract', 'abund', 'abundance', 'ac', 'academi', 'acc', 'accent', 'accentu', 'accept', 'accepted', 'access', 'accessalso', 'accessibility', 'accessori', 'accid', 'accommod', 'accommodated', 'accommodation', 'accomod', 'accord', 'account', 'accoutrements', 'accueil', 'accè', 'ace', 'acesso', 'ach', 'achiev', 'acknowledg', 'acogedora', 'acomodação', 'aconchegant', 'aconchego', 'acr', 'across', 'act', 'action', 'activ', 'activit', 'acton', 'actual', 'acupunctur', 'ad', 'adam', 'adapt', 'adapter', 'adaptor', 'adatto', 'add', 'addit', 'additon', 'address', 'adjac', 'adjoin', 'adjust', 'admir', 'ador', 'adorn', 'adrenalin', 'adt', 'adult', 'adults', 'adultschildren', 'advac', 'advanc', 'advance', 'advantag', 'adventur', 'adventurers', 'adventures', 'advert', 'advertis', 'advic', 'advis', 'aeg', 'aeltc', 'aesthet', 'affection', 'affluent', 'afford', 'affords', 'afraid', 'africa', 'aft', 'aftern', 'afternoon', 'aga', 'age', 'agenc', 'agent', 'ago', 'agre', 'agreement', 'ahead', 'aid', 'aim', 'air', 'airb', 'airbnb', 'airbnber', 'aircondit', 'airer', 'airfl', 'airflow', 'airi', 'airport', 'airports', 'al', 'alarm', 'alba', 'albert', 'albion', 'alcohol', 'alcov', 'aldgat', 'aldi', 'aldona', 'ale', 'alexa', 'alexandra', 'alfresco', 'alguma', 'alik', 'alike', 'all', 'allen', 'allerg', 'allergi', 'alley', 'alleyway', 'alli', 'alloc', 'alloggeret', 'alloggio', 'allot', 'allow', 'allowances', 'allowed', 'allur', 'almost', 'alo', 'alojamiento', 'alon', 'along', 'alongsid', 'alot', 'aloud', 'alperton', 'alreadi', 'also', 'altern', 'altho', 'although', 'altido', 'alway', 'amar', 'amaz', 'amazingli', 'amazon', 'ambassadori', 'ambianc', 'ambienc', 'ambient', 'amen', 'amenities', 'amentit', 'american', 'amid', 'amidst', 'ammen', 'ammenti', 'amoblado', 'among', 'amongst', 'amount', 'amp', 'ampl', 'ana', 'anch', 'ancient', 'and', 'and4th', 'andando', 'andaz', 'andor', 'anerley', 'angel', 'angelhighburi', 'anglo', 'ani', 'anim', 'ann', 'annoy', 'annual', 'anonym', 'anoth', 'anson', 'answer', 'ant', 'anti', 'antibodi', 'antiqu', 'anymor', 'anyon', 'anyth', 'anytim', 'anyway', 'anywher', 'ao', 'apart', 'apartamento', 'aparthotel', 'apartm', 'apartment', 'apartmentth', 'apartmentunit', 'apiec', 'aplenti', 'apollo', 'apothecari', 'app', 'appart', 'appeal', 'appear', 'appl', 'appletv', 'appli', 'applianc', 'appliancesheatingl', 'applianceslaundri', 'applic', 'appoint', 'appreci', 'appro', 'appropri', 'approv', 'approx', 'approxim', 'april', 'aproxim', 'apt', 'aquamarin', 'aquarium', 'aquat', 'aquiet', 'ar', 'arch', 'archbishop', 'architect', 'architectu', 'architectur', 'architecture', 'archivist', 'archway', 'arduou', 'area', 'areal', 'arear', 'areas', 'arena', 'argo', 'arguabl', 'arm', 'armchair', 'armchairs', 'armoir', 'arnold', 'around', 'arrang', 'array', 'arri', 'arriv', 'arrival', 'arrive', 'arrumada', 'arsen', 'art', 'arthau', 'arti', 'artifici', 'artisan', 'artist', 'artists', 'artsi', 'artwork', 'as', 'asap', 'asda', 'asia', 'asid', 'ask', 'asleep', 'aspect', 'aspinallsett', 'aspir', 'assist', 'assistance', 'assur', 'astor', 'astut', 'athlet', 'atm', 'atmospher', 'atmosphere', 'atmospheretel', 'atop', 'att', 'attach', 'attempt', 'attend', 'attent', 'attic', 'attract', 'attractions', 'attractionskensington', 'aubrey', 'auction', 'audio', 'audiovisu', 'aug', 'august', 'aura', 'aussi', 'australia', 'australian', 'austria', 'authent', 'author', 'authoris', 'autom', 'automat', 'autumn', 'av', 'avail', 'availability', 'available', 'availi', 'avali', 'avec', 'avenu', 'aver', 'averag', 'avial', 'avoid', 'aw', 'await', 'awar', 'award', 'away', 'awesom', 'ba', 'babi', 'baby', 'bachelor', 'bachelorett', 'back', 'backdrop', 'backgroun', 'background', 'backpack', 'backup', 'backyard', 'bacteria', 'bad', 'bag', 'bahtroom', 'bain', 'bake', 'baker', 'bakeri', 'bakerloo', 'bakerloooverground', 'bakla', 'bakou', 'balanc', 'balconi', 'balcony', 'balham', 'ball', 'ballet', 'balmi', 'bamboo', 'banfield', 'bang', 'bank', 'banker', 'banks', 'banksid', 'bar', 'barbecu', 'barbecue', 'barbequ', 'barber', 'barbican', 'bare', 'bargain', 'barista', 'bark', 'barkantin', 'barki', 'barkingsid', 'barn', 'barnet', 'barnsburi', 'baron', 'barrestaur', 'barrist', 'bars', 'barspub', 'barsrestaur', 'bas', 'base', 'basement', 'basi', 'basic', 'basin', 'basisif', 'bask', 'basket', 'basketbal', 'bath', 'bathpow', 'bathrob', 'bathroom', 'bathrooms', 'bathroomshow', 'bathroomshowertoilet', 'bathroomswc', 'bathroomtoilet', 'bathshow', 'bathtub', 'batteri', 'battersea', 'bay', 'bayswat', 'bayswater', 'baño', 'bb', 'bbc', 'bbq', 'bd', 'bdc', 'bdr', 'beach', 'beadroom', 'beam', 'bear', 'beardsley', 'beat', 'beatl', 'beauchamp', 'beauti', 'beauvoir', 'bec', 'becaus', 'beckenham', 'beckton', 'becom', 'becous', 'bed', 'bed2', 'bedcouch', 'beddinglinen', 'bedlinen', 'bednetflixcoffe', 'bedr', 'bedrm', 'bedro', 'bedroom', 'bedroom2', 'bedroomoffic', 'bedrooms', 'bedroomtwo', 'bedrooom', 'beds', 'beds1', 'bedsecond', 'bedsheet', 'bedsid', 'bedside', 'bedsit', 'bedspr', 'bee', 'beech', 'beer', 'befor', 'beforehand', 'begin', 'beguil', 'behalf', 'behav', 'behavior', 'behind', 'beig', 'beigel', 'being', 'belgrav', 'belgravia', 'belgrov', 'believ', 'belingham', 'bell', 'bellevu', 'belong', 'belongings', 'belsiz', 'belt', 'ben', 'bench', 'beneath', 'benefi', 'benefit', 'benparlia', 'benthal', 'bermondsey', 'bermonsey', 'bernadett', 'berni', 'berth', 'bertoia', 'besid', 'bespok', 'best', 'bestflatm', 'bet', 'bethnal', 'better', 'between', 'beverag', 'bexley', 'bexleyhealth', 'beyond', 'bi', 'bicycl', 'bide', 'bidet', 'bien', 'bienvenido', 'bifold', 'big', 'bigger', 'biggest', 'bight', 'bike', 'bikes', 'bikram', 'bill', 'billingsg', 'bin', 'bio', 'bioethanol', 'biofresh', 'bir', 'bird', 'birds', 'birdsong', 'birth', 'biscuit', 'bishop', 'bishopsg', 'bistro', 'bit', 'black', 'blackfriar', 'blackheath', 'blackhors', 'blackout', 'blackwal', 'blade', 'blame', 'blanket', 'blend', 'blender', 'bleue', 'blind', 'blink', 'bliss', 'block', 'bloom', 'bloomsburi', 'blow', 'blu', 'blue', 'blueground', 'bluetooth', 'bluevictoria', 'bluewat', 'bnb', 'bnber', 'board', 'boarder', 'boast', 'boat', 'boch', 'bodi', 'bohemian', 'boho', 'boil', 'boiler', 'bold', 'boldli', 'bolt', 'bolthol', 'bom', 'bon', 'bond', 'bone', 'bonu', 'book', 'bookcas', 'booking', 'bookish', 'bookshelf', 'bookshelv', 'boost', 'boot', 'bordello', 'border', 'borders', 'bore', 'bori', 'born', 'borough', 'boroughzon', 'borrow', 'bosch', 'boscomb', 'bose', 'bostal', 'boston', 'bother', 'bottl', 'bottom', 'bought', 'bounci', 'bound', 'boundari', 'bout', 'boutiqu', 'bow', 'bowl', 'bowler', 'box', 'boxpark', 'boy', 'boyfriend', 'br', 'brand', 'brasseri', 'brave', 'brazil', 'brazilian', 'bread', 'break', 'breakfa', 'breakfast', 'breath', 'breathtak', 'bred', 'breeze', 'brent', 'brew', 'breweri', 'bri', 'brick', 'bricklan', 'bricklane', 'brickwork', 'bridg', 'bridge', 'bridgecannon', 'brief', 'briefli', 'bright', 'brighter', 'brightli', 'brightlot', 'brighton', 'bril', 'brilliant', 'brilliantli', 'brim', 'bring', 'briqu', 'brita', 'britain', 'british', 'britton', 'brixton', 'broa', 'broadban', 'broadband', 'broadway', 'broadwick', 'brockley', 'brockwel', 'brodway', 'bromley', 'bromleygrov', 'brompton', 'brondesburi', 'brook', 'brookbank', 'brought', 'brown', 'brows', 'bruce', 'bruford', 'brunch', 'brunel', 'brussel', 'brutalist', 'bryanston', 'bt', 'bu', 'bub', 'bubbl', 'bucket', 'buckingham', 'buddhist', 'budget', 'build', 'building', 'buildinghigh', 'buildingt', 'built', 'buis', 'bulb', 'bull', 'bullet', 'bulunan', 'bunch', 'bungalow', 'bunk', 'bunkb', 'bunkroom', 'burberri', 'bureau', 'burger', 'burn', 'burner', 'burst', 'bus', 'bus10min', 'busalso', 'busbik', 'buse', 'buses', 'bush', 'bushey', 'bushi', 'busi', 'busier', 'busiest', 'businessmen', 'buss', 'buster', 'bustl', 'bustle', 'bustrainunderground', 'bustub', 'busy', 'butcher', 'butler', 'butter', 'button', 'buy', 'buzz', 'buzzi', 'buzzl', 'bw', 'by', 'bénéficiera', 'c2c', 'ca', 'cab', 'cabbi', 'cabin', 'cabinet', 'cabl', 'cafe', 'cafebar', 'cafes', 'cafeseateri', 'cafesrestaur', 'cafetier', 'caffè', 'café', 'cake', 'calamin', 'calcul', 'caledonian', 'calend', 'calendar', 'california', 'call', 'calm', 'cama', 'camberwel', 'cambridg', 'camden', 'camdenreg', 'came', 'camera', 'camerich', 'caminando', 'camley', 'camp', 'camper', 'canada', 'canal', 'canari', 'cancel', 'candl', 'canning', 'cannon', 'canonburi', 'cant', 'canva', 'canvas', 'capabl', 'capac', 'capi', 'capit', 'capital', 'cappacinno', 'capsul', 'captain', 'car', 'carbon', 'card', 'cardboard', 'care', 'caribbean', 'carlton', 'carnabi', 'carniv', 'carpet', 'carri', 'carriag', 'cars', 'carshalton', 'casa', 'casai', 'case', 'cash', 'cask', 'castl', 'cat', 'catalan', 'catch', 'catedr', 'cater', 'catford', 'cathedr', 'cats', 'caught', 'causa', 'caveri', 'cctv', 'cd', 'ce', 'cedar', 'ceil', 'ceiling', 'celebr', 'celebrations', 'cell', 'cemeteri', 'cental', 'center', 'centr', 'central', 'centraleastnorth', 'centralis', 'centrallin', 'centrally', 'centralnorth', 'centre', 'centresoho', 'centric', 'centro', 'centuri', 'ceram', 'cerca', 'cereal', 'cereals', 'ceremoni', 'certain', 'certainli', 'cest', 'ch', 'chadwel', 'chagim', 'chain', 'chair', 'chairs', 'chairsblack', 'chalk', 'chalkboard', 'chamber', 'chamberlin', 'chambr', 'championship', 'championships', 'chan', 'chanc', 'chanceri', 'chandeli', 'chanel', 'chang', 'channel', 'channels', 'chaotic', 'chapel', 'char', 'charact', 'character', 'characterfil', 'characteris', 'chare', 'charg', 'charge', 'chargeabl', 'chariti', 'charlott', 'charm', 'charmat', 'charmingli', 'charterhous', 'chase', 'chat', 'chatsworth', 'cheap', 'cheaper', 'cheaperbetter', 'check', 'checking', 'checkout', 'cheer', 'chef', 'chelmsford', 'chelsea', 'chelseasouth', 'chemical', 'chemist', 'chepstow', 'cherri', 'chest', 'chester', 'chesterfield', 'cheval', 'chez', 'chi', 'chic', 'chicken', 'child', 'childeren', 'children', 'chill', 'chilli', 'chines', 'ching', 'chingford', 'chip', 'chiswick', 'chock', 'choic', 'choice', 'choos', 'chosen', 'christma', 'christoph', 'chromecast', 'chronicl', 'chunki', 'church', 'churchil', 'churchyard', 'cigarett', 'cinema', 'cinematvrokudownloadyoutub', 'cineworld', 'ciou', 'circa', 'circl', 'circu', 'circular', 'circus', 'circuschinatown', 'circusfitzrovia', 'circuss', 'citi', 'cities', 'citru', 'city', 'citycanari', 'citycentr', 'civil', 'civilis', 'claim', 'clapham', 'claphamclapham', 'clapton', 'class', 'classi', 'classic', 'clawfoot', 'clean', 'cleaned', 'cleaner', 'cleaning', 'cleaningshopsrestaur', 'cleanli', 'clear', 'clearli', 'cleid', 'clerkenwel', 'clerkenwell', 'clerkenwellfarringdonec1', 'clerkenwellislington', 'cleverli', 'click', 'climat', 'climb', 'clipper', 'clissold', 'clo', 'cloakroom', 'clock', 'cloister', 'close', 'closebi', 'closeby', 'closebytub', 'closer', 'closest', 'closet', 'closets', 'cloth', 'clothes', 'cloud', 'club', 'clubs', 'cluster', 'cm', 'co', 'coach', 'coal', 'coast', 'coat', 'coats', 'cobbl', 'cocina', 'cocktail', 'code', 'coff', 'coffe', 'coffee', 'coffeeshop', 'coir', 'coisa', 'cold', 'colder', 'cole', 'colefax', 'colindal', 'colleagu', 'collect', 'collecteddeliv', 'colleg', 'collegu', 'coller', 'colombia', 'color', 'colour', 'colours', 'columbia', 'com', 'combi', 'combin', 'combinatio', 'combo', 'come', 'comedi', 'comedor', 'comfi', 'comfort', 'comfortable', 'comfot', 'comitet', 'commerci', 'commit', 'commod', 'commodité', 'common', 'commonliv', 'commun', 'communicated', 'commut', 'como', 'comod', 'compact', 'compani', 'company', 'compar', 'compart', 'compel', 'compens', 'compet', 'complement', 'complet', 'complex', 'complexes', 'compli', 'compliment', 'complimentari', 'compos', 'compr', 'comprehens', 'compris', 'compromis', 'compton', 'comput', 'comun', 'con', 'concept', 'concern', 'concierg', 'conciergesecur', 'condiment', 'condit', 'condition', 'conditioningh', 'condo', 'conect', 'confer', 'confid', 'confidenti', 'configur', 'confirm', 'conform', 'confort', 'confortável', 'congest', 'conn', 'connect', 'connection', 'connectivity', 'connexion', 'conrad', 'cons', 'consecut', 'conserv', 'conservatori', 'conservatoryworkshop', 'consid', 'consist', 'consit', 'constant', 'constitu', 'construct', 'cont', 'contact', 'contain', 'contained', 'contempl', 'contemporari', 'content', 'continent', 'continu', 'contract', 'contractor', 'contrast', 'control', 'conveni', 'convenient', 'conveniently', 'convers', 'conversion', 'convert', 'convini', 'cook', 'cookbook', 'cooker', 'cookwar', 'cool', 'cooler', 'coolest', 'coolheat', 'coon', 'coppi', 'copthal', 'cor', 'corbusi', 'cordless', 'corinthia', 'corner', 'cornic', 'coron', 'corona', 'corpor', 'corporatecontractor', 'correct', 'correr', 'corridor', 'cosi', 'cosmopolitan', 'cost', 'costa', 'cosyth', 'cot', 'cotb', 'cote', 'cottag', 'cottage', 'cotton', 'couch', 'could', 'couldnt', 'council', 'count', 'counter', 'counti', 'countless', 'countri', 'countrysid', 'coupl', 'couples', 'couplesingl', 'couplesmal', 'cours', 'course', 'court', 'courtfield', 'courtyard', 'cov', 'cove', 'covent', 'cover', 'covert', 'covet', 'covid', 'covid19', 'cowley', 'cozi', 'crack', 'cracker', 'craft', 'craven', 'crawl', 'crayford', 'crazi', 'cream', 'creat', 'creativ', 'credent', 'crescent', 'crib', 'cricket', 'cricklewood', 'crisp', 'crispli', 'cro', 'crock', 'crockeri', 'crosharbour', 'cross', 'crossbank', 'crossrail', 'crouch', 'crowd', 'crown', 'croydon', 'crypt', 'crystal', 'cs', 'cubbi', 'cube', 'cubic', 'cubicl', 'cubitt', 'cuisin', 'cuisine', 'cuisines', 'cul', 'culinari', 'cultur', 'cum', 'cuor', 'cup', 'cupboard', 'cupboardfridg', 'curat', 'curl', 'current', 'curri', 'curtain', 'curtains', 'cushi', 'cushion', 'cusin', 'custom', 'customis', 'cut', 'cute', 'cutleri', 'cutter', 'cutti', 'cutting', 'cycl', 'céntrica', 'da', 'dado', 'dagenham', 'daili', 'daily', 'dalston', 'daltson', 'damag', 'dampi', 'dan', 'dancer', 'danger', 'danni', 'dappl', 'dar', 'dark', 'dart', 'date', 'daughter', 'david', 'dawn', 'day', 'dayb', 'daylight', 'days', 'dayssmok', 'daytim', 'de', 'deadlin', 'deal', 'dealt', 'dear', 'death', 'debeauvoirdalston', 'dec', 'decad', 'decemb', 'decent', 'decid', 'decis', 'deck', 'declin', 'deco', 'decor', 'dedic', 'deep', 'deepli', 'defect', 'definit', 'degre', 'dei', 'deixar', 'del', 'delay', 'delect', 'deli', 'delic', 'delicatessen', 'delici', 'delight', 'deliv', 'deliveri', 'della', 'delonghi', 'delux', 'delv', 'demand', 'demo', 'democraci', 'demonstr', 'demur', 'deni', 'denmark', 'depart', 'departamento', 'departmen', 'departur', 'depend', 'depict', 'deport', 'deposit', 'deptford', 'depui', 'descend', 'describ', 'descript', 'design', 'designs', 'desir', 'desirable', 'desk', 'deskworkst', 'despit', 'destin', 'destinations', 'detach', 'detail', 'details', 'detect', 'develop', 'development', 'devic', 'devot', 'dhort', 'di', 'diamond', 'diana', 'dica', 'dick', 'differ', 'difficult', 'difficulti', 'digit', 'dimmer', 'din', 'dine', 'diner', 'dinin', 'dining', 'diningkitchen', 'diningliv', 'dinner', 'dinning', 'dinningliv', 'dinosaur', 'dip', 'direct', 'directli', 'director', 'dirti', 'disabl', 'disappoint', 'discern', 'disclaim', 'discount', 'discov', 'discover', 'discreet', 'discreetli', 'discret', 'discuss', 'dish', 'dishawash', 'dishwa', 'dishwahs', 'dishwash', 'dishwasher', 'disinfect', 'disinfectants', 'disney', 'dispon', 'dispos', 'disposit', 'distanc', 'distance', 'distant', 'distinct', 'distr', 'distract', 'distric', 'district', 'disturb', 'distância', 'divan', 'divers', 'divid', 'dlr', 'dm', 'dobl', 'dock', 'dockland', 'doctor', 'document', 'documentar', 'doe', 'dog', 'doll', 'dolli', 'dollop', 'dolphin', 'domest', 'domin', 'don', 'donc', 'dond', 'done', 'donn', 'door', 'doorknob', 'doorman', 'doorstep', 'doorway', 'dora', 'dorchest', 'dorset', 'dot', 'dou', 'doub', 'doubl', 'double', 'double1', 'doubt', 'douch', 'dover', 'dovetail', 'down', 'download', 'downstair', 'downstairs', 'dozen', 'dr', 'drake', 'drastic', 'draw', 'drawer', 'drawers', 'drawersdesk', 'drawershang', 'dream', 'dreami', 'dreams', 'dress', 'dresser', 'dri', 'drier', 'drink', 'drinks', 'drive', 'driveway', 'drop', 'drowsili', 'drummond', 'drunk', 'dry', 'drye', 'dryer', 'dss', 'du', 'dual', 'duck', 'due', 'duel', 'dull', 'dulwich', 'dulwichhonor', 'dun', 'duo', 'duplex', 'durat', 'dure', 'dusk', 'duski', 'duti', 'duvet', 'dvd', 'dvdblu', 'dw', 'dwell', 'dynam', 'dyson', 'décor', 'e11', 'e14', 'e148j', 'e2', 'e3', 'e5', 'e8', 'each', 'eadili', 'eager', 'eal', 'eam', 'earl', 'earli', 'earlier', 'earliest', 'earlsfield', 'early1900', 'earth', 'eas', 'ease', 'easi', 'easier', 'easili', 'easily', 'east', 'eastcot', 'eastern', 'eastward', 'eastwest', 'easy', 'eat', 'eateri', 'eaton', 'eburi', 'ec2m4nr', 'eclect', 'eco', 'ecolog', 'economi', 'ect', 'ed', 'edg', 'edgewar', 'edgi', 'edgwar', 'edinburgh', 'edith', 'edmonton', 'educ', 'edward', 'edwardian', 'effect', 'effici', 'effort', 'effortless', 'effortlessli', 'eg', 'egg', 'egyptian', 'ei', 'eight', 'eighteenth', 'either', 'el', 'elderli', 'elector', 'electr', 'eleg', 'elegant', 'elegantli', 'element', 'eleph', 'elev', 'elevator', 'eliot', 'elisabeth', 'elizabeth', 'elizebeth', 'elm', 'els', 'elsi', 'elverson', 'elystan', 'em', 'email', 'embank', 'embassi', 'emer', 'emerg', 'emir', 'emma', 'emperor', 'emphasi', 'empir', 'employ', 'employe', 'empti', 'en', 'enabl', 'enchant', 'encircl', 'enclav', 'enclos', 'encontrar', 'encontrará', 'encourag', 'end', 'endeavour', 'endless', 'endow', 'endroit', 'energet', 'energi', 'engin', 'england', 'english', 'enhanc', 'enj', 'enjoy', 'enjoyable', 'ennersdal', 'ennismor', 'enorm', 'enough', 'enquir', 'enquiri', 'ensout', 'ensu', 'ensuit', 'ensuite', 'ensur', 'enter', 'entertain', 'entertaining', 'enthusiast', 'entir', 'entireti', 'entranc', 'entrance', 'entrances', 'entrepreneur', 'entrepreneuri', 'entri', 'entry', 'entryway', 'enviabl', 'enviro', 'environ', 'environment', 'ep', 'eq', 'equal', 'equestrian', 'equi', 'equidist', 'equip', 'equipment', 'equipmentsroom', 'equipmentutensil', 'equipt', 'era', 'ergi', 'ergonom', 'erith', 'ern', 'ernest', 'es', 'es120', 'escap', 'espaço', 'especi', 'espresso', 'essenti', 'essentials', 'essex', 'est', 'establish', 'estadía', 'estat', 'estação', 'estim', 'está', 'et', 'eta', 'etc', 'etcmi', 'ethanol', 'ethernet', 'eu', 'europ', 'europe', 'european', 'eurostar', 'euston', 'evan', 'eve', 'even', 'evening', 'evenings', 'event', 'eventparti', 'ever', 'everi', 'everybodi', 'everyday', 'everyon', 'everyone', 'everyth', 'everything', 'everythıng', 'everywher', 'everywhere', 'ex', 'exact', 'exampl', 'exceedingli', 'excel', 'except', 'excess', 'exchang', 'excit', 'exclud', 'exclus', 'execut', 'executive', 'exemplari', 'exemplifi', 'exercis', 'exert', 'exhibit', 'exhibitions', 'exhilar', 'exist', 'exit', 'exmouth', 'exot', 'expand', 'expans', 'expect', 'expected', 'expens', 'expensive', 'experi', 'experienc', 'experience', 'expertli', 'explain', 'explor', 'explore', 'exploringthi', 'expos', 'exposur', 'express', 'expresso', 'exquisit', 'extend', 'extens', 'exterior', 'extern', 'extinguish', 'extra', 'extractor', 'extrem', 'exud', 'ey', 'eye', 'fa', 'fab', 'faber', 'fabric', 'fabul', 'fabuleux', 'fac', 'facad', 'face', 'facil', 'facilit', 'faciliti', 'facilities', 'facilitiesno', 'fact', 'factor', 'factori', 'fair', 'fairli', 'faith', 'fall', 'fam', 'fame', 'famiglia', 'famil', 'famili', 'families', 'familiesfriends', 'family', 'familycorpor', 'famoso', 'famou', 'fan', 'fanci', 'fantasct', 'fantast', 'far', 'fare', 'farm', 'farmer', 'farmhous', 'farmland', 'farr', 'farringdon', 'fascin', 'fashion', 'fashionista', 'fast', 'fastest', 'faux', 'favorit', 'favourit', 'façad', 'fc', 'feast', 'feather', 'featur', 'feb', 'february', 'fee', 'feed', 'feedback', 'feel', 'feet', 'feliz', 'fell', 'fellow', 'felt', 'feltham', 'felxabl', 'femal', 'female', 'females', 'fenchurch', 'fenêtr', 'fermat', 'ferri', 'festiv', 'fi', 'fiber', 'fibr', 'ficarei', 'field', 'fieldsbroadway', 'fifteen', 'fifth', 'fil', 'fill', 'film', 'filter', 'final', 'financ', 'financi', 'finch', 'finchley', 'find', 'fine', 'finer', 'finest', 'finish', 'finsburi', 'fire', 'fireplac', 'fireplc', 'firework', 'firm', 'first', 'firstli', 'fish', 'fit', 'fitt', 'fittings', 'fitzrovia', 'five', 'fixtur', 'fizz', 'fl', 'flair', 'flamboy', 'flank', 'flare', 'flash', 'flat', 'flatfurnish', 'flatmat', 'flatoffic', 'flatscreen', 'flatshar', 'flawlessli', 'fleet', 'flexibl', 'fli', 'flight', 'flip', 'flood', 'floor', 'flooraccess', 'floorboard', 'flooring', 'floral', 'flow', 'flower', 'flowerb', 'fluffi', 'flush', 'foam', 'foampocket', 'fob', 'fold', 'foldabl', 'foldaway', 'foldout', 'follow', 'food', 'fooddrink', 'foodi', 'foodstor', 'foosbal', 'foot', 'footbal', 'footbridg', 'footstool', 'for', 'forc', 'forefront', 'forest', 'forget', 'form', 'former', 'forth', 'fortun', 'forward', 'foster', 'fou', 'found', 'founder', 'fountain', 'four', 'fourni', 'fourteen', 'fourth', 'fourti', 'fowler', 'fox', 'foyer', 'frame', 'franci', 'frank', 'franz', 'fray', 'fre', 'freddi', 'free', 'freeli', 'freesat', 'freeview', 'freez', 'freezer', 'french', 'frent', 'frequent', 'fresco', 'fresh', 'freshen', 'freshli', 'fri', 'friday', 'fridays', 'fridg', 'fridge', 'fridgefre', 'fridgefreez', 'fridges', 'friend', 'friendli', 'friendly', 'friends', 'friendscolleagu', 'friendsfamili', 'frier', 'friez', 'fril', 'frill', 'fro', 'from', 'fromto', 'front', 'fruit', 'fryer', 'frying', 'ft', 'ft2', 'fuel', 'ful', 'fulfil', 'fulham', 'fulhambaron', 'full', 'fullest', 'fulli', 'fulltim', 'fully', 'fun', 'function', 'fund', 'funki', 'funni', 'furbish', 'furni', 'furnish', 'furnished', 'furnishedcosi', 'furnishings', 'furnitur', 'furniture', 'furniturelayout', 'furri', 'fursnish', 'furt', 'furthermor', 'furthest', 'fusion', 'futon', 'fyi', 'fyne', 'fácil', 'g00gle', 'ga', 'gadgetri', 'gaggenhau', 'gaia', 'galaté', 'galleon', 'galleri', 'galleries', 'gallery', 'gallerycaf', 'gallion', 'game', 'games', 'gamesquiet', 'gap', 'gar', 'garag', 'garden', 'gardenpatio', 'gardens', 'gargen', 'gas', 'gashold', 'gastro', 'gastronomi', 'gastropub', 'gate', 'gatebayswat', 'gateshigh', 'gateway', 'gather', 'gatherings', 'gatwick', 'gay', 'gaz', 'gaze', 'gazebos', 'gbp', 'gdn', 'gear', 'gel', 'gem', 'gemma', 'gener', 'genero', 'generously', 'genesi', 'genisi', 'genuin', 'georg', 'georgian', 'germ', 'german', 'get', 'getaway', 'getawayhyd', 'ghandi', 'ghe', 'gherkin', 'giant', 'gig', 'gigabit', 'gild', 'gimmicks', 'gina', 'ginger', 'gipsi', 'giraff', 'girl', 'girli', 'girls', 'give', 'given', 'glamor', 'glamour', 'glass', 'glasswar', 'glassware', 'glaz', 'glaze', 'glimps', 'glitter', 'glitzi', 'globe', 'gloomi', 'glori', 'gloriou', 'gloss', 'glossi', 'gloucest', 'glove', 'gmt', 'go', 'goe', 'golborn', 'golbourn', 'gold', 'golden', 'goldendoodl', 'golder', 'goldhawk', 'golf', 'gon', 'gondola', 'gone', 'good', 'goodg', 'goodi', 'goodies', 'goodnight', 'googl', 'goos', 'gorgeou', 'gorgeous', 'got', 'gourmet', 'govern', 'grab', 'grace', 'gracia', 'gracious', 'grad', 'grade', 'graduat', 'graffiti', 'granari', 'grand', 'grander', 'grandfath', 'granit', 'granite', 'granni', 'grant', 'grass', 'grassi', 'grate', 'great', 'greater', 'greatest', 'greatli', 'greatportland', 'grecian', 'greek', 'green', 'greenbow', 'greeneri', 'greenford', 'greengroc', 'greenland', 'greenstok', 'greenway', 'greenwhich', 'greenwich', 'greet', 'gregori', 'grey', 'grill', 'grind', 'groceri', 'groceries', 'groovi', 'ground', 'groundfloor', 'group', 'grove', 'grow', 'gsk', 'guarante', 'guaranteed', 'guarantor', 'guard', 'gucci', 'gue', 'guest', 'guesthous', 'guests', 'guid', 'guidanc', 'guidance', 'guidebook', 'guidelin', 'guildford', 'guinea', 'guinness', 'guitar', 'guitarist', 'gunnersburi', 'guy', 'gwynn', 'gym', 'gymnasium', 'gymnast', 'h26', 'ha', 'habitación', 'hacer', 'hackeni', 'hackney', 'haggerston', 'hail', 'hair', 'hairdress', 'hairdryer', 'halal', 'hale', 'half', 'hall', 'hallmark', 'hallway', 'ham', 'hamlet', 'hamm', 'hammersmith', 'hammock', 'hampden', 'hampstead', 'hampton', 'han', 'hand', 'handi', 'handl', 'handmad', 'handpick', 'hang', 'hanger', 'hangerlan', 'hangout', 'hanley', 'hansgroh', 'hanwel', 'happen', 'happi', 'harbour', 'hard', 'hardli', 'hardwood', 'haringey', 'harlesden', 'harlington', 'harm', 'harmoni', 'harp', 'harrod', 'harrods', 'harrow', 'hart', 'hassl', 'hassle', 'hat', 'hatton', 'havana', 'haverstock', 'hawkin', 'hay', 'hd', 'hdmi', 'hdtv', 'head', 'headboard', 'headquart', 'health', 'healthi', 'heap', 'hear', 'heart', 'hearth', 'heartland', 'heat', 'heater', 'heath', 'heathrow', 'heathway', 'heating', 'heavi', 'heavili', 'heigh', 'height', 'held', 'helen', 'hello', 'help', 'hemingway', 'hen', 'henc', 'hendon', 'herb', 'heritag', 'herman', 'hern', 'hesit', 'hi', 'hidden', 'hide', 'hig', 'high', 'highburi', 'highbury', 'highchair', 'highest', 'highgat', 'highli', 'highlight', 'highlights', 'highstreet', 'hill', 'hilli', 'hillnorth', 'hillportobello', 'hilltop', 'hilton', 'hinger', 'hip', 'hippest', 'hipster', 'hire', 'hired', 'histor', 'histori', 'hit', 'hither', 'hive', 'ho', 'hob', 'hoc', 'hogar', 'hogwart', 'hol', 'holborn', 'hold', 'hole', 'holiday', 'holidaymak', 'holidays', 'holist', 'holland', 'holli', 'hollow', 'holloway', 'hollowayhighburi', 'hollywood', 'holm', 'holtz', 'hom', 'home', 'homegrown', 'homely', 'homemad', 'homeown', 'homerton', 'homey', 'honesti', 'honeypot', 'honor', 'hood', 'hook', 'hoola', 'hop', 'hope', 'horn', 'horniman', 'hornsey', 'hors', 'hospit', 'hospital', 'host', 'hostel', 'hostess', 'hosts', 'hot', 'hotel', 'hoteli', 'hotspot', 'hotspots', 'hotspur', 'hounslow', 'hour', 'hous', 'house', 'houseboat', 'household', 'housekeep', 'housem', 'housemate', 'housemates', 'housenic', 'houseshar', 'houst', 'howev', 'hoxton', 'hoxtonshoreditch', 'hr', 'hse', 'http', 'hub', 'hudson', 'hue', 'huge', 'hum', 'humbl', 'hundr', 'hung', 'hurlingham', 'hurri', 'husband', 'huski', 'hustl', 'hux', 'hyde', 'hygien', 'hype', 'hyper', 'hyperfast', 'hyperopt', 'ian', 'ice', 'iceland', 'icon', 'id', 'idea', 'ideal', 'ideas', 'ident', 'identif', 'idyl', 'ie', 'ig62hd', 'ii', 'iii', 'ikea', 'il', 'ilford', 'ill', 'illumin', 'iluminado', 'iluminação', 'im', 'imag', 'imagin', 'immacul', 'immedi', 'imogen', 'impact', 'impec', 'impecc', 'imped', 'imperdibili', 'imperi', 'implement', 'implements', 'import', 'importantli', 'impos', 'impress', 'improv', 'in', 'inbuilt', 'inc', 'incarn', 'incens', 'inch', 'incl', 'inclin', 'includ', 'included', 'inclus', 'inconveni', 'increas', 'increasingli', 'incred', 'inde', 'independ', 'india', 'indian', 'individu', 'indoor', 'induct', 'indulg', 'industri', 'industrial', 'infam', 'infant', 'infect', 'inflat', 'info', 'inform', 'informationadvic', 'infront', 'ingles', 'inher', 'inimit', 'initi', 'injuri', 'inn', 'inner', 'innov', 'inofia', 'inout', 'inpost', 'inquiri', 'insan', 'insid', 'inside', 'inspir', 'insta', 'instal', 'instant', 'instantli', 'instead', 'institut', 'institutions', 'instruct', 'insul', 'intact', 'integr', 'intellig', 'intens', 'intent', 'interact', 'interchang', 'intercom', 'interest', 'interior', 'interlock', 'intern', 'international', 'internet', 'internshipswork', 'interwar', 'intim', 'intimaci', 'introduc', 'introduct', 'intu', 'invit', 'inviting', 'involv', 'ipad', 'iplay', 'ipod', 'ipodiphon', 'ireland', 'iron', 'isl', 'island', 'islington', 'isol', 'issu', 'itali', 'italian', 'italiano', 'item', 'itemsm', 'itinerari', 'iv', 'ivi', 'ix', 'jack', 'jacket', 'jacuzzi', 'jacuzzibath', 'jagger', 'jakob', 'jam', 'jame', 'james', 'jami', 'jan', 'januari', 'jardin', 'jazz', 'jazzi', 'jewel', 'jewelleri', 'jiffy', 'job', 'jog', 'joggingwalk', 'john', 'join', 'jonathan', 'joseph', 'journalist', 'journey', 'joy', 'jubile', 'judg', 'juic', 'juicer', 'jul', 'juli', 'julian', 'juliet', 'july', 'julyaugust', 'jump', 'junction', 'junctionkingsland', 'june', 'junior', 'justic', 'justpark', 'kanto', 'karl', 'kate', 'katherin', 'katia', 'kch', 'kebab', 'keen', 'keep', 'keith', 'kempt', 'ken', 'kenknightsbridgefulham', 'kennington', 'kensal', 'kensington', 'kensingtonbaron', 'kensingtontub', 'kent', 'kentish', 'kenton', 'kenwood', 'kept', 'kettl', 'kettle', 'kew', 'key', 'keylock', 'keynest', 'keypad', 'keys', 'keysafe', 'kfc', 'khayat', 'ki', 'kick', 'kid', 'kidbrook', 'kidd', 'kilburn', 'kill', 'kind', 'kindli', 'king', 'kingdom', 'kingsburi', 'kingsiz', 'kingsland', 'kingston', 'kinsey', 'kit', 'kitcen', 'kitchen', 'kitchenbreakfast', 'kitchendin', 'kitchendinerloung', 'kitchendinertv', 'kitchendiningliv', 'kitchendinn', 'kitchenett', 'kitchenette', 'kitchenliv', 'kitchenlivingdin', 'kitchenloung', 'kitchenrecept', 'kitchenshow', 'kitchenth', 'kitchenutil', 'kitchenwar', 'kithcen', 'kitten', 'kiwi', 'klimt', 'km', 'kneehol', 'knife', 'knight', 'knightsbridg', 'know', 'known', 'konaklamanın', 'konumda', 'korea', 'korean', 'kosher', 'kow', 'ks', 'la', 'ladbrok', 'ladder', 'ladi', 'ladywel', 'laid', 'laidback', 'lake', 'lakeview', 'lambeth', 'lamin', 'lamp', 'lampshad', 'lan', 'lancast', 'land', 'landlord', 'landmark', 'landmarks', 'landscap', 'lane', 'lappart', 'laptop', 'larden', 'larg', 'large', 'larger', 'largest', 'last', 'lastli', 'late', 'later', 'latest', 'latim', 'laughter', 'launch', 'launchpad', 'laundrett', 'laundri', 'laundry', 'laura', 'lavend', 'lavish', 'lavoro', 'law', 'lawn', 'lawyer', 'lay', 'layer', 'layla', 'layout', 'lazi', 'lbgtq', 'lcd', 'ldn', 'le', 'lea', 'lead', 'leafi', 'leas', 'least', 'leather', 'leav', 'lebanes', 'led', 'lee', 'left', 'leg', 'legaci', 'legend', 'legendari', 'leicest', 'leinster', 'leisur', 'leisure', 'leitonston', 'lend', 'length', 'lengthi', 'lensembl', 'less', 'let', 'letter', 'letto', 'level', 'levels', 'lewi', 'lewisham', 'leyton', 'leytonston', 'leytonstone', 'lgbt', 'li', 'librari', 'licens', 'lidi', 'lidl', 'lido', 'lie', 'lieu', 'lif', 'life', 'lifelong', 'lifestyl', 'lift', 'liftelev', 'light', 'lightairi', 'lighten', 'lights', 'lik', 'like', 'likewis', 'lilli', 'lime', 'limehous', 'limit', 'limpa', 'lin', 'lincoln', 'line', 'linen', 'linen2', 'lineoverground', 'lines', 'linestanstead', 'linhop', 'link', 'links', 'liquid', 'list', 'listen', 'lit', 'liter', 'literali', 'litll', 'litter', 'litterali', 'littl', 'liv', 'live', 'liverpool', 'livi', 'living', 'livingdin', 'livingdiningkitchen', 'livingentertain', 'livingkitchen', 'livingkitchendin', 'livingroom', 'livingsleep', 'lizzi', 'll', 'lloyd', 'lo', 'loact', 'load', 'loaf', 'lobbi', 'loc', 'local', 'locat', 'location', 'locationshort', 'loch', 'lock', 'lockabl', 'lockbox', 'locker', 'lodg', 'lodger', 'loew', 'loft', 'log', 'logement', 'login', 'loja', 'lon53', 'lond', 'londo', 'london', 'londonhackney', 'londonth', 'londonther', 'londonthi', 'londres', 'long', 'longer', 'longest', 'longish', 'lonon', 'loo', 'look', 'lord', 'lose', 'loss', 'lost', 'lot', 'lotu', 'loud', 'louer', 'loui', 'loung', 'lounge', 'loungedin', 'loungekitchen', 'lounger', 'lov', 'love', 'loveless', 'loveliest', 'lover', 'lovey', 'lovingli', 'low', 'lower', 'lubetkin', 'lucit', 'lucki', 'luggag', 'luggage', 'lumin', 'lumineux', 'luminosa', 'lunch', 'lupu', 'lusciou', 'lush', 'luton', 'lux', 'luxur', 'luxuri', 'luxury', 'lyceum', 'm1', 'm11', 'm2', 'm4', 'm700', 'mabel', 'macbook', 'machin', 'machine', 'machinedry', 'machineoutdoor', 'maclis', 'mad', 'madam', 'maddox', 'made', 'madrid', 'mag', 'magazin', 'magic', 'magnific', 'magnolia', 'magpi', 'mahogani', 'maid', 'maida', 'main', 'mainli', 'mainlin', 'mainlinetub', 'maintain', 'mainten', 'maison', 'maisonett', 'maisonettetownhous', 'majesti', 'major', 'mak', 'make', 'makeov', 'maker', 'malden', 'male', 'mall', 'malte', 'man', 'manag', 'manero', 'manger', 'manhattan', 'mani', 'manic', 'mano', 'manor', 'mansion', 'manson', 'manual', 'map', 'marbl', 'march', 'mare', 'mari', 'mark', 'market', 'markets', 'markexpect', 'markham', 'marli', 'marlow', 'marmalad', 'marqu', 'marsden', 'marsh', 'marshal', 'marsworth', 'marvel', 'marx', 'maryland', 'marylebon', 'marylebone', 'mas', 'mash', 'mashin', 'mask', 'massiv', 'master', 'masterbedroom', 'mat', 'match', 'mate', 'materi', 'math', 'matress2', 'matrimoni', 'matrimonial', 'matrress', 'mats', 'matt', 'matter', 'mattera', 'mattress', 'matur', 'max', 'maximum', 'may', 'mayb', 'mayday', 'mayesbrook', 'mayfair', 'mayflow', 'mb', 'mbp', 'mccartney', 'mcdonald', 'meal', 'meals', 'mean', 'meanwhil', 'measur', 'meatfish', 'mechan', 'media', 'mediashelf', 'mediat', 'medic', 'mediev', 'medium', 'meet', 'mega', 'megadr', 'melvil', 'member', 'memento', 'memor', 'memori', 'men', 'menswear', 'mention', 'mercado', 'mercuri', 'mere', 'meridian', 'merkezî', 'merlin', 'mesmeris', 'messag', 'message', 'met', 'metal', 'mete', 'meter', 'meter13ft', 'meticul', 'metr', 'metre13ft', 'metro', 'metropolitan', 'metrô', 'meu', 'mew', 'mews', 'mezzain', 'mezzanin', 'mi', 'michelin', 'mick', 'micro', 'microbi', 'microbreweri', 'microwav', 'microwave', 'mid', 'middl', 'middlesex', 'midland', 'midnight', 'midst', 'midwif', 'mie', 'miel', 'might', 'mile', 'milk', 'mill', 'millenium', 'milli', 'million', 'mimi', 'min', 'mind', 'mine', 'miner', 'minha', 'mini', 'minibar', 'minim', 'minimalist', 'minimum', 'mins', 'minsbu', 'minscar', 'mint', 'minu', 'minuet', 'minuit', 'minut', 'minutes', 'minuti', 'minuto', 'mio', 'miro', 'mirror', 'miss', 'mix', 'mixed', 'mixer', 'mixtur', 'mn', 'mo', 'mobi', 'mobil', 'mock', 'mod', 'modcoms', 'mode', 'moder', 'modern', 'modernis', 'modernised', 'modernist', 'modernli', 'modernperiod', 'modest', 'molto', 'moment', 'mon', 'monday', 'money', 'monitor', 'monochrom', 'monoxid', 'month', 'monthli', 'mood', 'moor', 'moorgat', 'morebett', 'moreth', 'morgat', 'morington', 'morn', 'morning', 'mornington', 'morrison', 'morriss', 'morrocan', 'mortlak', 'mosqu', 'mostli', 'moth', 'mother', 'motor', 'motorway', 'mount', 'mouth', 'mouthwat', 'move', 'movement', 'movi', 'mq', 'mr', 'ms', 'mu', 'much', 'mug', 'muito', 'muji', 'multi', 'multicultur', 'multilevel', 'multimedia', 'multipl', 'multitud', 'munster', 'mur', 'museum', 'museums', 'music', 'musicsongs', 'must', 'muswel', 'mutual', 'muy', 'mw', 'mysel', 'm²', 'n1', 'n15', 'n2', 'n29253279', 'n64', 'n73', 'n8', 'n89', 'na', 'nab', 'name', 'nando', 'narrow', 'nation', 'nationwid', 'nativ', 'natur', 'nature', 'navi', 'nb', 'nb1', 'nb2', 'ncp', 'ne', 'near', 'nearbi', 'nearby', 'nearbyth', 'nearest', 'nearli', 'neat', 'neatli', 'necesario', 'necess', 'necessari', 'need', 'needed', 'neededwash', 'needs', 'neff', 'nefliex', 'neg', 'neglect', 'negoti', 'negócio', 'neighbor', 'neighborhood', 'neighbors', 'neighbour', 'neighbourhood', 'nel', 'nell', 'neo', 'nero', 'nespresso', 'nesspresso', 'nest', 'nestl', 'net', 'netflix', 'netflixamazon', 'network', 'neuf', 'neutral', 'never', 'nevern', 'new', 'newburi', 'newest', 'newington', 'newli', 'newly', 'news', 'newspap', 'newtwo', 'next', 'nextflix', 'nibbl', 'nice', 'nicer', 'nicest', 'nich', 'nichol', 'night', 'nightclub', 'nightli', 'nightlif', 'nights', 'nightstand', 'nimbl', 'nine', 'nineteen', 'nineti', 'nintendo', 'no', 'noi', 'nois', 'noise', 'noisi', 'noit', 'non', 'none', 'nook', 'normal', 'north', 'northcot', 'northeastern', 'northen', 'northern', 'northfield', 'northolt', 'northumberland', 'northwest', 'northwick', 'norwood', 'note', 'notebook', 'noth', 'notic', 'notice', 'nottinghil', 'nov', 'novelist', 'novemb', 'nowher', 'nowtv', 'nox', 'nr', 'nt', 'nuffield', 'number', 'numer', 'nunhead', 'nutri', 'nutribullet', 'nw', 'nw10', 'nw2', 'nyc', 'nz', 'não', 'o2', 'oak', 'oasi', 'object', 'obliqu', 'observatori', 'obvious', 'occas', 'occasion', 'occup', 'occupancy', 'occupant', 'occupi', 'occur', 'oct', 'octob', 'odd', 'of', 'ofcourse', 'off', 'offer', 'offic', 'office', 'officebedroom', 'officeplay', 'officeworkshop', 'offici', 'offr', 'often', 'oil', 'ok', 'old', 'older', 'oldest', 'olimp', 'oliv', 'olmpic', 'olufsen', 'olymp', 'olympia', 'olypm', 'on', 'onc', 'ond', 'one', 'oner', 'onfe', 'ongo', 'onli', 'onlin', 'onsit', 'onto', 'onward', 'onwards', 'onyx', 'oodl', 'ooz', 'op', 'open', 'oper', 'opera', 'opportun', 'opposit', 'optic', 'option', 'options', 'opul', 'orang', 'order', 'orderli', 'organ', 'organis', 'origin', 'ornament', 'ornat', 'orthopaed', 'orthoped', 'ossington', 'osterley', 'ostro', 'oth', 'otherwis', 'oto', 'oulfsen', 'ourselv', 'out', 'outcome', 'outdoor', 'outer', 'outfit', 'outlet', 'outlook', 'outsid', 'outside', 'outskirt', 'outstand', 'oval', 'oveland', 'oven', 'ovengril', 'ovenhob', 'ovenmicrowav', 'over', 'overal', 'overground', 'overgrown', 'overhead', 'overhung', 'overland', 'overlook', 'overnight', 'oversea', 'overview', 'own', 'owner', 'ownm', 'oxford', 'oyster', 'pace', 'pack', 'packag', 'pad', 'paddingt', 'paddington', 'paddl', 'page', 'paid', 'pain', 'paint', 'painter', 'pair', 'pal', 'palac', 'palace', 'palaces', 'pale', 'palett', 'pall', 'palli', 'palm', 'pam', 'pan', 'panacea', 'panason', 'panc', 'pancr', 'pancra', 'pandem', 'pane', 'panel', 'panels', 'panoram', 'panorama', 'pans', 'papasan', 'paper', 'para', 'paradis', 'paralymp', 'paramount', 'paraphernalia', 'parcel', 'pared', 'parent', 'paris', 'parisian', 'park', 'parking', 'parkingbeauti', 'parkland', 'parks', 'parksid', 'parliament', 'parliamentari', 'parlo', 'parlour', 'parqu', 'parquet', 'parrot', 'parson', 'part', 'parti', 'particular', 'particularli', 'parties', 'partner', 'partrig', 'party', 'partygath', 'pass', 'passageway', 'passes', 'passi', 'passion', 'password', 'past', 'pastel', 'pastri', 'path', 'patio', 'patiogarden', 'patrols', 'patron', 'pattern', 'paul', 'paula', 'pave', 'pavement', 'pavilion', 'pavillion', 'pay', 'payment', 'pcm', 'pe', 'peac', 'peaceful', 'peanut', 'pearson', 'peckham', 'peckish', 'peddl', 'pedestrian', 'pedestrianis', 'pembridg', 'pen', 'pencil', 'pend', 'pendant', 'pennin', 'pentathlon', 'penthous', 'pentonvil', 'peopl', 'people', 'pepper', 'per', 'percept', 'perch', 'perfecr', 'perfect', 'perfectli', 'perfeita', 'perfetta', 'perfevt', 'perhap', 'period', 'periodsth', 'perish', 'perk', 'perman', 'permiss', 'permit', 'permitted', 'persian', 'person', 'personalis', 'persons', 'perspect', 'perto', 'perus', 'pet', 'pete', 'petit', 'petsmok', 'pettit', 'phamphi', 'pharmaci', 'phenomen', 'phon', 'phone', 'photo', 'photog', 'photograph', 'photoshoot', 'photovideo', 'phylli', 'physic', 'pi', 'piano', 'piazza', 'pic', 'picadilli', 'piccadili', 'piccadilli', 'piccidilli', 'picidilli', 'pick', 'picnic', 'picnicy', 'pictur', 'pictures', 'picturesqu', 'pie', 'piec', 'pied', 'piedi', 'pier', 'pig', 'pigment', 'pilat', 'pile', 'pillow', 'pillows', 'pimlico', 'pine', 'pinewood', 'ping', 'pink', 'pint', 'pinto', 'pit', 'pitch', 'pizzeria', 'pièc', 'pl', 'plac', 'place', 'placentera', 'places', 'plan', 'plane', 'plant', 'plaqu', 'plase', 'plasma', 'plat', 'plate', 'platesbowl', 'platform', 'play', 'player', 'playerth', 'playground', 'playroom', 'playstat', 'plaza', 'pleas', 'pleasant', 'please', 'pleasur', 'pleasure', 'plenti', 'plethora', 'plu', 'plug', 'plump', 'plumstead', 'plush', 'plz', 'pm', 'pocket', 'pod', 'podcast', 'pode', 'poderá', 'podría', 'poggenpol', 'point', 'pointer', 'polic', 'polici', 'policies', 'polish', 'polit', 'pond', 'pong', 'pongo', 'poodl', 'pool', 'pop', 'poplar', 'poppi', 'poppin', 'popul', 'popular', 'por', 'porcelain', 'porch', 'pork', 'port', 'portabello', 'portabl', 'porter', 'porterag', 'portion', 'portland', 'portobella', 'portobello', 'portrait', 'portsmouth', 'posh', 'posit', 'possess', 'possibl', 'possible', 'post', 'postal', 'poster', 'postoffic', 'postwar', 'pot', 'potenti', 'pound', 'pour', 'powder', 'powel', 'power', 'pppn', 'pr', 'prac', 'practic', 'prada', 'pre', 'prefer', 'preferable', 'preferenti', 'preferred', 'preload', 'premier', 'premis', 'premisesfre', 'premium', 'prep', 'prepar', 'pres', 'present', 'presented', 'preserv', 'press', 'pressur', 'prestig', 'prestigi', 'pret', 'pretti', 'prettili', 'prevent', 'previou', 'pri', 'price', 'prices', 'pride', 'primari', 'primark', 'prime', 'primros', 'princ', 'princess', 'princip', 'print', 'printer', 'printwork', 'prior', 'prioriti', 'pristin', 'privaci', 'privacy', 'privat', 'private', 'pro', 'probabl', 'problem', 'procedur', 'process', 'produc', 'product', 'profesion', 'profession', 'professional', 'professionali', 'professionally', 'professionals', 'profil', 'profile', 'profitez', 'prog', 'prohibited', 'project', 'projector', 'promenad', 'promin', 'promis', 'promot', 'proof', 'proper', 'properli', 'properti', 'property', 'propio', 'proport', 'propr', 'protect', 'protocol', 'proud', 'prove', 'provid', 'provided', 'proxim', 'ps', 'ps3', 'ps4', 'ps5', 'pub', 'public', 'pubs', 'pubsrestaur', 'pubssupermarket', 'pud', 'pull', 'pullman', 'pullout', 'punctuat', 'purchas', 'pure', 'purley', 'purpl', 'purpos', 'purpose', 'purposes', 'push', 'put', 'putney', 'qled', 'qu', 'quadra', 'quadrupl', 'quaint', 'quaintli', 'qual', 'qualilti', 'qualiti', 'quarantin', 'quart', 'quarter', 'quasiment', 'quay', 'que', 'queda', 'queen', 'queensburi', 'queenstown', 'queensway', 'queer', 'quench', 'question', 'questions', 'questo', 'qui', 'quick', 'quickest', 'quickli', 'quiet', 'quieter', 'quietest', 'quietli', 'quilt', 'quintessenti', 'quirk', 'quirki', 'quit', 'quite', 'quizz', 'quot', 'rachel', 'rack', 'radi', 'radiat', 'radiators', 'radio', 'radisson', 'radiu', 'raf', 'rafter', 'rahat', 'rail', 'railtubebu', 'railway', 'rain', 'rainbow', 'rainfal', 'rais', 'ramp', 'ramsgat', 'rang', 'rangehob', 'rapidli', 'rare', 'rate', 'rather', 'ravenscourt', 'ray', 'rayn', 'rca', 'rd', 're', 'reach', 'reachabl', 'reacheabl', 'reachk', 'read', 'reader', 'readi', 'reading', 'reaffirm', 'real', 'realiti', 'realiz', 'realli', 'really', 'rear', 'reason', 'reassur', 'reassuringli', 'recal', 'receiv', 'recent', 'recept', 'reception', 'receptionkitchen', 'recharg', 'recip', 'reclaim', 'reclin', 'recognis', 'recomend', 'recommend', 'recommended', 'reconnect', 'record', 'recreat', 'rectangular', 'recycl', 'red', 'redchurch', 'redcliff', 'redecor', 'redesign', 'reduc', 'refin', 'refit', 'reflect', 'refresh', 'refreshed', 'refreshments', 'refridger', 'refriger', 'refug', 'refund', 'refurbish', 'refurbished', 'refurbrish', 'reg', 'regard', 'regenc', 'regent', 'regim', 'registr', 'regular', 'regularli', 'rei', 'rein', 'reissu', 'rejuven', 'rel', 'relat', 'relax', 'relaxation', 'relaxedless', 'relay', 'releas', 'relev', 'reli', 'reliabl', 'relief', 'reliev', 'reloc', 'remain', 'remark', 'rememb', 'remodel', 'remot', 'remov', 'renew', 'renov', 'renown', 'rent', 'rental', 'repaint', 'repair', 'replac', 'replenish', 'report', 'repres', 'represent', 'request', 'requested', 'requir', 'required', 'research', 'reserv', 'reservatio', 'reservoir', 'resid', 'residence', 'residenci', 'residenti', 'resourc', 'resources', 'respect', 'resplend', 'respond', 'respons', 'rest', 'restaur', 'restauran', 'restaurant', 'restaurants', 'restaurantsbar', 'restaurantspubsbar', 'resteur', 'restor', 'restrict', 'restuar', 'restur', 'result', 'retail', 'retain', 'retir', 'retreat', 'retriev', 'retro', 'return', 'revel', 'review', 'reviews', 'revitalis', 'rework', 'rice', 'rich', 'richard', 'richfield', 'richli', 'richmond', 'ride', 'ridicul', 'right', 'rilassati', 'rip', 'rippl', 'ris', 'rise', 'risk', 'ritz', 'river', 'riverboat', 'riversid', 'riverside', 'riverview', 'rivier', 'ro', 'road', 'roadqueen', 'roadsid', 'roam', 'rock', 'rocknrol', 'rohe', 'roku', 'roll', 'roller', 'rolls', 'roman', 'romanc', 'romant', 'romford', 'roo', 'roof', 'rooftop', 'rookeri', 'room', 'room1', 'room2singl', 'roombedroom', 'roomdin', 'roomi', 'roomkitchen', 'roomloung', 'roommat', 'roomopen', 'rooms', 'roomsauna', 'roomsmal', 'roomspac', 'roomstorag', 'roomstudio', 'roomtoilet', 'roomwc', 'rooom', 'roost', 'rose', 'rosemari', 'rosemont', 'ross', 'roteiro', 'rotherhit', 'rotherhith', 'rough', 'roughli', 'round', 'roundabout', 'rounder', 'rout', 'routes', 'routin', 'row', 'rowboat', 'royal', 'rubbish', 'ruc', 'rug', 'rugbi', 'rugbyev', 'ruin', 'rule', 'rules', 'run', 'rural', 'rush', 'russel', 'russia', 'rustic', 'rutland', 'ry4aubsz8r8', 'rye', 'résistanc', 'sa', 'saatchi', 'sac', 'sacha', 'sade', 'safe', 'safer', 'safest', 'safeti', 'saft', 'said', 'sail', 'sainburi', 'sainsburi', 'sainsbury', 'saint', 'sake', 'sakin', 'sala', 'sale', 'salir', 'sall', 'salon', 'salt', 'salusburi', 'salón', 'samba', 'sampl', 'samsung', 'sanctuari', 'sandwich', 'sanitis', 'santand', 'sark', 'sars', 'sash', 'sat', 'satel', 'satellit', 'satilit', 'satisfi', 'saturday', 'saucepan', 'sauna', 'save', 'saver', 'savoir', 'savoy', 'say', 'scaffold', 'scale', 'scandinavian', 'scandinaviannew', 'scap', 'scare', 'scatter', 'scene', 'scenery', 'scenic', 'schedul', 'scheme', 'school', 'scienc', 'scorcher', 'scout', 'screen', 'screensmart', 'scribbl', 'scruffi', 'sculpt', 'sculpturesth', 'se', 'se11', 'se13', 'se26', 'se4', 'seafood', 'seafront', 'seagul', 'seali', 'seamlessli', 'search', 'seascap', 'seasid', 'season', 'seat', 'seater', 'sec', 'seclud', 'second', 'secondari', 'secret', 'section', 'secur', 'secure', 'security', 'seduct', 'see', 'seeing', 'seek', 'seem', 'seemingli', 'seen', 'sega', 'sekford', 'select', 'self', 'selfi', 'selfridg', 'selfridges', 'selhurst', 'semest', 'semi', 'send', 'senior', 'sens', 'sensibl', 'sensit', 'sensor', 'sent', 'sep', 'separ', 'seper', 'sept', 'septemb', 'septemberoctob', 'seren', 'seriou', 'serpentin', 'serv', 'servant', 'servic', 'service', 'services', 'servis', 'session', 'set', 'setting', 'settl', 'settlin', 'setup', 'seven', 'seventeen', 'sever', 'sevices', 'sexi', 'sh', 'shade', 'shadwel', 'shaftsburi', 'shaker', 'shakespear', 'shall', 'shampoo', 'shane', 'shap', 'shape', 'shar', 'shard', 'share', 'shared', 'sharer', 'sharp', 'sharpen', 'shave', 'shed', 'sheen', 'sheepskin', 'sheet', 'shelf', 'shelfwardrob', 'shelv', 'shepard', 'sheperbush', 'sheperd', 'shephard', 'shepherd', 'shepherdess', 'sherlock', 'shi', 'shine', 'shini', 'ship', 'shock', 'shoe', 'shoot', 'shoots', 'shop', 'shope', 'shopper', 'shopping', 'shops', 'shopstesco', 'shor', 'shoreditch', 'shoreditch2', 'shoreditchhoxton', 'shoreditchold', 'shoredtich', 'short', 'shortag', 'shorter', 'shout', 'show', 'shower', 'showerbath', 'showerbathtub', 'showerblad', 'showerhead', 'showerhot', 'showerloo', 'showeroom', 'showertoilet', 'showertoiletsink', 'shown', 'showroom', 'shrimp', 'shutter', 'shuttl', 'si', 'sibl', 'sid', 'side', 'sideboard', 'sides', 'sidewalk', 'sight', 'sightse', 'sightseeing', 'sign', 'signal', 'signatur', 'silenc', 'silentnight', 'silicon', 'silk', 'silki', 'silva', 'silver', 'silvertown', 'silverwar', 'silverwarekitchenwar', 'similar', 'similarli', 'simon', 'simpl', 'simpli', 'simplist', 'sinc', 'sinclair', 'sing', 'singl', 'single', 'singlecoupl', 'singledoubl', 'singlescoupl', 'singleton', 'sink', 'sip', 'sir', 'sisal', 'sister', 'sit', 'site', 'sitting', 'situa', 'situat', 'situé', 'six', 'sixti', 'siz', 'sizabl', 'size', 'sizeabl', 'ski', 'skill', 'sky', 'skylight', 'skylights', 'skylin', 'skyscrap', 'slate', 'sleek', 'sleep', 'sleeper', 'sleepi', 'sleepnearest', 'sleigh', 'slice', 'slick', 'slickli', 'slide', 'slides', 'slightli', 'slim', 'slipper', 'sloan', 'slope', 'slots', 'slung', 'sm', 'small', 'smaller', 'smallest', 'smart', 'smartest', 'smeg', 'smell', 'smithfield', 'smok', 'smoke', 'smoker', 'smoothi', 'smoothiecoffe', 'snack', 'snooker', 'snoozing', 'snug', 'so', 'soak', 'soap', 'sociabl', 'sociably', 'social', 'socialis', 'socialising', 'socket', 'sodastream', 'sofa', 'sofab', 'sofabed', 'sofachair', 'sofain', 'soft', 'soften', 'soho', 'sohowest', 'sold', 'sole', 'solenn', 'soli', 'solid', 'solitari', 'solo', 'solut', 'som', 'somehow', 'someon', 'somerset', 'someth', 'sometim', 'somewher', 'son', 'soni', 'sono', 'soon', 'sooth', 'sophist', 'sor', 'sorri', 'sort', 'sought', 'soul', 'sound', 'soundcard', 'soundproof', 'sourc', 'south', 'southal', 'southall', 'southbank', 'southeast', 'southeastern', 'southern', 'southfac', 'southfield', 'southgat', 'southsid', 'southwark', 'sp', 'spa', 'spac', 'space', 'spaces', 'spacesleep', 'spaciou', 'spacious', 'spain', 'span', 'spanish', 'spank', 'spare', 'spareroom', 'sparkl', 'spasteam', 'spatiou', 'spazio', 'spe', 'speak', 'speaker', 'spec', 'special', 'specialis', 'specialist', 'specif', 'specifi', 'speciou', 'spectacular', 'speed', 'speedi', 'spell', 'spencer', 'spend', 'spent', 'spice', 'spices', 'spici', 'spinach', 'spiral', 'spirit', 'spitalfield', 'splash', 'splendid', 'splendour', 'split', 'spoil', 'spoilt', 'spoon', 'sport', 'sporti', 'spot', 'spotless', 'spotlessli', 'spotlight', 'spr', 'spray', 'spread', 'spring', 'springsumm', 'sprung', 'spécial', 'sq', 'sq2', 'sqft', 'sqm', 'squar', 'square', 'squarechar', 'squarecov', 'squirrel', 'squishi', 'st', 'sta', 'stadion', 'stadium', 'stadiumarea', 'staff', 'stag', 'stage', 'stain', 'stainless', 'stair', 'staircas', 'staircase', 'stairs', 'stairshallway', 'stairwell', 'stall', 'stamford', 'stan', 'stand', 'standalon', 'standard', 'standards', 'standart', 'standbi', 'standout', 'stanst', 'stanza', 'stapl', 'star', 'starbuck', 'stark', 'start', 'starter', 'startford', 'state', 'statement', 'statio', 'station', 'stationfirst', 'stationgatwick', 'stationmil', 'stations', 'stationth', 'stattion', 'statu', 'stave', 'stay', 'staying', 'stays', 'staytwo', 'steal', 'steam', 'steamer', 'steel', 'steep', 'stella', 'step', 'stepney', 'stereo', 'sterilis', 'steve', 'stick', 'still', 'stock', 'stockley', 'stockwel', 'stoke', 'stokey', 'stoki', 'stone', 'stones', 'stool', 'stop', 'storag', 'storage', 'store', 'stores', 'storey', 'stori', 'storm', 'stov', 'stove', 'stovetop', 'stowaway', 'stpancra', 'str', 'straddl', 'straight', 'straighten', 'strand', 'stranger', 'strat', 'strateg', 'stratford', 'strawberri', 'stream', 'streatham', 'street', 'streetangel', 'streets', 'stress', 'stretch', 'strewn', 'strict', 'strictli', 'strike', 'stroll', 'stroller', 'stron', 'strong', 'stroud', 'structur', 'stu', 'stucco', 'student', 'studentei', 'studi', 'studio', 'studioon', 'study', 'studying', 'stuf', 'stuff', 'stuido', 'stukeley', 'stun', 'stunningli', 'styl', 'style', 'stylish', 'stylishli', 'su', 'subject', 'sublet', 'submit', 'subscript', 'subsequ', 'substanti', 'subtl', 'subtli', 'suburb', 'suburban', 'subway', 'success', 'sudburi', 'suffus', 'sugar', 'suggest', 'suit', 'suitabl', 'suitcas', 'suite', 'suiteplac', 'sultri', 'summari', 'summer', 'sumptuou', 'sun', 'sunbath', 'sunday', 'sunlight', 'sunni', 'sunris', 'sunset', 'sunshin', 'sup', 'super', 'superb', 'superbl', 'superfast', 'superhost', 'superior', 'superk', 'superking', 'superl', 'supermar', 'supermarket', 'supermarketbuss', 'supermarkets', 'supermarketsdri', 'superstor', 'supper', 'supplement', 'suppli', 'supplied', 'supplier', 'support', 'suprem', 'surburban', 'sure', 'surfac', 'surprisingli', 'surrey', 'surround', 'surviv', 'sushi', 'suspend', 'sustain', 'sutton', 'sw', 'sw11', 'sw1hzeroaa01', 'sw3', 'sw7', 'swallow', 'swanki', 'swape', 'swath', 'sweep', 'sweet', 'swift', 'swim', 'swimm', 'swing', 'swiss', 'switch', 'sy', 'sydenham', 'symptom', 'synagogu', 'synonym', 'syon', 'sys', 'system', 'ta', 'tab', 'tabl', 'table', 'tabledesk', 'tablet', 'tabletslaptop', 'tablewar', 'tablework', 'taboo', 'taco', 'tadını', 'tag', 'taht', 'tak', 'take', 'takeaway', 'taken', 'talent', 'talk', 'tall', 'tallest', 'tamara', 'também', 'tang', 'tanya', 'tap', 'tape', 'tassimo', 'tast', 'tastebud', 'tasti', 'tate', 'tatton', 'taxi', 'tea', 'teacher', 'teacoff', 'teacoffe', 'teacoffeewat', 'teak', 'team', 'tech', 'technolog', 'teddington', 'teenag', 'teida', 'telecom', 'telephon', 'televis', 'television', 'televisionand', 'tell', 'telli', 'tem', 'temperatur', 'templ', 'temporarili', 'temptat', 'tempur', 'ten', 'tenanc', 'tenant', 'tend', 'tender', 'tendréi', 'tennesse', 'tenni', 'tennis', 'tenth', 'ter', 'term', 'termin', 'terr', 'terrac', 'terrace', 'terracegarden', 'terracotta', 'terrass', 'terrestri', 'tesco', 'test', 'text', 'textur', 'tfl', 'th', 'thai', 'thame', 'thames', 'thameslink', 'thamesmead', 'thank', 'the', 'theater', 'theatr', 'theatre', 'thee', 'thejust', 'theme', 'themselv', 'therapi', 'therapist', 'there', 'therefor', 'thermostat', 'thesquar', 'thi', 'thick', 'thin', 'thing', 'things', 'think', 'third', 'thirst', 'thirti', 'thoma', 'thorn', 'thornton', 'thoroughli', 'thorp', 'though', 'thought', 'thr', 'thread', 'three', 'thrive', 'through', 'throughout', 'throw', 'thru', 'thu', 'tick', 'ticket', 'tickl', 'tidi', 'tidy', 'tie', 'tier', 'tiger', 'til', 'tile', 'till', 'tim', 'time', 'timer', 'times', 'tini', 'tip', 'tipple', 'tire', 'tissu', 'tk', 'to', 'toast', 'toaster', 'toasterbas', 'toasti', 'today', 'toddler', 'toddleryoung', 'todo', 'tofrom', 'tog', 'togeth', 'together', 'toilet', 'toiletbathroom', 'toiletri', 'toiletries', 'toilets', 'toilett', 'toler', 'tomb', 'tommyfield', 'ton', 'tone', 'tool', 'toot', 'toothpast', 'top', 'topper', 'total', 'tottenham', 'tottenhamarsen', 'totteridg', 'tou', 'touch', 'touches', 'toughest', 'tour', 'tourism', 'tourist', 'tout', 'toward', 'towel', 'towels', 'towelsteacoffeebedsheetsshampoosoap', 'tower', 'towerbridg', 'towers', 'towl', 'town', 'town25min', 'townhous', 'townhousemaisonett', 'towpath', 'toy', 'tr', 'traci', 'track', 'tradit', 'trafag', 'trafalgar', 'traffic', 'train', 'traingl', 'trainnic', 'trains', 'trainstub', 'traintub', 'tram', 'trampolin', 'tran', 'tranquil', 'tranquillo', 'transfer', 'transform', 'transit', 'transport', 'transportation', 'transportpark', 'trap', 'tratra', 'travel', 'travelcard', 'travelers', 'traveller', 'travellers', 'travellin', 'travelling', 'travertin', 'tre', 'treasur', 'treat', 'treatment', 'tree', 'treed', 'treelin', 'trees', 'treetop', 'tremend', 'trend', 'trendi', 'trendiest', 'tri', 'trian', 'triangl', 'trick', 'trifold', 'trim', 'trinidadianbritish', 'trinket', 'trio', 'trip', 'tripl', 'triple', 'trips', 'trolley', 'tropic', 'troveret', 'true', 'truli', 'trundl', 'trust', 'truth', 'trè', 'tu', 'tub', 'tube', 'tubebu', 'tubeoverground', 'tubeovergroundbusesnight', 'tubeplenti', 'tubes', 'tubetrain', 'tuck', 'tudor', 'tufnel', 'tuls', 'tumbl', 'turismo', 'turkish', 'turkishcaribbean', 'turn', 'turned', 'turnham', 'turnpik', 'tusord', 'tussaud', 'tussoud', 'tutta', 'tuyo', 'tv', 'tvdvd', 'tventertain', 'tvguest', 'tvwifi', 'tw', 'twelv', 'twice', 'twickenham', 'twin', 'twist', 'two', 'tyme', 'type', 'typic', 'tú', 'uber', 'ubicación', 'ucl', 'uground', 'uk', 'ulez', 'ultim', 'ultra', 'ultrawid', 'uma', 'un', 'una', 'unabl', 'unavail', 'unbeat', 'uncharacterist', 'unclutt', 'under', 'underfloor', 'undergon', 'underground', 'undergroundoverground', 'undern', 'underneath', 'understand', 'undertaken', 'underton', 'underw', 'undoubtedli', 'undulationreward', 'une', 'unfold', 'unforgett', 'unfortun', 'unfurnish', 'uni', 'union', 'uniqu', 'unique', 'unit', 'univers', 'unless', 'unlimit', 'unnecessari', 'unoccupi', 'unpack', 'unravel', 'unreason', 'unrestrict', 'unruffl', 'unsatisfi', 'unsuit', 'unto', 'unusu', 'unwel', 'unwind', 'up', 'upcom', 'upcycl', 'updat', 'uper', 'upgrad', 'uplift', 'upload', 'upmarket', 'upmost', 'upney', 'upon', 'upper', 'upperclass', 'upscal', 'upside', 'upstair', 'upstairs', 'upto', 'upton', 'urban', 'urgent', 'url', 'us', 'usag', 'usb', 'use', 'user', 'users', 'usual', 'ute', 'utensil', 'utensils', 'utensilsmicrowav', 'util', 'utilis', 'utilities', 'utmost', 'uxbridg', 'vacanc', 'vacat', 'vaccin', 'vai', 'vale', 'valentin', 'valid', 'valu', 'valuabl', 'van', 'var', 'vari', 'varieti', 'variou', 'varnish', 'vary', 'vast', 'vat', 'vauxhal', 'veg', 'veget', 'vegetarian', 'veggi', 'vehicl', 'vehicle', 'velux', 'velvet', 'venic', 'ventil', 'venu', 'venues', 'ver', 'vera', 'verandah', 'verd', 'verdant', 'veri', 'veriti', 'versatil', 'very', 'vestibul', 'vi', 'via', 'viagen', 'viaggia', 'viajant', 'vibe', 'vibranc', 'vibrant', 'vic', 'vicin', 'vict', 'victoria', 'victorian', 'vid', 'video', 'videoshoot', 'vietnames', 'view', 'views', 'viewscompris', 'vil', 'villa', 'villag', 'village', 'villagebr', 'villeroy', 'vinegar', 'vintag', 'vintage', 'vinyl', 'virgin', 'virtual', 'viru', 'viruses', 'viscoelast', 'visit', 'visitar', 'visitor', 'visitors', 'visu', 'vivid', 'vivimo', 'vivr', 'voc', 'vocated', 'você', 'voic', 'voip', 'volley', 'vortex', 'vote', 'voucher', 'voyag', 'w12', 'w1h', 'w2', 'w3', 'w7', 'wa', 'waddon', 'wadrob', 'wait', 'waitros', 'wak', 'wake', 'wal', 'wale', 'walk', 'walk10', 'walk15', 'walkabl', 'walkingtubebu', 'walks', 'walkup', 'walkway', 'wall', 'walnut', 'walpol', 'waltham', 'walthamstow', 'wander', 'wandsworth', 'wanst', 'want', 'war', 'ward', 'wardro', 'wardrob', 'wardrobe', 'wardrobesworkspac', 'ware', 'warehous', 'warehouseloft', 'warm', 'warmer', 'warmli', 'warmth', 'warob', 'warrant', 'warren', 'warwick', 'wash', 'washer', 'washerdri', 'washerdry', 'washerdryer', 'washertumbl', 'washing', 'washingmachinedry', 'washroom', 'wast', 'waste', 'wat', 'watch', 'watchmak', 'water', 'waterfal', 'waterfront', 'waterloo', 'waterloochar', 'waterloowestminst', 'waterlow', 'waterproof', 'watersid', 'watford', 'wav', 'wave', 'way', 'wc', 'wdrobe', 'wealdston', 'wealth', 'wealthi', 'wear', 'weari', 'weather', 'weaver', 'weber', 'websit', 'website', 'wednesday', 'week', 'weekday', 'weekend', 'weekends', 'weekli', 'weeks', 'weight', 'weights', 'wel', 'welbeck', 'welc', 'welcom', 'welcome', 'well', 'wellcom', 'wellington', 'welsh', 'wembley', 'weri', 'west', 'westbourn', 'westcomb', 'westend', 'westerli', 'westferri', 'westfield', 'westminst', 'westminsterst', 'wet', 'wetland', 'wfacil', 'wfh', 'wh', 'wharf', 'wharfciti', 'whatev', 'wheel', 'wheelchair', 'wherea', 'wherev', 'whether', 'whetston', 'whi', 'whigh', 'whilst', 'whip', 'whippet', 'whisper', 'whiston', 'whit', 'white', 'whitechapel', 'whitechappel', 'whitehal', 'whiteread', 'whitewash', 'whitley', 'whitstabl', 'whitton', 'whole', 'wholli', 'wi', 'wick', 'wid', 'wide', 'widescreen', 'width', 'wife', 'wifi', 'wifiinternet', 'wil', 'wild', 'wildlif', 'wilfr', 'willesden', 'william', 'wimbeldon', 'wimbledon', 'win', 'wind', 'windi', 'windmil', 'window', 'windows', 'windowsfrench', 'windsor', 'wine', 'wineb', 'winner', 'winston', 'winter', 'wire', 'wireless', 'wise', 'wish', 'wit', 'withdrawcancel', 'within', 'without', 'wkend', 'wm', 'wo', 'woken', 'wolf', 'wolwich', 'woman', 'women', 'wonder', 'wonderland', 'wood', 'woodbridg', 'woodburn', 'wooden', 'woodford', 'woodland', 'woodpeck', 'woolwich', 'worcest', 'word', 'work', 'worker', 'working', 'workplace', 'workshop', 'workshoppingtheatr', 'workspac', 'workstat', 'workstationdesk', 'workstudi', 'worktop', 'world', 'worlds', 'worri', 'worth', 'worthwhil', 'would', 'wound', 'wow', 'wrap', 'wreath', 'write', 'written', 'wrote', 'wrought', 'wsofa', 'wth', 'wwwairbnbcomhlisetwin', 'x2', 'x4', 'x5', 'xbox', 'xdoubl', 'xii', 'xl', 'xma', 'y0utub', 'yard', 'ye', 'yea', 'year', 'years', 'yellow', 'yerd', 'yesterday', 'yet', 'yo', 'yoga', 'yoghurt', 'yoou', 'york', 'you', 'young', 'yourselv', 'youth', 'youtub', 'z3', 'zen', 'zephyr', 'zip', 'zonal', 'zone', 'zone1', 'zone2', 'zone3', 'zone6', 'zoo', 'çıkarın', 'вблизи', 'говорим', 'достопримечательностей', 'остановитесь', 'по', 'русски', 'самом', 'семьей', 'центре']\n"
     ]
    }
   ],
   "source": [
    "search_vocab = transformer.transformer_list[0][1].steps[2][1].get_feature_names() \n",
    "product_vocab = transformer.transformer_list[1][1].steps[2][1].get_feature_names()\n",
    "vocab = search_vocab + product_vocab\n",
    "\n",
    "print(vocab)"
   ]
  },
  {
   "cell_type": "code",
   "execution_count": 19,
   "id": "6c2efbc8",
   "metadata": {},
   "outputs": [],
   "source": [
    "tfidf_matrix = transformer.transform(df).toarray()"
   ]
  },
  {
   "cell_type": "code",
   "execution_count": 20,
   "id": "b3f40708",
   "metadata": {},
   "outputs": [
    {
     "name": "stdout",
     "output_type": "stream",
     "text": [
      "(1995, 7572) [0. 0. 0. ... 0. 0. 0.]\n"
     ]
    }
   ],
   "source": [
    "print( tfidf_matrix.shape, tfidf_matrix[5] )"
   ]
  },
  {
   "cell_type": "code",
   "execution_count": null,
   "id": "d6c018f1",
   "metadata": {},
   "outputs": [],
   "source": []
  },
  {
   "cell_type": "code",
   "execution_count": null,
   "id": "71c80adf",
   "metadata": {},
   "outputs": [],
   "source": []
  },
  {
   "cell_type": "code",
   "execution_count": null,
   "id": "8cfff54a",
   "metadata": {},
   "outputs": [],
   "source": []
  },
  {
   "cell_type": "code",
   "execution_count": null,
   "id": "15c432ae",
   "metadata": {},
   "outputs": [],
   "source": []
  },
  {
   "cell_type": "markdown",
   "id": "28f184c9",
   "metadata": {},
   "source": [
    "## Record Linkage using KNN"
   ]
  },
  {
   "cell_type": "code",
   "execution_count": 21,
   "id": "a067a4ce",
   "metadata": {},
   "outputs": [],
   "source": [
    "from sklearn.model_selection import train_test_split\n",
    "\n",
    "train, test = train_test_split(tfidf_matrix, test_size=0.2)"
   ]
  },
  {
   "cell_type": "code",
   "execution_count": 22,
   "id": "30b1b41d",
   "metadata": {},
   "outputs": [
    {
     "data": {
      "text/plain": [
       "(399, 7572)"
      ]
     },
     "execution_count": 22,
     "metadata": {},
     "output_type": "execute_result"
    }
   ],
   "source": [
    "test.shape"
   ]
  },
  {
   "cell_type": "code",
   "execution_count": 23,
   "id": "fbf55e8c",
   "metadata": {},
   "outputs": [],
   "source": [
    "from sklearn.neighbors import NearestNeighbors\n",
    "nbrs = NearestNeighbors(n_neighbors=1, n_jobs=-1, metric='cosine').fit(train)"
   ]
  },
  {
   "cell_type": "code",
   "execution_count": 24,
   "id": "21ca5ee0",
   "metadata": {},
   "outputs": [],
   "source": [
    "distances, indices = nbrs.kneighbors(tfidf_matrix)"
   ]
  },
  {
   "cell_type": "code",
   "execution_count": 25,
   "id": "748ce342",
   "metadata": {},
   "outputs": [
    {
     "data": {
      "text/plain": [
       "array([[1.11022302e-16],\n",
       "       [4.44089210e-16],\n",
       "       [7.36062567e-01],\n",
       "       ...,\n",
       "       [0.00000000e+00],\n",
       "       [6.37634556e-01],\n",
       "       [3.33066907e-16]])"
      ]
     },
     "execution_count": 25,
     "metadata": {},
     "output_type": "execute_result"
    }
   ],
   "source": [
    "distances"
   ]
  },
  {
   "cell_type": "code",
   "execution_count": 26,
   "id": "4c9a8c2c",
   "metadata": {},
   "outputs": [
    {
     "data": {
      "text/plain": [
       "array([[ 832],\n",
       "       [ 681],\n",
       "       [1539],\n",
       "       ...,\n",
       "       [ 362],\n",
       "       [1414],\n",
       "       [ 792]])"
      ]
     },
     "execution_count": 26,
     "metadata": {},
     "output_type": "execute_result"
    }
   ],
   "source": [
    "indices"
   ]
  },
  {
   "cell_type": "code",
   "execution_count": 27,
   "id": "00f59df5",
   "metadata": {},
   "outputs": [],
   "source": [
    "# For n_neighbors=1\n",
    "matches = []\n",
    "for i, j in enumerate(indices):\n",
    "    temp = [round(distances[i][0], 2), df.iloc[i]['name'], df.iloc[j]['name'], j]\n",
    "    matches.append(temp)\n",
    "\n",
    "matches = pd.DataFrame(matches, columns=[\n",
    "    'Match confidence (lower is better)',\n",
    "    'Original Name',\n",
    "    'Matched Name',\n",
    "    'Matched Index'\n",
    "])"
   ]
  },
  {
   "cell_type": "code",
   "execution_count": 28,
   "id": "e26f36cc",
   "metadata": {},
   "outputs": [
    {
     "data": {
      "text/html": [
       "<div>\n",
       "<style scoped>\n",
       "    .dataframe tbody tr th:only-of-type {\n",
       "        vertical-align: middle;\n",
       "    }\n",
       "\n",
       "    .dataframe tbody tr th {\n",
       "        vertical-align: top;\n",
       "    }\n",
       "\n",
       "    .dataframe thead th {\n",
       "        text-align: right;\n",
       "    }\n",
       "</style>\n",
       "<table border=\"1\" class=\"dataframe\">\n",
       "  <thead>\n",
       "    <tr style=\"text-align: right;\">\n",
       "      <th></th>\n",
       "      <th>Match confidence (lower is better)</th>\n",
       "      <th>Original Name</th>\n",
       "      <th>Matched Name</th>\n",
       "      <th>Matched Index</th>\n",
       "    </tr>\n",
       "  </thead>\n",
       "  <tbody>\n",
       "    <tr>\n",
       "      <th>0</th>\n",
       "      <td>0.00</td>\n",
       "      <td>Lovely private bedroom in Muswell Hill.</td>\n",
       "      <td>836    One-Bedroom Apartment in Nine Elms Zone...</td>\n",
       "      <td>[832]</td>\n",
       "    </tr>\n",
       "    <tr>\n",
       "      <th>1</th>\n",
       "      <td>0.00</td>\n",
       "      <td>Studio Flat  Franklin London</td>\n",
       "      <td>683    Super Appart, 20 s du metro\n",
       "Name: name,...</td>\n",
       "      <td>[681]</td>\n",
       "    </tr>\n",
       "    <tr>\n",
       "      <th>2</th>\n",
       "      <td>0.74</td>\n",
       "      <td>PropertyPlug - 2Bed Flat in Edgware SmartTV WiFi</td>\n",
       "      <td>1543    Modern Stratford 2 bed pad\n",
       "Name: name,...</td>\n",
       "      <td>[1539]</td>\n",
       "    </tr>\n",
       "    <tr>\n",
       "      <th>3</th>\n",
       "      <td>0.00</td>\n",
       "      <td>Wimbledon Double Bedroom Ensuite</td>\n",
       "      <td>1413    Double Kind Room-Clerkenwell-July 24th...</td>\n",
       "      <td>[1409]</td>\n",
       "    </tr>\n",
       "    <tr>\n",
       "      <th>4</th>\n",
       "      <td>0.59</td>\n",
       "      <td>Stunning Apartment 2 minutes walk to Tube Station</td>\n",
       "      <td>454    Cozy studio in the heart of Dalston\n",
       "Nam...</td>\n",
       "      <td>[452]</td>\n",
       "    </tr>\n",
       "    <tr>\n",
       "      <th>...</th>\n",
       "      <td>...</td>\n",
       "      <td>...</td>\n",
       "      <td>...</td>\n",
       "      <td>...</td>\n",
       "    </tr>\n",
       "    <tr>\n",
       "      <th>1990</th>\n",
       "      <td>0.00</td>\n",
       "      <td>Loft flat in Notting Hill</td>\n",
       "      <td>1320    Luxury 2 Bedroom Apartment on the Edge...</td>\n",
       "      <td>[1316]</td>\n",
       "    </tr>\n",
       "    <tr>\n",
       "      <th>1991</th>\n",
       "      <td>0.00</td>\n",
       "      <td>School conversion in Central London</td>\n",
       "      <td>342    Large Doble Room.\n",
       "Name: name, dtype: ob...</td>\n",
       "      <td>[342]</td>\n",
       "    </tr>\n",
       "    <tr>\n",
       "      <th>1992</th>\n",
       "      <td>0.00</td>\n",
       "      <td>En-suite Double Room in Twickenham</td>\n",
       "      <td>364    Buscos villa\n",
       "Name: name, dtype: object</td>\n",
       "      <td>[362]</td>\n",
       "    </tr>\n",
       "    <tr>\n",
       "      <th>1993</th>\n",
       "      <td>0.64</td>\n",
       "      <td>beautiful well presented 3 bedrooms</td>\n",
       "      <td>1418    Chelsea Studio Flat Apartment - Cosy a...</td>\n",
       "      <td>[1414]</td>\n",
       "    </tr>\n",
       "    <tr>\n",
       "      <th>1994</th>\n",
       "      <td>0.00</td>\n",
       "      <td>Double private room with bathroom</td>\n",
       "      <td>795    Twin Room convenient for Heathrow. Own ...</td>\n",
       "      <td>[792]</td>\n",
       "    </tr>\n",
       "  </tbody>\n",
       "</table>\n",
       "<p>1995 rows × 4 columns</p>\n",
       "</div>"
      ],
      "text/plain": [
       "      Match confidence (lower is better)  \\\n",
       "0                                   0.00   \n",
       "1                                   0.00   \n",
       "2                                   0.74   \n",
       "3                                   0.00   \n",
       "4                                   0.59   \n",
       "...                                  ...   \n",
       "1990                                0.00   \n",
       "1991                                0.00   \n",
       "1992                                0.00   \n",
       "1993                                0.64   \n",
       "1994                                0.00   \n",
       "\n",
       "                                          Original Name  \\\n",
       "0               Lovely private bedroom in Muswell Hill.   \n",
       "1                          Studio Flat  Franklin London   \n",
       "2      PropertyPlug - 2Bed Flat in Edgware SmartTV WiFi   \n",
       "3                      Wimbledon Double Bedroom Ensuite   \n",
       "4     Stunning Apartment 2 minutes walk to Tube Station   \n",
       "...                                                 ...   \n",
       "1990                          Loft flat in Notting Hill   \n",
       "1991                School conversion in Central London   \n",
       "1992                 En-suite Double Room in Twickenham   \n",
       "1993                beautiful well presented 3 bedrooms   \n",
       "1994                  Double private room with bathroom   \n",
       "\n",
       "                                           Matched Name Matched Index  \n",
       "0     836    One-Bedroom Apartment in Nine Elms Zone...         [832]  \n",
       "1     683    Super Appart, 20 s du metro\n",
       "Name: name,...         [681]  \n",
       "2     1543    Modern Stratford 2 bed pad\n",
       "Name: name,...        [1539]  \n",
       "3     1413    Double Kind Room-Clerkenwell-July 24th...        [1409]  \n",
       "4     454    Cozy studio in the heart of Dalston\n",
       "Nam...         [452]  \n",
       "...                                                 ...           ...  \n",
       "1990  1320    Luxury 2 Bedroom Apartment on the Edge...        [1316]  \n",
       "1991  342    Large Doble Room.\n",
       "Name: name, dtype: ob...         [342]  \n",
       "1992      364    Buscos villa\n",
       "Name: name, dtype: object         [362]  \n",
       "1993  1418    Chelsea Studio Flat Apartment - Cosy a...        [1414]  \n",
       "1994  795    Twin Room convenient for Heathrow. Own ...         [792]  \n",
       "\n",
       "[1995 rows x 4 columns]"
      ]
     },
     "execution_count": 28,
     "metadata": {},
     "output_type": "execute_result"
    }
   ],
   "source": [
    "matches"
   ]
  },
  {
   "cell_type": "code",
   "execution_count": 32,
   "id": "83088a86",
   "metadata": {},
   "outputs": [
    {
     "data": {
      "text/plain": [
       "array(['Double private room with bathroom',\n",
       "       'Private bedroom with its own.m bathroom available in modern building, with gym, cinema and pool, close to subway/ bus (2min) and Canary Wharf (5 min walk) next to Hilton Hotel, with easy and fast connections to the City and Central London. Several supermarkets/dry cleaning/shops/restaurant around the corner.  Washing machine, TV and cleaning lady incl. Prefer professionals  in Canary Wharf/City for 10 weeks to 24 months internships/work secondments in London.',\n",
       "       51.49743, -0.02018], dtype=object)"
      ]
     },
     "execution_count": 32,
     "metadata": {},
     "output_type": "execute_result"
    }
   ],
   "source": [
    "df.iloc[1994][['name', 'description', 'latitude', 'longitude']].values"
   ]
  },
  {
   "cell_type": "code",
   "execution_count": 31,
   "id": "c7477284",
   "metadata": {},
   "outputs": [
    {
     "data": {
      "text/plain": [
       "array(['Twin Room convenient for Heathrow. Own bathroom.',\n",
       "       'Large twin room with warm terracotta decor and sunny aspect at the front of the house. This room would suit two friends or siblings wishing to share a room but have their own single bed and have exclusive use of the bathroom with shower and bath. We are very close to South Ealing station and so is handy for Hammersmith and Central London as well as Heathrow. We have two friendly cats who are not allowed in the bedrooms! Lovely cafes and parks nearby. Parking is available at a low daily cost.',\n",
       "       51.50006, -0.30962], dtype=object)"
      ]
     },
     "execution_count": 31,
     "metadata": {},
     "output_type": "execute_result"
    }
   ],
   "source": [
    "df.iloc[792][['name', 'description', 'latitude', 'longitude']].values"
   ]
  },
  {
   "cell_type": "code",
   "execution_count": null,
   "id": "748b677a",
   "metadata": {},
   "outputs": [],
   "source": [
    "import math\n",
    "a = df.iloc[6808]['latitude'] - df.iloc[4318]['latitude']\n",
    "b = df.iloc[6808]['longitude'] - df.iloc[4318]['longitude']\n",
    "math.sqrt((a*a) - (b*b))"
   ]
  },
  {
   "cell_type": "code",
   "execution_count": null,
   "id": "31476778",
   "metadata": {},
   "outputs": [],
   "source": [
    "for i, j in enumerate(indices):\n",
    "    if i < 15:\n",
    "        continue\n",
    "    temp = [round(distances[i][0], 2), df.iloc[i]['name'], df.iloc[j]['name'], j]\n",
    "    print('Distance', round(distances[i][0], 2))\n",
    "    print('Original Record')\n",
    "    print(df.iloc[i]['name'])\n",
    "    print(df.iloc[i]['description'])\n",
    "    print('Matched Record')\n",
    "    print(df.iloc[j]['name'])\n",
    "    print(df.iloc[j]['description'])\n",
    "    print('Matched Index', j)\n",
    "    if i == 20:\n",
    "        break"
   ]
  },
  {
   "cell_type": "code",
   "execution_count": null,
   "id": "321bedc5",
   "metadata": {},
   "outputs": [],
   "source": [
    "df['latitude'].dtype"
   ]
  },
  {
   "cell_type": "code",
   "execution_count": null,
   "id": "d36070ac",
   "metadata": {},
   "outputs": [],
   "source": [
    "upper = corr_matrix.where(np.triu(np.ones(corr_matrix.shape), k=1).astype(np.bool))\n",
    "to_drop = [column for column in upper.columns if any(upper[column] > 0.90)]\n",
    "to_drop"
   ]
  },
  {
   "cell_type": "code",
   "execution_count": null,
   "id": "f79eb725",
   "metadata": {},
   "outputs": [],
   "source": [
    "# Drop columns id, scrape_id, maximum_minimum_nights, maximum_maximum_nights, minimum_nights_avg_ntm, maximum_nights_avg_ntm, last_scraped\n",
    "columns = ['id', \n",
    "           'scrape_id', \n",
    "           'maximum_minimum_nights', \n",
    "           'maximum_maximum_nights', \n",
    "           'minimum_nights_avg_ntm', \n",
    "           'maximum_nights_avg_ntm',\n",
    "          'last_scraped']\n",
    "df = df.drop(columns, axis=1)\n",
    "df"
   ]
  },
  {
   "cell_type": "code",
   "execution_count": null,
   "id": "7c199398",
   "metadata": {},
   "outputs": [],
   "source": []
  },
  {
   "cell_type": "code",
   "execution_count": null,
   "id": "e311b8ca",
   "metadata": {},
   "outputs": [],
   "source": [
    "df.dtypes"
   ]
  },
  {
   "cell_type": "code",
   "execution_count": null,
   "id": "b4391384",
   "metadata": {},
   "outputs": [],
   "source": [
    "numerics = ['int64', 'float64']\n",
    "numeric_columns = df.select_dtypes(include=numerics).columns"
   ]
  },
  {
   "cell_type": "code",
   "execution_count": null,
   "id": "154152a5",
   "metadata": {},
   "outputs": [],
   "source": [
    "numeric_columns"
   ]
  },
  {
   "cell_type": "code",
   "execution_count": null,
   "id": "a1151013",
   "metadata": {},
   "outputs": [],
   "source": [
    "# Analyze host_listings_count\n",
    "df['host_listings_count'].value_counts()"
   ]
  },
  {
   "cell_type": "code",
   "execution_count": null,
   "id": "82ab3728",
   "metadata": {},
   "outputs": [],
   "source": []
  }
 ],
 "metadata": {
  "hide_input": false,
  "kernelspec": {
   "display_name": "Python 3 (ipykernel)",
   "language": "python",
   "name": "python3"
  },
  "language_info": {
   "codemirror_mode": {
    "name": "ipython",
    "version": 3
   },
   "file_extension": ".py",
   "mimetype": "text/x-python",
   "name": "python",
   "nbconvert_exporter": "python",
   "pygments_lexer": "ipython3",
   "version": "3.8.13"
  },
  "toc": {
   "base_numbering": 1,
   "nav_menu": {},
   "number_sections": true,
   "sideBar": true,
   "skip_h1_title": false,
   "title_cell": "Table of Contents",
   "title_sidebar": "Contents",
   "toc_cell": false,
   "toc_position": {},
   "toc_section_display": true,
   "toc_window_display": false
  }
 },
 "nbformat": 4,
 "nbformat_minor": 5
}
